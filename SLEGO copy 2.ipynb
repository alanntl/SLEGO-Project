{
  "cells": [
    {
      "cell_type": "markdown",
      "metadata": {
        "id": "DlOV4N79Fwrf"
      },
      "source": [
        "# SLEGO Project: UNSW CSE PhD Research - Alan Siu Lung Ng\n",
        "https://github.com/alanntl/SLEGO-Project"
      ]
    },
    {
      "cell_type": "code",
      "execution_count": 1,
      "metadata": {},
      "outputs": [
        {
          "name": "stdout",
          "output_type": "stream",
          "text": [
            "Starting environment setup...\n",
            "Getting environment configuration...\n",
            "Detecting environment...\n",
            "Environment detected: Local Jupyter\n",
            "Setting up configuration for Local Jupyter environment.\n",
            "Configuration settings:\n",
            "  drive_mainfolder: /Users/an/Library/CloudStorage/OneDrive-Personal/Documents/GitHub/SLEGO-Project\n",
            "  drive_folder: /Users/an/Library/CloudStorage/OneDrive-Personal/Documents/GitHub\n",
            "  use_local_repo: True\n",
            "  local_repo_path: None\n",
            "  slego_env: /Users/an/Library/CloudStorage/OneDrive-Personal/Documents/GitHub/slego_env_v0_0_1\n",
            "  requirements_file: /Users/an/Library/CloudStorage/OneDrive-Personal/Documents/GitHub/SLEGO-Project/requirements.txt\n",
            "  folder_path: /Users/an/Library/CloudStorage/OneDrive-Personal/Documents/GitHub/SLEGO-Project/slegospace\n",
            "  dataspace: /Users/an/Library/CloudStorage/OneDrive-Personal/Documents/GitHub/SLEGO-Project/slegospace/dataspace\n",
            "  recordspace: /Users/an/Library/CloudStorage/OneDrive-Personal/Documents/GitHub/SLEGO-Project/slegospace/recordspace\n",
            "  functionspace: /Users/an/Library/CloudStorage/OneDrive-Personal/Documents/GitHub/SLEGO-Project/slegospace/functionspace\n",
            "  knowledgespace: /Users/an/Library/CloudStorage/OneDrive-Personal/Documents/GitHub/SLEGO-Project/slegospace/knowledgespace\n",
            "  ontologyspace: /Users/an/Library/CloudStorage/OneDrive-Personal/Documents/GitHub/SLEGO-Project/slegospace/ontologyspace\n",
            "Using existing repository; no action needed in setup_repository.\n",
            "Setting up workspace folders...\n",
            "Folder already exists: /Users/an/Library/CloudStorage/OneDrive-Personal/Documents/GitHub/SLEGO-Project/slegospace\n",
            "Folder already exists: /Users/an/Library/CloudStorage/OneDrive-Personal/Documents/GitHub/SLEGO-Project/slegospace/dataspace\n",
            "Folder already exists: /Users/an/Library/CloudStorage/OneDrive-Personal/Documents/GitHub/SLEGO-Project/slegospace/recordspace\n",
            "Folder already exists: /Users/an/Library/CloudStorage/OneDrive-Personal/Documents/GitHub/SLEGO-Project/slegospace/functionspace\n",
            "Folder already exists: /Users/an/Library/CloudStorage/OneDrive-Personal/Documents/GitHub/SLEGO-Project/slegospace/knowledgespace\n",
            "Folder already exists: /Users/an/Library/CloudStorage/OneDrive-Personal/Documents/GitHub/SLEGO-Project/slegospace/ontologyspace\n",
            "Working directory changed to: /Users/an/Library/CloudStorage/OneDrive-Personal/Documents/GitHub/SLEGO-Project/slegospace\n",
            "Detecting environment...\n",
            "Environment detected: Local Jupyter\n",
            "Environment setup completed.\n"
          ]
        }
      ],
      "source": [
        "# First, import the environment_setup module\n",
        "import environment_setup\n",
        "# Run the environment setup\n",
        "config = environment_setup.setup_environment()"
      ]
    },
    {
      "cell_type": "markdown",
      "metadata": {
        "id": "xaXV8VuIX15o"
      },
      "source": [
        "# SLEGO APP"
      ]
    },
    {
      "cell_type": "code",
      "execution_count": 2,
      "metadata": {},
      "outputs": [
        {
          "data": {
            "text/plain": [
              "{'drive_mainfolder': '/Users/an/Library/CloudStorage/OneDrive-Personal/Documents/GitHub/SLEGO-Project',\n",
              " 'drive_folder': '/Users/an/Library/CloudStorage/OneDrive-Personal/Documents/GitHub',\n",
              " 'use_local_repo': True,\n",
              " 'local_repo_path': None,\n",
              " 'slego_env': '/Users/an/Library/CloudStorage/OneDrive-Personal/Documents/GitHub/slego_env_v0_0_1',\n",
              " 'requirements_file': '/Users/an/Library/CloudStorage/OneDrive-Personal/Documents/GitHub/SLEGO-Project/requirements.txt',\n",
              " 'folder_path': '/Users/an/Library/CloudStorage/OneDrive-Personal/Documents/GitHub/SLEGO-Project/slegospace',\n",
              " 'dataspace': '/Users/an/Library/CloudStorage/OneDrive-Personal/Documents/GitHub/SLEGO-Project/slegospace/dataspace',\n",
              " 'recordspace': '/Users/an/Library/CloudStorage/OneDrive-Personal/Documents/GitHub/SLEGO-Project/slegospace/recordspace',\n",
              " 'functionspace': '/Users/an/Library/CloudStorage/OneDrive-Personal/Documents/GitHub/SLEGO-Project/slegospace/functionspace',\n",
              " 'knowledgespace': '/Users/an/Library/CloudStorage/OneDrive-Personal/Documents/GitHub/SLEGO-Project/slegospace/knowledgespace',\n",
              " 'ontologyspace': '/Users/an/Library/CloudStorage/OneDrive-Personal/Documents/GitHub/SLEGO-Project/slegospace/ontologyspace'}"
            ]
          },
          "metadata": {},
          "output_type": "display_data"
        }
      ],
      "source": [
        "display(config)"
      ]
    },
    {
      "cell_type": "code",
      "execution_count": null,
      "metadata": {},
      "outputs": [
        {
          "data": {
            "application/javascript": "(function(root) {\n  function now() {\n    return new Date();\n  }\n\n  var force = true;\n  var py_version = '3.4.1'.replace('rc', '-rc.').replace('.dev', '-dev.');\n  var reloading = false;\n  var Bokeh = root.Bokeh;\n\n  if (typeof (root._bokeh_timeout) === \"undefined\" || force) {\n    root._bokeh_timeout = Date.now() + 5000;\n    root._bokeh_failed_load = false;\n  }\n\n  function run_callbacks() {\n    try {\n      root._bokeh_onload_callbacks.forEach(function(callback) {\n        if (callback != null)\n          callback();\n      });\n    } finally {\n      delete root._bokeh_onload_callbacks;\n    }\n    console.debug(\"Bokeh: all callbacks have finished\");\n  }\n\n  function load_libs(css_urls, js_urls, js_modules, js_exports, callback) {\n    if (css_urls == null) css_urls = [];\n    if (js_urls == null) js_urls = [];\n    if (js_modules == null) js_modules = [];\n    if (js_exports == null) js_exports = {};\n\n    root._bokeh_onload_callbacks.push(callback);\n\n    if (root._bokeh_is_loading > 0) {\n      console.debug(\"Bokeh: BokehJS is being loaded, scheduling callback at\", now());\n      return null;\n    }\n    if (js_urls.length === 0 && js_modules.length === 0 && Object.keys(js_exports).length === 0) {\n      run_callbacks();\n      return null;\n    }\n    if (!reloading) {\n      console.debug(\"Bokeh: BokehJS not loaded, scheduling load and callback at\", now());\n    }\n\n    function on_load() {\n      root._bokeh_is_loading--;\n      if (root._bokeh_is_loading === 0) {\n        console.debug(\"Bokeh: all BokehJS libraries/stylesheets loaded\");\n        run_callbacks()\n      }\n    }\n    window._bokeh_on_load = on_load\n\n    function on_error() {\n      console.error(\"failed to load \" + url);\n    }\n\n    var skip = [];\n    if (window.requirejs) {\n      window.requirejs.config({'packages': {}, 'paths': {'ace': '//cdnjs.cloudflare.com/ajax/libs/ace/1.4.7', 'jsoneditor': '//cdn.jsdelivr.net/npm/jsoneditor@10.0.1/dist/jsoneditor.min', 'tabulator': 'https://cdn.jsdelivr.net/npm/tabulator-tables@5.5.0/dist/js/tabulator.min', 'moment': 'https://cdn.jsdelivr.net/npm/luxon/build/global/luxon.min'}, 'shim': {'ace/ext-language_tools': {'deps': ['ace/ace']}, 'ace/ext-modelist': {'deps': ['ace/ace']}, 'jsoneditor': {'exports': 'JSONEditor'}}});\n      require([\"ace/ace\"], function(ace) {\n\twindow.ace = ace\n\ton_load()\n      })\n      require([\"ace/ext-language_tools\"], function() {\n\ton_load()\n      })\n      require([\"ace/ext-modelist\"], function() {\n\ton_load()\n      })\n      require([\"jsoneditor\"], function(JSONEditor) {\n\twindow.JSONEditor = JSONEditor\n\ton_load()\n      })\n      require([\"tabulator\"], function(Tabulator) {\n\twindow.Tabulator = Tabulator\n\ton_load()\n      })\n      require([\"moment\"], function(moment) {\n\twindow.moment = moment\n\ton_load()\n      })\n      root._bokeh_is_loading = css_urls.length + 6;\n    } else {\n      root._bokeh_is_loading = css_urls.length + js_urls.length + js_modules.length + Object.keys(js_exports).length;\n    }\n\n    var existing_stylesheets = []\n    var links = document.getElementsByTagName('link')\n    for (var i = 0; i < links.length; i++) {\n      var link = links[i]\n      if (link.href != null) {\n\texisting_stylesheets.push(link.href)\n      }\n    }\n    for (var i = 0; i < css_urls.length; i++) {\n      var url = css_urls[i];\n      if (existing_stylesheets.indexOf(url) !== -1) {\n\ton_load()\n\tcontinue;\n      }\n      const element = document.createElement(\"link\");\n      element.onload = on_load;\n      element.onerror = on_error;\n      element.rel = \"stylesheet\";\n      element.type = \"text/css\";\n      element.href = url;\n      console.debug(\"Bokeh: injecting link tag for BokehJS stylesheet: \", url);\n      document.body.appendChild(element);\n    }    if (((window.ace !== undefined) && (!(window.ace instanceof HTMLElement))) || window.requirejs) {\n      var urls = ['https://cdnjs.cloudflare.com/ajax/libs/ace/1.4.11/ace.js', 'https://cdnjs.cloudflare.com/ajax/libs/ace/1.4.11/ext-language_tools.js', 'https://cdnjs.cloudflare.com/ajax/libs/ace/1.4.11/ext-modelist.js'];\n      for (var i = 0; i < urls.length; i++) {\n        skip.push(urls[i])\n      }\n    }    if (((window.JSONEditor !== undefined) && (!(window.JSONEditor instanceof HTMLElement))) || window.requirejs) {\n      var urls = ['https://cdn.holoviz.org/panel/1.4.5/dist/bundled/jsoneditor/jsoneditor@10.0.1/dist/jsoneditor.min.js'];\n      for (var i = 0; i < urls.length; i++) {\n        skip.push(urls[i])\n      }\n    }    if (((window.Tabulator !== undefined) && (!(window.Tabulator instanceof HTMLElement))) || window.requirejs) {\n      var urls = ['https://cdn.holoviz.org/panel/1.4.5/dist/bundled/datatabulator/tabulator-tables@5.5.0/dist/js/tabulator.min.js'];\n      for (var i = 0; i < urls.length; i++) {\n        skip.push(urls[i])\n      }\n    }    if (((window.moment !== undefined) && (!(window.moment instanceof HTMLElement))) || window.requirejs) {\n      var urls = ['https://cdn.holoviz.org/panel/1.4.5/dist/bundled/datatabulator/luxon/build/global/luxon.min.js'];\n      for (var i = 0; i < urls.length; i++) {\n        skip.push(urls[i])\n      }\n    }    var existing_scripts = []\n    var scripts = document.getElementsByTagName('script')\n    for (var i = 0; i < scripts.length; i++) {\n      var script = scripts[i]\n      if (script.src != null) {\n\texisting_scripts.push(script.src)\n      }\n    }\n    for (var i = 0; i < js_urls.length; i++) {\n      var url = js_urls[i];\n      if (skip.indexOf(url) !== -1 || existing_scripts.indexOf(url) !== -1) {\n\tif (!window.requirejs) {\n\t  on_load();\n\t}\n\tcontinue;\n      }\n      var element = document.createElement('script');\n      element.onload = on_load;\n      element.onerror = on_error;\n      element.async = false;\n      element.src = url;\n      console.debug(\"Bokeh: injecting script tag for BokehJS library: \", url);\n      document.head.appendChild(element);\n    }\n    for (var i = 0; i < js_modules.length; i++) {\n      var url = js_modules[i];\n      if (skip.indexOf(url) !== -1 || existing_scripts.indexOf(url) !== -1) {\n\tif (!window.requirejs) {\n\t  on_load();\n\t}\n\tcontinue;\n      }\n      var element = document.createElement('script');\n      element.onload = on_load;\n      element.onerror = on_error;\n      element.async = false;\n      element.src = url;\n      element.type = \"module\";\n      console.debug(\"Bokeh: injecting script tag for BokehJS library: \", url);\n      document.head.appendChild(element);\n    }\n    for (const name in js_exports) {\n      var url = js_exports[name];\n      if (skip.indexOf(url) >= 0 || root[name] != null) {\n\tif (!window.requirejs) {\n\t  on_load();\n\t}\n\tcontinue;\n      }\n      var element = document.createElement('script');\n      element.onerror = on_error;\n      element.async = false;\n      element.type = \"module\";\n      console.debug(\"Bokeh: injecting script tag for BokehJS library: \", url);\n      element.textContent = `\n      import ${name} from \"${url}\"\n      window.${name} = ${name}\n      window._bokeh_on_load()\n      `\n      document.head.appendChild(element);\n    }\n    if (!js_urls.length && !js_modules.length) {\n      on_load()\n    }\n  };\n\n  function inject_raw_css(css) {\n    const element = document.createElement(\"style\");\n    element.appendChild(document.createTextNode(css));\n    document.body.appendChild(element);\n  }\n\n  var js_urls = [\"https://cdnjs.cloudflare.com/ajax/libs/ace/1.4.11/ace.js\", \"https://cdnjs.cloudflare.com/ajax/libs/ace/1.4.11/ext-language_tools.js\", \"https://cdnjs.cloudflare.com/ajax/libs/ace/1.4.11/ext-modelist.js\", \"https://cdn.holoviz.org/panel/1.4.5/dist/bundled/jsoneditor/jsoneditor@10.0.1/dist/jsoneditor.min.js\", \"https://cdn.holoviz.org/panel/1.4.5/dist/bundled/datatabulator/tabulator-tables@5.5.0/dist/js/tabulator.min.js\", \"https://cdn.holoviz.org/panel/1.4.5/dist/bundled/datatabulator/luxon/build/global/luxon.min.js\", \"https://cdn.bokeh.org/bokeh/release/bokeh-3.4.1.min.js\", \"https://cdn.bokeh.org/bokeh/release/bokeh-gl-3.4.1.min.js\", \"https://cdn.bokeh.org/bokeh/release/bokeh-widgets-3.4.1.min.js\", \"https://cdn.bokeh.org/bokeh/release/bokeh-tables-3.4.1.min.js\", \"https://cdn.holoviz.org/panel/1.4.5/dist/panel.min.js\"];\n  var js_modules = [];\n  var js_exports = {};\n  var css_urls = [\"https://cdn.holoviz.org/panel/1.4.5/dist/bundled/jsoneditor/jsoneditor@10.0.1/dist/jsoneditor.min.css?v=1.4.5\", \"https://cdn.holoviz.org/panel/1.4.5/dist/bundled/datatabulator/tabulator-tables@5.5.0/dist/css/tabulator_simple.min.css?v=1.4.5\"];\n  var inline_js = [    function(Bokeh) {\n      Bokeh.set_log_level(\"info\");\n    },\nfunction(Bokeh) {} // ensure no trailing comma for IE\n  ];\n\n  function run_inline_js() {\n    if ((root.Bokeh !== undefined) || (force === true)) {\n      for (var i = 0; i < inline_js.length; i++) {\n\ttry {\n          inline_js[i].call(root, root.Bokeh);\n\t} catch(e) {\n\t  if (!reloading) {\n\t    throw e;\n\t  }\n\t}\n      }\n      // Cache old bokeh versions\n      if (Bokeh != undefined && !reloading) {\n\tvar NewBokeh = root.Bokeh;\n\tif (Bokeh.versions === undefined) {\n\t  Bokeh.versions = new Map();\n\t}\n\tif (NewBokeh.version !== Bokeh.version) {\n\t  Bokeh.versions.set(NewBokeh.version, NewBokeh)\n\t}\n\troot.Bokeh = Bokeh;\n      }} else if (Date.now() < root._bokeh_timeout) {\n      setTimeout(run_inline_js, 100);\n    } else if (!root._bokeh_failed_load) {\n      console.log(\"Bokeh: BokehJS failed to load within specified timeout.\");\n      root._bokeh_failed_load = true;\n    }\n    root._bokeh_is_initializing = false\n  }\n\n  function load_or_wait() {\n    // Implement a backoff loop that tries to ensure we do not load multiple\n    // versions of Bokeh and its dependencies at the same time.\n    // In recent versions we use the root._bokeh_is_initializing flag\n    // to determine whether there is an ongoing attempt to initialize\n    // bokeh, however for backward compatibility we also try to ensure\n    // that we do not start loading a newer (Panel>=1.0 and Bokeh>3) version\n    // before older versions are fully initialized.\n    if (root._bokeh_is_initializing && Date.now() > root._bokeh_timeout) {\n      root._bokeh_is_initializing = false;\n      root._bokeh_onload_callbacks = undefined;\n      console.log(\"Bokeh: BokehJS was loaded multiple times but one version failed to initialize.\");\n      load_or_wait();\n    } else if (root._bokeh_is_initializing || (typeof root._bokeh_is_initializing === \"undefined\" && root._bokeh_onload_callbacks !== undefined)) {\n      setTimeout(load_or_wait, 100);\n    } else {\n      root._bokeh_is_initializing = true\n      root._bokeh_onload_callbacks = []\n      var bokeh_loaded = Bokeh != null && (Bokeh.version === py_version || (Bokeh.versions !== undefined && Bokeh.versions.has(py_version)));\n      if (!reloading && !bokeh_loaded) {\n\troot.Bokeh = undefined;\n      }\n      load_libs(css_urls, js_urls, js_modules, js_exports, function() {\n\tconsole.debug(\"Bokeh: BokehJS plotting callback run at\", now());\n\trun_inline_js();\n      });\n    }\n  }\n  // Give older versions of the autoload script a head-start to ensure\n  // they initialize before we start loading newer version.\n  setTimeout(load_or_wait, 100)\n}(window));",
            "application/vnd.holoviews_load.v0+json": ""
          },
          "metadata": {},
          "output_type": "display_data"
        },
        {
          "data": {
            "application/javascript": "\nif ((window.PyViz === undefined) || (window.PyViz instanceof HTMLElement)) {\n  window.PyViz = {comms: {}, comm_status:{}, kernels:{}, receivers: {}, plot_index: []}\n}\n\n\n    function JupyterCommManager() {\n    }\n\n    JupyterCommManager.prototype.register_target = function(plot_id, comm_id, msg_handler) {\n      if (window.comm_manager || ((window.Jupyter !== undefined) && (Jupyter.notebook.kernel != null))) {\n        var comm_manager = window.comm_manager || Jupyter.notebook.kernel.comm_manager;\n        comm_manager.register_target(comm_id, function(comm) {\n          comm.on_msg(msg_handler);\n        });\n      } else if ((plot_id in window.PyViz.kernels) && (window.PyViz.kernels[plot_id])) {\n        window.PyViz.kernels[plot_id].registerCommTarget(comm_id, function(comm) {\n          comm.onMsg = msg_handler;\n        });\n      } else if (typeof google != 'undefined' && google.colab.kernel != null) {\n        google.colab.kernel.comms.registerTarget(comm_id, (comm) => {\n          var messages = comm.messages[Symbol.asyncIterator]();\n          function processIteratorResult(result) {\n            var message = result.value;\n            console.log(message)\n            var content = {data: message.data, comm_id};\n            var buffers = []\n            for (var buffer of message.buffers || []) {\n              buffers.push(new DataView(buffer))\n            }\n            var metadata = message.metadata || {};\n            var msg = {content, buffers, metadata}\n            msg_handler(msg);\n            return messages.next().then(processIteratorResult);\n          }\n          return messages.next().then(processIteratorResult);\n        })\n      }\n    }\n\n    JupyterCommManager.prototype.get_client_comm = function(plot_id, comm_id, msg_handler) {\n      if (comm_id in window.PyViz.comms) {\n        return window.PyViz.comms[comm_id];\n      } else if (window.comm_manager || ((window.Jupyter !== undefined) && (Jupyter.notebook.kernel != null))) {\n        var comm_manager = window.comm_manager || Jupyter.notebook.kernel.comm_manager;\n        var comm = comm_manager.new_comm(comm_id, {}, {}, {}, comm_id);\n        if (msg_handler) {\n          comm.on_msg(msg_handler);\n        }\n      } else if ((plot_id in window.PyViz.kernels) && (window.PyViz.kernels[plot_id])) {\n        var comm = window.PyViz.kernels[plot_id].connectToComm(comm_id);\n        comm.open();\n        if (msg_handler) {\n          comm.onMsg = msg_handler;\n        }\n      } else if (typeof google != 'undefined' && google.colab.kernel != null) {\n        var comm_promise = google.colab.kernel.comms.open(comm_id)\n        comm_promise.then((comm) => {\n          window.PyViz.comms[comm_id] = comm;\n          if (msg_handler) {\n            var messages = comm.messages[Symbol.asyncIterator]();\n            function processIteratorResult(result) {\n              var message = result.value;\n              var content = {data: message.data};\n              var metadata = message.metadata || {comm_id};\n              var msg = {content, metadata}\n              msg_handler(msg);\n              return messages.next().then(processIteratorResult);\n            }\n            return messages.next().then(processIteratorResult);\n          }\n        }) \n        var sendClosure = (data, metadata, buffers, disposeOnDone) => {\n          return comm_promise.then((comm) => {\n            comm.send(data, metadata, buffers, disposeOnDone);\n          });\n        };\n        var comm = {\n          send: sendClosure\n        };\n      }\n      window.PyViz.comms[comm_id] = comm;\n      return comm;\n    }\n    window.PyViz.comm_manager = new JupyterCommManager();\n    \n\n\nvar JS_MIME_TYPE = 'application/javascript';\nvar HTML_MIME_TYPE = 'text/html';\nvar EXEC_MIME_TYPE = 'application/vnd.holoviews_exec.v0+json';\nvar CLASS_NAME = 'output';\n\n/**\n * Render data to the DOM node\n */\nfunction render(props, node) {\n  var div = document.createElement(\"div\");\n  var script = document.createElement(\"script\");\n  node.appendChild(div);\n  node.appendChild(script);\n}\n\n/**\n * Handle when a new output is added\n */\nfunction handle_add_output(event, handle) {\n  var output_area = handle.output_area;\n  var output = handle.output;\n  if ((output.data == undefined) || (!output.data.hasOwnProperty(EXEC_MIME_TYPE))) {\n    return\n  }\n  var id = output.metadata[EXEC_MIME_TYPE][\"id\"];\n  var toinsert = output_area.element.find(\".\" + CLASS_NAME.split(' ')[0]);\n  if (id !== undefined) {\n    var nchildren = toinsert.length;\n    var html_node = toinsert[nchildren-1].children[0];\n    html_node.innerHTML = output.data[HTML_MIME_TYPE];\n    var scripts = [];\n    var nodelist = html_node.querySelectorAll(\"script\");\n    for (var i in nodelist) {\n      if (nodelist.hasOwnProperty(i)) {\n        scripts.push(nodelist[i])\n      }\n    }\n\n    scripts.forEach( function (oldScript) {\n      var newScript = document.createElement(\"script\");\n      var attrs = [];\n      var nodemap = oldScript.attributes;\n      for (var j in nodemap) {\n        if (nodemap.hasOwnProperty(j)) {\n          attrs.push(nodemap[j])\n        }\n      }\n      attrs.forEach(function(attr) { newScript.setAttribute(attr.name, attr.value) });\n      newScript.appendChild(document.createTextNode(oldScript.innerHTML));\n      oldScript.parentNode.replaceChild(newScript, oldScript);\n    });\n    if (JS_MIME_TYPE in output.data) {\n      toinsert[nchildren-1].children[1].textContent = output.data[JS_MIME_TYPE];\n    }\n    output_area._hv_plot_id = id;\n    if ((window.Bokeh !== undefined) && (id in Bokeh.index)) {\n      window.PyViz.plot_index[id] = Bokeh.index[id];\n    } else {\n      window.PyViz.plot_index[id] = null;\n    }\n  } else if (output.metadata[EXEC_MIME_TYPE][\"server_id\"] !== undefined) {\n    var bk_div = document.createElement(\"div\");\n    bk_div.innerHTML = output.data[HTML_MIME_TYPE];\n    var script_attrs = bk_div.children[0].attributes;\n    for (var i = 0; i < script_attrs.length; i++) {\n      toinsert[toinsert.length - 1].childNodes[1].setAttribute(script_attrs[i].name, script_attrs[i].value);\n    }\n    // store reference to server id on output_area\n    output_area._bokeh_server_id = output.metadata[EXEC_MIME_TYPE][\"server_id\"];\n  }\n}\n\n/**\n * Handle when an output is cleared or removed\n */\nfunction handle_clear_output(event, handle) {\n  var id = handle.cell.output_area._hv_plot_id;\n  var server_id = handle.cell.output_area._bokeh_server_id;\n  if (((id === undefined) || !(id in PyViz.plot_index)) && (server_id !== undefined)) { return; }\n  var comm = window.PyViz.comm_manager.get_client_comm(\"hv-extension-comm\", \"hv-extension-comm\", function () {});\n  if (server_id !== null) {\n    comm.send({event_type: 'server_delete', 'id': server_id});\n    return;\n  } else if (comm !== null) {\n    comm.send({event_type: 'delete', 'id': id});\n  }\n  delete PyViz.plot_index[id];\n  if ((window.Bokeh !== undefined) & (id in window.Bokeh.index)) {\n    var doc = window.Bokeh.index[id].model.document\n    doc.clear();\n    const i = window.Bokeh.documents.indexOf(doc);\n    if (i > -1) {\n      window.Bokeh.documents.splice(i, 1);\n    }\n  }\n}\n\n/**\n * Handle kernel restart event\n */\nfunction handle_kernel_cleanup(event, handle) {\n  delete PyViz.comms[\"hv-extension-comm\"];\n  window.PyViz.plot_index = {}\n}\n\n/**\n * Handle update_display_data messages\n */\nfunction handle_update_output(event, handle) {\n  handle_clear_output(event, {cell: {output_area: handle.output_area}})\n  handle_add_output(event, handle)\n}\n\nfunction register_renderer(events, OutputArea) {\n  function append_mime(data, metadata, element) {\n    // create a DOM node to render to\n    var toinsert = this.create_output_subarea(\n    metadata,\n    CLASS_NAME,\n    EXEC_MIME_TYPE\n    );\n    this.keyboard_manager.register_events(toinsert);\n    // Render to node\n    var props = {data: data, metadata: metadata[EXEC_MIME_TYPE]};\n    render(props, toinsert[0]);\n    element.append(toinsert);\n    return toinsert\n  }\n\n  events.on('output_added.OutputArea', handle_add_output);\n  events.on('output_updated.OutputArea', handle_update_output);\n  events.on('clear_output.CodeCell', handle_clear_output);\n  events.on('delete.Cell', handle_clear_output);\n  events.on('kernel_ready.Kernel', handle_kernel_cleanup);\n\n  OutputArea.prototype.register_mime_type(EXEC_MIME_TYPE, append_mime, {\n    safe: true,\n    index: 0\n  });\n}\n\nif (window.Jupyter !== undefined) {\n  try {\n    var events = require('base/js/events');\n    var OutputArea = require('notebook/js/outputarea').OutputArea;\n    if (OutputArea.prototype.mime_types().indexOf(EXEC_MIME_TYPE) == -1) {\n      register_renderer(events, OutputArea);\n    }\n  } catch(err) {\n  }\n}\n",
            "application/vnd.holoviews_load.v0+json": ""
          },
          "metadata": {},
          "output_type": "display_data"
        },
        {
          "data": {
            "text/html": [
              "<style>*[data-root-id],\n",
              "*[data-root-id] > * {\n",
              "  box-sizing: border-box;\n",
              "  font-family: var(--jp-ui-font-family);\n",
              "  font-size: var(--jp-ui-font-size1);\n",
              "  color: var(--vscode-editor-foreground, var(--jp-ui-font-color1));\n",
              "}\n",
              "\n",
              "/* Override VSCode background color */\n",
              ".cell-output-ipywidget-background:has(\n",
              "    > .cell-output-ipywidget-background > .lm-Widget > *[data-root-id]\n",
              "  ),\n",
              ".cell-output-ipywidget-background:has(> .lm-Widget > *[data-root-id]) {\n",
              "  background-color: transparent !important;\n",
              "}\n",
              "</style>"
            ]
          },
          "metadata": {},
          "output_type": "display_data"
        },
        {
          "data": {
            "application/vnd.holoviews_exec.v0+json": "",
            "text/html": [
              "<div id='2020fa47-2e16-419c-a51d-16447818bafd'>\n",
              "  <div id=\"dbf19533-05f7-4311-81f0-70b39f0474bc\" data-root-id=\"2020fa47-2e16-419c-a51d-16447818bafd\" style=\"display: contents;\"></div>\n",
              "</div>\n",
              "<script type=\"application/javascript\">(function(root) {\n",
              "  var docs_json = {\"7e6d1476-2a58-4d1d-b56f-01b716d6a468\":{\"version\":\"3.4.1\",\"title\":\"Bokeh Application\",\"roots\":[{\"type\":\"object\",\"name\":\"panel.models.browser.BrowserInfo\",\"id\":\"2020fa47-2e16-419c-a51d-16447818bafd\"},{\"type\":\"object\",\"name\":\"panel.models.comm_manager.CommManager\",\"id\":\"12870d46-75e1-4c8a-b072-2b096ee43e0a\",\"attributes\":{\"plot_id\":\"2020fa47-2e16-419c-a51d-16447818bafd\",\"comm_id\":\"935ab462043f4c5ab8c6d3f29d1b4050\",\"client_comm_id\":\"707ebc2ce8da48d2b782fb98dda167a4\"}}],\"defs\":[{\"type\":\"model\",\"name\":\"ReactiveHTML1\"},{\"type\":\"model\",\"name\":\"FlexBox1\",\"properties\":[{\"name\":\"align_content\",\"kind\":\"Any\",\"default\":\"flex-start\"},{\"name\":\"align_items\",\"kind\":\"Any\",\"default\":\"flex-start\"},{\"name\":\"flex_direction\",\"kind\":\"Any\",\"default\":\"row\"},{\"name\":\"flex_wrap\",\"kind\":\"Any\",\"default\":\"wrap\"},{\"name\":\"gap\",\"kind\":\"Any\",\"default\":\"\"},{\"name\":\"justify_content\",\"kind\":\"Any\",\"default\":\"flex-start\"}]},{\"type\":\"model\",\"name\":\"FloatPanel1\",\"properties\":[{\"name\":\"config\",\"kind\":\"Any\",\"default\":{\"type\":\"map\"}},{\"name\":\"contained\",\"kind\":\"Any\",\"default\":true},{\"name\":\"position\",\"kind\":\"Any\",\"default\":\"right-top\"},{\"name\":\"offsetx\",\"kind\":\"Any\",\"default\":null},{\"name\":\"offsety\",\"kind\":\"Any\",\"default\":null},{\"name\":\"theme\",\"kind\":\"Any\",\"default\":\"primary\"},{\"name\":\"status\",\"kind\":\"Any\",\"default\":\"normalized\"}]},{\"type\":\"model\",\"name\":\"GridStack1\",\"properties\":[{\"name\":\"mode\",\"kind\":\"Any\",\"default\":\"warn\"},{\"name\":\"ncols\",\"kind\":\"Any\",\"default\":null},{\"name\":\"nrows\",\"kind\":\"Any\",\"default\":null},{\"name\":\"allow_resize\",\"kind\":\"Any\",\"default\":true},{\"name\":\"allow_drag\",\"kind\":\"Any\",\"default\":true},{\"name\":\"state\",\"kind\":\"Any\",\"default\":[]}]},{\"type\":\"model\",\"name\":\"drag1\",\"properties\":[{\"name\":\"slider_width\",\"kind\":\"Any\",\"default\":5},{\"name\":\"slider_color\",\"kind\":\"Any\",\"default\":\"black\"},{\"name\":\"value\",\"kind\":\"Any\",\"default\":50}]},{\"type\":\"model\",\"name\":\"click1\",\"properties\":[{\"name\":\"terminal_output\",\"kind\":\"Any\",\"default\":\"\"},{\"name\":\"debug_name\",\"kind\":\"Any\",\"default\":\"\"},{\"name\":\"clears\",\"kind\":\"Any\",\"default\":0}]},{\"type\":\"model\",\"name\":\"FastWrapper1\",\"properties\":[{\"name\":\"object\",\"kind\":\"Any\",\"default\":null},{\"name\":\"style\",\"kind\":\"Any\",\"default\":null}]},{\"type\":\"model\",\"name\":\"NotificationAreaBase1\",\"properties\":[{\"name\":\"js_events\",\"kind\":\"Any\",\"default\":{\"type\":\"map\"}},{\"name\":\"position\",\"kind\":\"Any\",\"default\":\"bottom-right\"},{\"name\":\"_clear\",\"kind\":\"Any\",\"default\":0}]},{\"type\":\"model\",\"name\":\"NotificationArea1\",\"properties\":[{\"name\":\"js_events\",\"kind\":\"Any\",\"default\":{\"type\":\"map\"}},{\"name\":\"notifications\",\"kind\":\"Any\",\"default\":[]},{\"name\":\"position\",\"kind\":\"Any\",\"default\":\"bottom-right\"},{\"name\":\"_clear\",\"kind\":\"Any\",\"default\":0},{\"name\":\"types\",\"kind\":\"Any\",\"default\":[{\"type\":\"map\",\"entries\":[[\"type\",\"warning\"],[\"background\",\"#ffc107\"],[\"icon\",{\"type\":\"map\",\"entries\":[[\"className\",\"fas fa-exclamation-triangle\"],[\"tagName\",\"i\"],[\"color\",\"white\"]]}]]},{\"type\":\"map\",\"entries\":[[\"type\",\"info\"],[\"background\",\"#007bff\"],[\"icon\",{\"type\":\"map\",\"entries\":[[\"className\",\"fas fa-info-circle\"],[\"tagName\",\"i\"],[\"color\",\"white\"]]}]]}]}]},{\"type\":\"model\",\"name\":\"Notification\",\"properties\":[{\"name\":\"background\",\"kind\":\"Any\",\"default\":null},{\"name\":\"duration\",\"kind\":\"Any\",\"default\":3000},{\"name\":\"icon\",\"kind\":\"Any\",\"default\":null},{\"name\":\"message\",\"kind\":\"Any\",\"default\":\"\"},{\"name\":\"notification_type\",\"kind\":\"Any\",\"default\":null},{\"name\":\"_destroyed\",\"kind\":\"Any\",\"default\":false}]},{\"type\":\"model\",\"name\":\"TemplateActions1\",\"properties\":[{\"name\":\"open_modal\",\"kind\":\"Any\",\"default\":0},{\"name\":\"close_modal\",\"kind\":\"Any\",\"default\":0}]},{\"type\":\"model\",\"name\":\"BootstrapTemplateActions1\",\"properties\":[{\"name\":\"open_modal\",\"kind\":\"Any\",\"default\":0},{\"name\":\"close_modal\",\"kind\":\"Any\",\"default\":0}]},{\"type\":\"model\",\"name\":\"TemplateEditor1\",\"properties\":[{\"name\":\"layout\",\"kind\":\"Any\",\"default\":[]}]},{\"type\":\"model\",\"name\":\"MaterialTemplateActions1\",\"properties\":[{\"name\":\"open_modal\",\"kind\":\"Any\",\"default\":0},{\"name\":\"close_modal\",\"kind\":\"Any\",\"default\":0}]},{\"type\":\"model\",\"name\":\"copy_to_clipboard1\",\"properties\":[{\"name\":\"fill\",\"kind\":\"Any\",\"default\":\"none\"},{\"name\":\"value\",\"kind\":\"Any\",\"default\":null}]}]}};\n",
              "  var render_items = [{\"docid\":\"7e6d1476-2a58-4d1d-b56f-01b716d6a468\",\"roots\":{\"2020fa47-2e16-419c-a51d-16447818bafd\":\"dbf19533-05f7-4311-81f0-70b39f0474bc\"},\"root_ids\":[\"2020fa47-2e16-419c-a51d-16447818bafd\"]}];\n",
              "  var docs = Object.values(docs_json)\n",
              "  if (!docs) {\n",
              "    return\n",
              "  }\n",
              "  const py_version = docs[0].version.replace('rc', '-rc.').replace('.dev', '-dev.')\n",
              "  async function embed_document(root) {\n",
              "    var Bokeh = get_bokeh(root)\n",
              "    await Bokeh.embed.embed_items_notebook(docs_json, render_items);\n",
              "    for (const render_item of render_items) {\n",
              "      for (const root_id of render_item.root_ids) {\n",
              "\tconst id_el = document.getElementById(root_id)\n",
              "\tif (id_el.children.length && id_el.children[0].hasAttribute('data-root-id')) {\n",
              "\t  const root_el = id_el.children[0]\n",
              "\t  root_el.id = root_el.id + '-rendered'\n",
              "\t  for (const child of root_el.children) {\n",
              "            // Ensure JupyterLab does not capture keyboard shortcuts\n",
              "            // see: https://jupyterlab.readthedocs.io/en/4.1.x/extension/notebook.html#keyboard-interaction-model\n",
              "\t    child.setAttribute('data-lm-suppress-shortcuts', 'true')\n",
              "\t  }\n",
              "\t}\n",
              "      }\n",
              "    }\n",
              "  }\n",
              "  function get_bokeh(root) {\n",
              "    if (root.Bokeh === undefined) {\n",
              "      return null\n",
              "    } else if (root.Bokeh.version !== py_version) {\n",
              "      if (root.Bokeh.versions === undefined || !root.Bokeh.versions.has(py_version)) {\n",
              "\treturn null\n",
              "      }\n",
              "      return root.Bokeh.versions.get(py_version);\n",
              "    } else if (root.Bokeh.version === py_version) {\n",
              "      return root.Bokeh\n",
              "    }\n",
              "    return null\n",
              "  }\n",
              "  function is_loaded(root) {\n",
              "    var Bokeh = get_bokeh(root)\n",
              "    return (Bokeh != null && Bokeh.Panel !== undefined && ( root.Tabulator !== undefined) && ( root.Tabulator !== undefined))\n",
              "  }\n",
              "  if (is_loaded(root)) {\n",
              "    embed_document(root);\n",
              "  } else {\n",
              "    var attempts = 0;\n",
              "    var timer = setInterval(function(root) {\n",
              "      if (is_loaded(root)) {\n",
              "        clearInterval(timer);\n",
              "        embed_document(root);\n",
              "      } else if (document.readyState == \"complete\") {\n",
              "        attempts++;\n",
              "        if (attempts > 200) {\n",
              "          clearInterval(timer);\n",
              "\t  var Bokeh = get_bokeh(root)\n",
              "\t  if (Bokeh == null || Bokeh.Panel == null) {\n",
              "            console.warn(\"Panel: ERROR: Unable to run Panel code because Bokeh or Panel library is missing\");\n",
              "\t  } else {\n",
              "\t    console.warn(\"Panel: WARNING: Attempting to render but not all required libraries could be resolved.\")\n",
              "\t    embed_document(root)\n",
              "\t  }\n",
              "        }\n",
              "      }\n",
              "    }, 25, root)\n",
              "  }\n",
              "})(window);</script>"
            ]
          },
          "metadata": {
            "application/vnd.holoviews_exec.v0+json": {
              "id": "2020fa47-2e16-419c-a51d-16447818bafd"
            }
          },
          "output_type": "display_data"
        },
        {
          "name": "stderr",
          "output_type": "stream",
          "text": [
            "INFO:slegoapp:Initializing SLEGOApp...\n",
            "INFO:slegoapp:Configuration paths:\n",
            "INFO:slegoapp:  folder_path: /Users/an/Library/CloudStorage/OneDrive-Personal/Documents/GitHub/SLEGO-Project/slegospace\n",
            "INFO:slegoapp:  functionspace: /Users/an/Library/CloudStorage/OneDrive-Personal/Documents/GitHub/SLEGO-Project/slegospace/functionspace\n",
            "INFO:slegoapp:  dataspace: /Users/an/Library/CloudStorage/OneDrive-Personal/Documents/GitHub/SLEGO-Project/slegospace/dataspace\n",
            "INFO:slegoapp:  recordspace: /Users/an/Library/CloudStorage/OneDrive-Personal/Documents/GitHub/SLEGO-Project/slegospace/recordspace\n",
            "INFO:slegoapp:  knowledgespace: /Users/an/Library/CloudStorage/OneDrive-Personal/Documents/GitHub/SLEGO-Project/slegospace/knowledgespace\n",
            "INFO:slegoapp:  ontologyspace: /Users/an/Library/CloudStorage/OneDrive-Personal/Documents/GitHub/SLEGO-Project/slegospace/ontologyspace\n",
            "INFO:slegoapp:Initializing widgets...\n",
            "INFO:slegoapp:Python files available for selection: ['f-sentiment_analysis.py', 'func_autogluon.py', 'func_moving_avg_plot.py', 'f-regression.py', 'f-anomalydetection.py', 'Minhua_trial.py', 'func_financecom.py', 'util.py', 'func_covid19.py', 'llm.py', 'func_data_preprocss.py', 'func_viz.py', 'f-irisclustering.py', 'func_arxiv.py', 'func_eda.py', 'webscrape.py', 'func_hfd.py', 'func_backtest.py', 'func_uci_dataset.py', 'f-image_classificaiton.py', 'func_yfinance.py']\n",
            "INFO:slegoapp:Creating file table...\n",
            "INFO:slegoapp:Selected folder path: /Users/an/Library/CloudStorage/OneDrive-Personal/Documents/GitHub/SLEGO-Project/slegospace/dataspace\n",
            "INFO:slegoapp:Files in /Users/an/Library/CloudStorage/OneDrive-Personal/Documents/GitHub/SLEGO-Project/slegospace/dataspace: ['AttentionIsAllYouNeed.pdf', 'AirQuality.csv', 'text_classification_model.pkl', 'dataset_return.csv', 'preprocessed_AirQuality.csv', 'covid19_forecast.csv', 'cifar10_data.npz', 'latest_papers.csv', 'covid19_preprocessed.csv', 'papers', 'anomaly_plot.html', 'anomalies.csv', 'autogluon_predict.csv', 'iris_clusters_plot.html', 'val.csv', 'test.csv', 'AirQualityUCI.csv', 'air_quality_anomalies.csv', 'prepared_dataset_tabular_ml.csv', 'output_webscrape.txt', 'housing_dataset.csv', 'covid19_data.csv', 'prophet_model.pkl', 'sklearn_regression_performance.txt', 'performance_autogluon.txt', 'sklearn_regression_model.pkl', 'text_predictions.csv', 'text_classification_performance.txt', 'iris_dataset.csv', 'air_quality_anomaly_plot.html', 'train.csv', 'cifar10_images', 'covid19_forecast.html', 'autogluon_model.pkl', 'movie_reviews.csv', 'dataset.csv', 'dataset_plot.html', 'iris_clusters.csv']\n",
            "INFO:slegoapp:Widgets initialized.\n",
            "INFO:slegoapp:Setting up func module...\n",
            "INFO:slegoapp:Updating functions for selected modules: ['func_yfinance.py']\n",
            "INFO:slegoapp:Function combobox updated based on the selected modules.\n",
            "INFO:slegoapp:Setting up event handlers...\n",
            "INFO:slegoapp:Event handlers set up.\n",
            "INFO:slegoapp:Creating layout...\n",
            "INFO:slegoapp:Layout created.\n",
            "INFO:slegoapp:SLEGOApp initialized.\n",
            "INFO:slegoapp:Running the app...\n",
            "INFO:bokeh.server.server:Starting Bokeh server version 3.4.1 (running on Tornado 6.4.1)\n",
            "INFO:bokeh.server.tornado:User authentication hooks NOT provided (default user enabled)\n",
            "INFO:slegoapp:App is running in non-Colab environment.\n"
          ]
        },
        {
          "name": "stdout",
          "output_type": "stream",
          "text": [
            "Launching server at http://localhost:51353\n"
          ]
        },
        {
          "name": "stderr",
          "output_type": "stream",
          "text": [
            "INFO:tornado.access:200 GET / (::1) 101.74ms\n",
            "INFO:tornado.access:200 GET /static/extensions/panel/bundled/jsoneditor/jsoneditor@10.0.1/dist/jsoneditor.min.css?v=1.4.5 (::1) 0.79ms\n",
            "INFO:tornado.access:200 GET /static/extensions/panel/bundled/datatabulator/tabulator-tables@5.5.0/dist/css/tabulator_materialize.min.css?v=1.4.5 (::1) 0.52ms\n",
            "INFO:tornado.access:200 GET /static/js/bokeh-gl.min.js?v=16b01ef75f511f8f198a5482526dda37a8dd2890780e67cfac172b1f7444025a816e31ebaf03be07bd1f1be7530357f039deae1e67bf13e34c7d8621070b9a40 (::1) 0.51ms\n",
            "INFO:tornado.access:200 GET /static/extensions/panel/bundled/datatabulator/luxon/build/global/luxon.min.js (::1) 2.37ms\n",
            "INFO:tornado.access:200 GET /static/js/bokeh-widgets.min.js?v=896b45817f242212a2758406f43054652a991a1255bba2fdd808e728c9e0bde29c2b7320602f2c24238021e8726d2385b56cf20b60223d610e1cfffad9655cd8 (::1) 0.62ms\n",
            "INFO:tornado.access:200 GET /static/js/bokeh-tables.min.js?v=4ef7c086bf94cc39a83637c54054e783a9c9a0b096d50cf18dce79912cfa413a8b9d4c4a7846124cb93b4fe00ea8007ae98213ba56bd731d081989ac1c17dd81 (::1) 1.96ms\n",
            "INFO:tornado.access:200 GET /static/extensions/panel/panel.min.js?v=6c2906ba8ee98ee2fe96712bd552abc490c7d847b686180f7d054bab534e4685 (::1) 3.34ms\n",
            "INFO:tornado.access:200 GET /static/extensions/panel/bundled/datatabulator/tabulator-tables@5.5.0/dist/js/tabulator.min.js (::1) 8.63ms\n",
            "INFO:tornado.access:200 GET /static/js/bokeh.min.js?v=887e6bace8d80f5c1555c1913f730061c2d73acb83adb7f4ccf2ef02ffc7e5e864f7b1c97db9a4f6643a1431700d65e2686759f5c4bb1ac92631e8b659ceead3 (::1) 10.10ms\n",
            "INFO:tornado.access:200 GET /static/extensions/panel/css/loadingspinner.css?v=1.4.5 (::1) 2.49ms\n",
            "INFO:tornado.access:200 GET /static/extensions/panel/css/listpanel.css?v=1.4.5 (::1) 1.78ms\n",
            "INFO:tornado.access:200 GET /static/extensions/panel/css/select.css?v=1.4.5 (::1) 2.54ms\n",
            "INFO:tornado.access:200 GET /static/extensions/panel/css/button.css?v=1.4.5 (::1) 2.43ms\n",
            "INFO:tornado.access:200 GET /static/extensions/panel/bundled/jsoneditor/jsoneditor@10.0.1/dist/jsoneditor.min.js (::1) 17.50ms\n",
            "INFO:tornado.access:200 GET /static/extensions/panel/css/divider.css?v=1.4.5 (::1) 1.77ms\n",
            "INFO:tornado.access:200 GET /static/extensions/panel/bundled/font-awesome/css/all.min.css?v=1.4.5 (::1) 2.61ms\n",
            "INFO:tornado.access:200 GET /static/extensions/panel/css/loading.css?v=1.4.5 (::1) 2.37ms\n",
            "INFO:tornado.access:200 GET /static/extensions/panel/bundled/material-components-web@7.0.0/dist/material-components-web.min.css (::1) 4.02ms\n",
            "INFO:tornado.access:200 GET /static/extensions/panel/bundled/theme/default.css?v=1.4.5 (::1) 4.21ms\n",
            "INFO:tornado.access:200 GET /static/extensions/panel/bundled/theme/material_variables.css?v=1.4.5 (::1) 5.26ms\n",
            "INFO:tornado.access:200 GET /static/extensions/panel/bundled/materialtemplate/material.css?v=1.4.5 (::1) 1.92ms\n",
            "INFO:tornado.access:200 GET /static/extensions/panel/bundled/material-components-web@7.0.0/dist/material-components-web.min.js (::1) 1.79ms\n",
            "INFO:tornado.access:200 GET /static/extensions/panel/images/favicon.ico (::1) 0.54ms\n",
            "INFO:tornado.access:101 GET /ws (::1) 0.35ms\n",
            "INFO:bokeh.server.views.ws:WebSocket connection opened\n",
            "INFO:bokeh.server.views.ws:ServerConnection created\n",
            "INFO:tornado.access:200 GET /static/extensions/panel/bundled/theme/material.css?v=1.4.5 (::1) 0.71ms\n",
            "INFO:tornado.access:200 GET /static/extensions/panel/bundled/jsoneditor/jsoneditor@10.0.1/dist/img/jsoneditor-icons.svg (::1) 1.25ms\n",
            "INFO:slegoapp:RDF graph loaded successfully with 39 triples.\n",
            "INFO:slegoapp:Graph saved as '/Users/an/Library/CloudStorage/OneDrive-Personal/Documents/GitHub/SLEGO-Project/slegospace/ontologyspace/hfd_subgraph.html' and opened in browser.\n"
          ]
        },
        {
          "name": "stdout",
          "output_type": "stream",
          "text": [
            "Warning: When  cdn_resources is 'local' jupyter notebook has issues displaying graphics on chrome/safari. Use cdn_resources='in_line' or cdn_resources='remote' if you have issues viewing graphics in a notebook.\n"
          ]
        },
        {
          "name": "stderr",
          "output_type": "stream",
          "text": [
            "INFO:slegoapp:RDF graph loaded successfully with 39 triples.\n",
            "INFO:slegoapp:Graph saved as '/Users/an/Library/CloudStorage/OneDrive-Personal/Documents/GitHub/SLEGO-Project/slegospace/ontologyspace/hfd_subgraph.html' and opened in browser.\n"
          ]
        },
        {
          "name": "stdout",
          "output_type": "stream",
          "text": [
            "Warning: When  cdn_resources is 'local' jupyter notebook has issues displaying graphics on chrome/safari. Use cdn_resources='in_line' or cdn_resources='remote' if you have issues viewing graphics in a notebook.\n"
          ]
        },
        {
          "name": "stderr",
          "output_type": "stream",
          "text": [
            "INFO:slegoapp:RDF graph loaded successfully with 39 triples.\n",
            "INFO:slegoapp:Graph saved as '/Users/an/Library/CloudStorage/OneDrive-Personal/Documents/GitHub/SLEGO-Project/slegospace/ontologyspace/hfd_subgraph.html' and opened in browser.\n"
          ]
        },
        {
          "name": "stdout",
          "output_type": "stream",
          "text": [
            "Warning: When  cdn_resources is 'local' jupyter notebook has issues displaying graphics on chrome/safari. Use cdn_resources='in_line' or cdn_resources='remote' if you have issues viewing graphics in a notebook.\n"
          ]
        },
        {
          "name": "stderr",
          "output_type": "stream",
          "text": [
            "INFO:slegoapp:RDF graph loaded successfully with 39 triples.\n",
            "INFO:slegoapp:Graph saved as '/Users/an/Library/CloudStorage/OneDrive-Personal/Documents/GitHub/SLEGO-Project/slegospace/ontologyspace/hfd_subgraph.html' and opened in browser.\n"
          ]
        },
        {
          "name": "stdout",
          "output_type": "stream",
          "text": [
            "Warning: When  cdn_resources is 'local' jupyter notebook has issues displaying graphics on chrome/safari. Use cdn_resources='in_line' or cdn_resources='remote' if you have issues viewing graphics in a notebook.\n"
          ]
        },
        {
          "name": "stderr",
          "output_type": "stream",
          "text": [
            "INFO:slegoapp:RDF graph loaded successfully with 39 triples.\n",
            "INFO:slegoapp:Graph saved as '/Users/an/Library/CloudStorage/OneDrive-Personal/Documents/GitHub/SLEGO-Project/slegospace/ontologyspace/hfd_subgraph.html' and opened in browser.\n"
          ]
        },
        {
          "name": "stdout",
          "output_type": "stream",
          "text": [
            "Warning: When  cdn_resources is 'local' jupyter notebook has issues displaying graphics on chrome/safari. Use cdn_resources='in_line' or cdn_resources='remote' if you have issues viewing graphics in a notebook.\n"
          ]
        }
      ],
      "source": [
        "import slegoapp\n",
        "import panel as pn\n",
        "\n",
        "# Kill all existing servers\n",
        "pn.state.kill_all_servers()\n",
        "\n",
        "# Create and run the new app\n",
        "slego_app = slegoapp.SLEGOApp(config)\n",
        "slego_app.run()"
      ]
    },
    {
      "cell_type": "code",
      "execution_count": 4,
      "metadata": {},
      "outputs": [
        {
          "name": "stdout",
          "output_type": "stream",
          "text": [
            "[('subject', rdflib.term.URIRef('http://example.org/class/IntradayMetric')), ('type', rdflib.term.URIRef('http://example.org/class/Measure'))]\n",
            "[('subject', rdflib.term.URIRef('http://example.org/class/Liquidity')), ('type', rdflib.term.URIRef('http://example.org/class/Measure'))]\n",
            "[('subject', rdflib.term.URIRef('http://example.org/class/Price')), ('type', rdflib.term.URIRef('http://example.org/class/Measure'))]\n",
            "[('subject', rdflib.term.URIRef('http://example.org/class/DollarVolumeTraded')), ('type', rdflib.term.URIRef('http://example.org/class/Measure'))]\n",
            "[('subject', rdflib.term.URIRef('http://example.org/class/ShareVolumeTraded')), ('type', rdflib.term.URIRef('http://example.org/class/Measure'))]\n",
            "[('subject', rdflib.term.URIRef('http://example.org/class/AveragePrice')), ('type', rdflib.term.URIRef('http://example.org/class/Measure'))]\n",
            "[('subject', rdflib.term.URIRef('http://example.org/class/VWAP')), ('type', rdflib.term.URIRef('http://example.org/class/Measure'))]\n",
            "[('subject', rdflib.term.URIRef('http://example.org/class/Direction')), ('type', rdflib.term.URIRef('http://example.org/class/Variable'))]\n",
            "[('subject', rdflib.term.URIRef('http://example.org/class/TradePrice')), ('type', rdflib.term.URIRef('http://example.org/class/Variable'))]\n",
            "[('subject', rdflib.term.URIRef('http://example.org/class/Volume')), ('type', rdflib.term.URIRef('http://example.org/class/Variable'))]\n",
            "[('subject', rdflib.term.URIRef('http://example.org/class/calc_avg')), ('type', rdflib.term.URIRef('http://example.org/class/Microservice'))]\n",
            "[('subject', rdflib.term.URIRef('http://example.org/class/calc_doll_vol')), ('type', rdflib.term.URIRef('http://example.org/class/Microservice'))]\n",
            "[('subject', rdflib.term.URIRef('http://example.org/class/calc_share_vol')), ('type', rdflib.term.URIRef('http://example.org/class/Microservice'))]\n",
            "[('subject', rdflib.term.URIRef('http://example.org/class/calc_vwap')), ('type', rdflib.term.URIRef('http://example.org/class/Microservice'))]\n",
            "[('subject', rdflib.term.URIRef('http://example.org/class/TickData')), ('type', rdflib.term.URIRef('http://example.org/class/DataSet'))]\n",
            "[('subject', rdflib.term.URIRef('http://example.org/class/RefinitivDataScope')), ('type', rdflib.term.URIRef('http://example.org/class/DataSource'))]\n"
          ]
        }
      ],
      "source": [
        "import rdflib\n",
        "\n",
        "def query_rdf_file(file_path, query):\n",
        "\n",
        "    \"\"\"\n",
        "    Load an RDF Turtle file and execute a SPARQL query on it.\n",
        "\n",
        "    Args:\n",
        "        file_path (str): The path to the Turtle (.ttl) RDF file.\n",
        "        query (str): The SPARQL query string.\n",
        "\n",
        "    Returns:\n",
        "        list: A list of results from the SPARQL query.\n",
        "    \"\"\"\n",
        "    # Step 1: Create a graph and parse the Turtle file\n",
        "    g = rdflib.Graph()\n",
        "    \n",
        "    try:\n",
        "        g.parse(file_path, format=\"turtle\")\n",
        "    except Exception as e:\n",
        "        print(f\"Failed to parse file: {e}\")\n",
        "        return []\n",
        "\n",
        "    # Step 2: Execute the query\n",
        "    try:\n",
        "        results = g.query(query)\n",
        "    except Exception as e:\n",
        "        print(f\"Failed to execute query: {e}\")\n",
        "        return []\n",
        "\n",
        "    # Step 3: Process the results\n",
        "    result_list = []\n",
        "    \n",
        "    # Loop through each result row dynamically\n",
        "    for row in results:\n",
        "        row_data = []\n",
        "        for var in row.labels.keys():  # Access the variable names\n",
        "            row_data.append((var, getattr(row, var, None)))  # Get the value for each variable\n",
        "        result_list.append(row_data)\n",
        "        print(row_data)  # Printing the result for each row\n",
        "\n",
        "    return result_list\n",
        "\n",
        "\n",
        "# Example Usage:\n",
        "file_path = \"slegospace/ontologyspace/hfd.ttl\"  # Replace with your file path\n",
        "query = \"\"\"\n",
        "PREFIX rdf: <http://www.w3.org/1999/02/22-rdf-syntax-ns#>\n",
        "\n",
        "SELECT DISTINCT ?subject ?type\n",
        "WHERE {\n",
        "    ?subject rdf:type ?type .\n",
        "}\n",
        "\"\"\"\n",
        "\n",
        "# Call the function\n",
        "results = query_rdf_file(file_path, query)\n"
      ]
    },
    {
      "cell_type": "code",
      "execution_count": 44,
      "metadata": {},
      "outputs": [],
      "source": [
        "import rdflib\n",
        "\n",
        "def query_rdf_file(file_path, query):\n",
        "\n",
        "    \"\"\"\n",
        "    Load an RDF Turtle file and execute a SPARQL query on it.\n",
        "\n",
        "    Args:\n",
        "        file_path (str): The path to the Turtle (.ttl) RDF file.\n",
        "        query (str): The SPARQL query string.\n",
        "\n",
        "    Returns:\n",
        "        list: A list of results from the SPARQL query.\n",
        "    \"\"\"\n",
        "    # Step 1: Create a graph and parse the Turtle file\n",
        "    g = rdflib.Graph()\n",
        "    \n",
        "    try:\n",
        "        g.parse(file_path, format=\"turtle\")\n",
        "    except Exception as e:\n",
        "        print(f\"Failed to parse file: {e}\")\n",
        "        return []\n",
        "\n",
        "    # Step 2: Execute the query\n",
        "    try:\n",
        "        results = g.query(query)\n",
        "    except Exception as e:\n",
        "        print(f\"Failed to execute query: {e}\")\n",
        "        return []\n",
        "\n",
        "    # Step 3: Process the results\n",
        "    result_list = []\n",
        "    \n",
        "    # Loop through each result row dynamically\n",
        "    for row in results:\n",
        "        row_data = []\n",
        "        for var in row.labels.keys():  # Access the variable names\n",
        "            row_data.append((var, getattr(row, var, None)))  # Get the value for each variable\n",
        "        result_list.append(row_data)\n",
        "        print(row_data)  # Printing the result for each row\n",
        "\n",
        "    return result_list\n",
        "\n",
        "\n",
        "\n",
        "import rdflib\n",
        "import networkx as nx\n",
        "import matplotlib.pyplot as plt\n",
        "\n",
        "def get_local_name(uri):\n",
        "    \"\"\"\n",
        "    Extract the local name from a URI.\n",
        "\n",
        "    Args:\n",
        "        uri (str or rdflib.term.URIRef): The full URI.\n",
        "\n",
        "    Returns:\n",
        "        str: The local name extracted from the URI.\n",
        "    \"\"\"\n",
        "    if isinstance(uri, rdflib.term.URIRef):\n",
        "        uri = str(uri)\n",
        "    if '#' in uri:\n",
        "        return uri.split('#')[-1]\n",
        "    elif '/' in uri:\n",
        "        return uri.rstrip('/').split('/')[-1]\n",
        "    else:\n",
        "        return uri  # Return as is if no separator is found\n",
        "\n",
        "def visualize_query_results(results):\n",
        "    \"\"\"\n",
        "    Visualize SPARQL query results as a directed graph with simplified labels.\n",
        "\n",
        "    Args:\n",
        "        results (list): A list of query result rows.\n",
        "                        Each row is a list of (variable_name, value) tuples.\n",
        "\n",
        "    Returns:\n",
        "        None: Displays the graph using matplotlib.\n",
        "    \"\"\"\n",
        "    G = nx.DiGraph()\n",
        "    nodes = set()\n",
        "\n",
        "    for row in results:\n",
        "        row_dict = dict(row)\n",
        "        vars_in_row = row_dict.keys()\n",
        "\n",
        "        if {'subject', 'predicate', 'object'}.issubset(vars_in_row):\n",
        "            subj = get_local_name(row_dict['subject'])\n",
        "            pred = get_local_name(row_dict['predicate'])\n",
        "            obj = get_local_name(row_dict['object'])\n",
        "            nodes.update([subj, obj])\n",
        "            G.add_edge(subj, obj, label=pred)\n",
        "        elif {'subject', 'object'}.issubset(vars_in_row):\n",
        "            subj = get_local_name(row_dict['subject'])\n",
        "            obj = get_local_name(row_dict['object'])\n",
        "            nodes.update([subj, obj])\n",
        "            G.add_edge(subj, obj)\n",
        "        elif {'microservice', 'inputVariable'}.issubset(vars_in_row):\n",
        "            microservice = get_local_name(row_dict['microservice'])\n",
        "            input_var = get_local_name(row_dict['inputVariable'])\n",
        "            nodes.update([microservice, input_var])\n",
        "            G.add_edge(input_var, microservice, label='msInput')\n",
        "        elif {'measure', 'microservice'}.issubset(vars_in_row):\n",
        "            measure = get_local_name(row_dict['measure'])\n",
        "            microservice = get_local_name(row_dict['microservice'])\n",
        "            nodes.update([measure, microservice])\n",
        "            G.add_edge(microservice, measure, label='msOutput')\n",
        "        elif {'measure', 'measuredBy'}.issubset(vars_in_row):\n",
        "            measure = get_local_name(row_dict['measure'])\n",
        "            measured_by = get_local_name(row_dict['measuredBy'])\n",
        "            nodes.update([measure, measured_by])\n",
        "            G.add_edge(measure, measured_by, label='measuredBy')\n",
        "        elif {'predicate', 'object'}.issubset(vars_in_row):\n",
        "            # Assuming a fixed subject in the context (e.g., Liquidity)\n",
        "            subject = get_local_name('http://example.org/class/Liquidity')  # Replace with appropriate subject if needed\n",
        "            pred = get_local_name(row_dict['predicate'])\n",
        "            obj = get_local_name(row_dict['object'])\n",
        "            nodes.update([subject, obj])\n",
        "            G.add_edge(subject, obj, label=pred)\n",
        "        else:\n",
        "            # Generic handling: connect all variables in the row\n",
        "            vars_list = list(vars_in_row)\n",
        "            for i in range(len(vars_list) - 1):\n",
        "                node1 = get_local_name(row_dict[vars_list[i]])\n",
        "                node2 = get_local_name(row_dict[vars_list[i+1]])\n",
        "                nodes.update([node1, node2])\n",
        "                G.add_edge(node1, node2)\n",
        "\n",
        "    # Draw the graph\n",
        "    pos = nx.spring_layout(G, k=0.5, iterations=50)\n",
        "\n",
        "    edge_labels = nx.get_edge_attributes(G, 'label')\n",
        "\n",
        "    plt.figure(figsize=(12, 8))\n",
        "    nx.draw(G, pos, with_labels=True, node_size=2000, node_color='lightblue', arrowsize=20, font_size=10)\n",
        "    nx.draw_networkx_edge_labels(G, pos, edge_labels=edge_labels, font_color='red', font_size=8)\n",
        "    plt.title(\"Graph Visualization of SPARQL Query Results\")\n",
        "    plt.show()\n",
        "\n"
      ]
    },
    {
      "cell_type": "code",
      "execution_count": 45,
      "metadata": {},
      "outputs": [
        {
          "name": "stdout",
          "output_type": "stream",
          "text": [
            "[('subject', rdflib.term.URIRef('http://example.org/class/Liquidity')), ('predicate', rdflib.term.URIRef('http://example.org/link/measuredBy')), ('object', rdflib.term.URIRef('http://example.org/class/DollarVolumeTraded'))]\n",
            "[('subject', rdflib.term.URIRef('http://example.org/class/Liquidity')), ('predicate', rdflib.term.URIRef('http://example.org/link/measuredBy')), ('object', rdflib.term.URIRef('http://example.org/class/ShareVolumeTraded'))]\n",
            "[('subject', rdflib.term.URIRef('http://example.org/class/Liquidity')), ('predicate', rdflib.term.URIRef('http://www.w3.org/1999/02/22-rdf-syntax-ns#type')), ('object', rdflib.term.URIRef('http://example.org/class/Measure'))]\n"
          ]
        },
        {
          "data": {
            "image/png": "[encoded data removed]",
            "text/plain": [
              "<Figure size 1200x800 with 1 Axes>"
            ]
          },
          "metadata": {},
          "output_type": "display_data"
        }
      ],
      "source": [
        "query = \"\"\"\n",
        "PREFIX dbr: <http://example.org/class/>\n",
        "PREFIX rdf1: <http://example.org/link/>\n",
        "\n",
        "SELECT DISTINCT ?subject ?predicate ?object\n",
        "WHERE {\n",
        "    ?subject ?predicate ?object .\n",
        "    FILTER(?subject = dbr:Liquidity)\n",
        "}\n",
        "\n",
        "\"\"\"\n",
        "\n",
        "# \n",
        "# Assume you have run a SPARQL query and have results\n",
        "results = query_rdf_file(file_path, query)\n",
        "\n",
        "# Visualize the results\n",
        "visualize_query_results(results)\n"
      ]
    },
    {
      "cell_type": "markdown",
      "metadata": {},
      "source": []
    }
  ],
  "metadata": {
    "colab": {
      "include_colab_link": true,
      "provenance": []
    },
    "kernelspec": {
      "display_name": "Python 3",
      "name": "python3"
    },
    "language_info": {
      "codemirror_mode": {
        "name": "ipython",
        "version": 3
      },
      "file_extension": ".py",
      "mimetype": "text/x-python",
      "name": "python",
      "nbconvert_exporter": "python",
      "pygments_lexer": "ipython3",
      "version": "3.10.14"
    }
  },
  "nbformat": 4,
  "nbformat_minor": 0
}
