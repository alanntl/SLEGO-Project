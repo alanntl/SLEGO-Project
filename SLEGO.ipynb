{
  "cells": [
    {
      "cell_type": "markdown",
      "metadata": {
        "id": "DlOV4N79Fwrf"
      },
      "source": [
        "# SLEGO Project: UNSW CSE PhD Research - Alan Siu Lung Ng\n",
        "https://github.com/alanntl/SLEGO-Project"
      ]
    },
    {
      "cell_type": "code",
      "execution_count": 13,
      "metadata": {},
      "outputs": [
        {
          "name": "stderr",
          "output_type": "stream",
          "text": [
            "INFO:root:Starting environment setup...\n",
            "INFO:root:Environment detected: Jupyter Notebook or JupyterLab\n",
            "INFO:root:Setting up configuration for Local or GitHub Codespaces or Jupyter environment.\n",
            "INFO:root:Configuration settings: {'use_local_repo': True, 'local_repo_path': '/Users/an/Library/CloudStorage/OneDrive-Personal/Documents/GitHub/SLEGO-Project', 'drive_folder': '/Users/an/Library/CloudStorage/OneDrive-Personal/Documents/GitHub/SLEGO-Project', 'drive_mainfolder': '/Users/an/Library/CloudStorage/OneDrive-Personal/Documents/GitHub/SLEGO-Project', 'folder_path': '/Users/an/Library/CloudStorage/OneDrive-Personal/Documents/GitHub/SLEGO-Project', 'dataspace': '/Users/an/Library/CloudStorage/OneDrive-Personal/Documents/GitHub/SLEGO-Project/dataspace', 'recordspace': '/Users/an/Library/CloudStorage/OneDrive-Personal/Documents/GitHub/SLEGO-Project/recordspace', 'functionspace': '/Users/an/Library/CloudStorage/OneDrive-Personal/Documents/GitHub/SLEGO-Project/functionspace', 'knowledgespace': '/Users/an/Library/CloudStorage/OneDrive-Personal/Documents/GitHub/SLEGO-Project/knowledgespace', 'ontologyspace': '/Users/an/Library/CloudStorage/OneDrive-Personal/Documents/GitHub/SLEGO-Project/ontologyspace', 'temp': '/Users/an/Library/CloudStorage/OneDrive-Personal/Documents/GitHub/SLEGO-Project/temp'}\n",
            "INFO:root:Already in a valid workspace. No changes needed.\n",
            "INFO:root:Environment setup completed.\n"
          ]
        }
      ],
      "source": [
        "# First, import the environment_setup module\n",
        "import environment_setup\n",
        "import os\n",
        "# see current filder\n",
        "os.getcwd()\n",
        "repo_path = os.getcwd()\n",
        "\n",
        "# Setup environment with explicit local_repo_patSorah\n",
        "config = environment_setup.setup_environment(use_local_repo=True, local_repo_path=repo_path)\n",
        "# Now you can use the config object to access the environment settings\n",
        "\n"
      ]
    },
    {
      "cell_type": "markdown",
      "metadata": {
        "id": "xaXV8VuIX15o"
      },
      "source": [
        "# SLEGO APP"
      ]
    },
    {
      "cell_type": "code",
      "execution_count": 14,
      "metadata": {},
      "outputs": [
        {
          "data": {
            "text/plain": [
              "{'use_local_repo': True,\n",
              " 'local_repo_path': '/Users/an/Library/CloudStorage/OneDrive-Personal/Documents/GitHub/SLEGO-Project',\n",
              " 'drive_folder': '/Users/an/Library/CloudStorage/OneDrive-Personal/Documents/GitHub/SLEGO-Project',\n",
              " 'drive_mainfolder': '/Users/an/Library/CloudStorage/OneDrive-Personal/Documents/GitHub/SLEGO-Project',\n",
              " 'folder_path': '/Users/an/Library/CloudStorage/OneDrive-Personal/Documents/GitHub/SLEGO-Project',\n",
              " 'dataspace': '/Users/an/Library/CloudStorage/OneDrive-Personal/Documents/GitHub/SLEGO-Project/dataspace',\n",
              " 'recordspace': '/Users/an/Library/CloudStorage/OneDrive-Personal/Documents/GitHub/SLEGO-Project/recordspace',\n",
              " 'functionspace': '/Users/an/Library/CloudStorage/OneDrive-Personal/Documents/GitHub/SLEGO-Project/functionspace',\n",
              " 'knowledgespace': '/Users/an/Library/CloudStorage/OneDrive-Personal/Documents/GitHub/SLEGO-Project/knowledgespace',\n",
              " 'ontologyspace': '/Users/an/Library/CloudStorage/OneDrive-Personal/Documents/GitHub/SLEGO-Project/ontologyspace',\n",
              " 'temp': '/Users/an/Library/CloudStorage/OneDrive-Personal/Documents/GitHub/SLEGO-Project/temp'}"
            ]
          },
          "metadata": {},
          "output_type": "display_data"
        }
      ],
      "source": [
        "#if jupyter use display , else print\n",
        "if 'get_ipython' in globals():\n",
        "    from IPython.display import display\n",
        "    display(config)\n",
        "else:\n",
        "    print(config)"
      ]
    },
    {
      "cell_type": "code",
      "execution_count": 15,
      "metadata": {},
      "outputs": [
        {
          "name": "stderr",
          "output_type": "stream",
          "text": [
            "INFO:slegoapp:Initializing SLEGOApp...\n",
            "INFO:slegoapp:Configuration paths:\n",
            "INFO:slegoapp:  folder_path: /Users/an/Library/CloudStorage/OneDrive-Personal/Documents/GitHub/SLEGO-Project\n",
            "INFO:slegoapp:  functionspace: /Users/an/Library/CloudStorage/OneDrive-Personal/Documents/GitHub/SLEGO-Project/functionspace\n",
            "INFO:slegoapp:  dataspace: /Users/an/Library/CloudStorage/OneDrive-Personal/Documents/GitHub/SLEGO-Project/dataspace\n",
            "INFO:slegoapp:  recordspace: /Users/an/Library/CloudStorage/OneDrive-Personal/Documents/GitHub/SLEGO-Project/recordspace\n",
            "INFO:slegoapp:  knowledgespace: /Users/an/Library/CloudStorage/OneDrive-Personal/Documents/GitHub/SLEGO-Project/knowledgespace\n",
            "INFO:slegoapp:  ontologyspace: /Users/an/Library/CloudStorage/OneDrive-Personal/Documents/GitHub/SLEGO-Project/ontologyspace\n",
            "INFO:slegoapp:Initializing widgets...\n",
            "INFO:slegoapp:Python files available for selection: ['m-irisclustering.py', 'm-eda.py', 'm-autogluon.py', 'm-arxiv.py', 'm-titanic_ml.py', 'm-uci_dataset.py', 'm-backtest.py', 'm-anomalydetection.py', 'm-yfinance.py', 'm-sentiment_analysis.py', 'm-data_preprocess.py', 'm-regression.py', 'm-image_classificaiton.py']\n",
            "INFO:slegoapp:Creating file table...\n",
            "INFO:slegoapp:Selected folder path: /Users/an/Library/CloudStorage/OneDrive-Personal/Documents/GitHub/SLEGO-Project/dataspace\n",
            "INFO:slegoapp:Files in /Users/an/Library/CloudStorage/OneDrive-Personal/Documents/GitHub/SLEGO-Project/dataspace: ['AI_analysis.json', '20241114_142733_auto_generated_function.py', 'relevant_paragraphs_gpt.txt', 'AirQuality.csv', 'latest_papers_drl.csv', 'text_classification_model.pkl', 'dataset_return.csv', 'financial_advice_backtest2.json', 'tsla_return_plot_faic.html', 'filtered_network_graph_test.html', 'preprocessed_AirQuality.csv', 'operational_financial_risks_analysis.txt', 'dataset_avg50.csv', 'quantstats_results.html', 'cifar10_data.npz', 'latest_papers_ meadow_garden.csv', '.DS_Store', 'latest_papers.csv', 'recommendations.xlsx', 'financials', 'preprocessed_dataset.csv', 'papers', 'aapl_returns.csv', 'autogluon_predict.csv', 'iris_clusters_plot.html', 'apple_stock_return.csv', 'financial_advice.json', 'val.csv', 'finance_news.json', 'dataset_plot_Return.html', 'test.csv', 'financial_statements.xlsx', 'kaggle.json', 'AirQualityUCI.csv', 'operational_financial_risks_triples.json', 'corporate_actions.xlsx', 'dataset_vwap.csv', 'sweetviz_report.html', 'filtered_network_graph.html', '230822_bhpannualreport2023_20241118_035302.txt', 'stock_clusters_plot.html', 'stock_anomaly_plot.html', 'latest_papers_greenbuilding.csv', 'air_quality_anomalies.csv', 'calendar.csv', 'prepared_dataset_tabular_ml.csv', 'sec_filings.csv', 'papers_ml_business', 'apple_stock_anomalies.csv', 'output_webscrape.txt', 'stock_info.csv', 'housing_dataset.csv', 'stock_returns.csv', 'latest_papers_bus.csv', 'msft_stock_plot.html', 'financial_advice_backtest.json', 'network_graph.html', 'dataset_avg10.csv', 'news.json', 'dataset_typical_price.csv', 'gpt_output_text.txt', 'sweetviz_report_AirQuality.html', 'sklearn_regression_performance.txt', 'dataset_plot13.html', 'aapl_returns_plot.html', 'performance_autogluon.txt', 'dataset_plot_mavg.html', 'analysis_results.json', 'dataset_plot1234.html', 'sklearn_regression_model.pkl', 'financials.xlsx', 'dataset_mavg.csv', 'stock_info.json', 'aapl_data.csv', 'historical_data.csv', 'BreastCancer.csv', 'text_predictions.csv', 'analyst.xlsx', 'research_trends.txt', 'text_classification_performance.txt', '240827_bhpannualreport2024 2.pdf', 'kaggle (2).json', 'analysis_results2.json', 'iris_dataset.csv', 'relevant_paragraphs.txt', 'backtest_stats.csv', 'research_trends_bus.txt', 'air_quality_anomaly_plot.html', 'titanic', 'titanic.zip', 'autogluon_predict_AirQuality.csv', '240827_bhpannualreport2024_20241118_035349.txt', 'train.csv', 'cifar10_images', 'stock_anomalies.csv', 'moving_avg_cross_signal.csv', 'financial_risk_analysis.csv', 'dataset1233.csv', 'financial_analysis.json', 'autogluon_model_AirQuality.pkl', 'autogluon_model.pkl', 'info.csv', 'news.csv', 'stock_data.csv', 'backtest_returns.csv', 'apple_stock.csv', 'movie_reviews.csv', 'dataset.csv', '230822_bhpannualreport2023.pdf', 'financial_risk_analysis.json', 'apple_stock_anomaly_plot.html', 'dataset_plot.html', '230822_bhpannualreport2023_20241111_183648.txt', 'stock_return.csv', '240827_bhpannualreport2024.pdf', 'dataset123.csv', 'iris_clusters.csv', 'climate_relevant_paragraphs_gpt.txt', 'latest_papers_bim.csv']\n",
            "INFO:slegoapp:Widgets initialized.\n",
            "INFO:slegoapp:Setting up func module...\n",
            "ERROR:slegoapp:No modules selected. Please ensure desired modules exist in the functionspace.\n",
            "INFO:slegoapp:Setting up event handlers...\n",
            "INFO:slegoapp:Event handlers set up.\n",
            "INFO:slegoapp:Creating layout...\n",
            "INFO:slegoapp:Layout created.\n",
            "INFO:slegoapp:SLEGOApp initialized.\n",
            "INFO:slegoapp:Running the app...\n",
            "INFO:slegoapp:Loading specified modules: ['m-yfinance.py']\n",
            "INFO:slegoapp:funcfilecombo changed: ['m-yfinance.py']\n",
            "INFO:slegoapp:Updating functions for selected modules: ['m-yfinance.py']\n",
            "INFO:slegoapp:Function combobox updated based on the selected modules.\n",
            "INFO:bokeh.server.server:Starting Bokeh server version 3.4.1 (running on Tornado 6.4.1)\n",
            "INFO:bokeh.server.tornado:User authentication hooks NOT provided (default user enabled)\n",
            "INFO:slegoapp:App is running in non-Colab environment.\n"
          ]
        },
        {
          "name": "stdout",
          "output_type": "stream",
          "text": [
            "Launching server at http://localhost:57484\n"
          ]
        },
        {
          "name": "stderr",
          "output_type": "stream",
          "text": [
            "INFO:tornado.access:200 GET / (::1) 117.54ms\n",
            "INFO:tornado.access:200 GET / (::1) 117.54ms\n",
            "INFO:tornado.access:200 GET /static/extensions/panel/bundled/jsoneditor/jsoneditor@10.0.1/dist/jsoneditor.min.css?v=1.4.5 (::1) 0.77ms\n",
            "INFO:tornado.access:200 GET /static/extensions/panel/bundled/jsoneditor/jsoneditor@10.0.1/dist/jsoneditor.min.css?v=1.4.5 (::1) 0.77ms\n",
            "INFO:tornado.access:200 GET /static/extensions/panel/bundled/datatabulator/tabulator-tables@5.5.0/dist/css/tabulator_materialize.min.css?v=1.4.5 (::1) 0.31ms\n",
            "INFO:tornado.access:200 GET /static/extensions/panel/bundled/datatabulator/tabulator-tables@5.5.0/dist/css/tabulator_materialize.min.css?v=1.4.5 (::1) 0.31ms\n",
            "INFO:tornado.access:200 GET /static/js/bokeh-gl.min.js?v=16b01ef75f511f8f198a5482526dda37a8dd2890780e67cfac172b1f7444025a816e31ebaf03be07bd1f1be7530357f039deae1e67bf13e34c7d8621070b9a40 (::1) 0.57ms\n",
            "INFO:tornado.access:200 GET /static/js/bokeh-gl.min.js?v=16b01ef75f511f8f198a5482526dda37a8dd2890780e67cfac172b1f7444025a816e31ebaf03be07bd1f1be7530357f039deae1e67bf13e34c7d8621070b9a40 (::1) 0.57ms\n",
            "INFO:tornado.access:200 GET /static/extensions/panel/bundled/datatabulator/luxon/build/global/luxon.min.js (::1) 1.58ms\n",
            "INFO:tornado.access:200 GET /static/extensions/panel/bundled/datatabulator/luxon/build/global/luxon.min.js (::1) 1.58ms\n",
            "INFO:tornado.access:200 GET /static/extensions/panel/bundled/jsoneditor/jsoneditor@10.0.1/dist/jsoneditor.min.js (::1) 4.85ms\n",
            "INFO:tornado.access:200 GET /static/extensions/panel/bundled/jsoneditor/jsoneditor@10.0.1/dist/jsoneditor.min.js (::1) 4.85ms\n",
            "INFO:tornado.access:200 GET /static/js/bokeh-tables.min.js?v=4ef7c086bf94cc39a83637c54054e783a9c9a0b096d50cf18dce79912cfa413a8b9d4c4a7846124cb93b4fe00ea8007ae98213ba56bd731d081989ac1c17dd81 (::1) 1.83ms\n",
            "INFO:tornado.access:200 GET /static/js/bokeh-tables.min.js?v=4ef7c086bf94cc39a83637c54054e783a9c9a0b096d50cf18dce79912cfa413a8b9d4c4a7846124cb93b4fe00ea8007ae98213ba56bd731d081989ac1c17dd81 (::1) 1.83ms\n",
            "INFO:tornado.access:200 GET /static/extensions/panel/panel.min.js?v=6c2906ba8ee98ee2fe96712bd552abc490c7d847b686180f7d054bab534e4685 (::1) 2.78ms\n",
            "INFO:tornado.access:200 GET /static/extensions/panel/panel.min.js?v=6c2906ba8ee98ee2fe96712bd552abc490c7d847b686180f7d054bab534e4685 (::1) 2.78ms\n",
            "INFO:tornado.access:200 GET /static/js/bokeh-widgets.min.js?v=896b45817f242212a2758406f43054652a991a1255bba2fdd808e728c9e0bde29c2b7320602f2c24238021e8726d2385b56cf20b60223d610e1cfffad9655cd8 (::1) 3.76ms\n",
            "INFO:tornado.access:200 GET /static/js/bokeh-widgets.min.js?v=896b45817f242212a2758406f43054652a991a1255bba2fdd808e728c9e0bde29c2b7320602f2c24238021e8726d2385b56cf20b60223d610e1cfffad9655cd8 (::1) 3.76ms\n",
            "INFO:tornado.access:200 GET /static/extensions/panel/bundled/datatabulator/tabulator-tables@5.5.0/dist/js/tabulator.min.js (::1) 7.93ms\n",
            "INFO:tornado.access:200 GET /static/extensions/panel/bundled/datatabulator/tabulator-tables@5.5.0/dist/js/tabulator.min.js (::1) 7.93ms\n",
            "INFO:tornado.access:200 GET /static/js/bokeh.min.js?v=887e6bace8d80f5c1555c1913f730061c2d73acb83adb7f4ccf2ef02ffc7e5e864f7b1c97db9a4f6643a1431700d65e2686759f5c4bb1ac92631e8b659ceead3 (::1) 6.97ms\n",
            "INFO:tornado.access:200 GET /static/js/bokeh.min.js?v=887e6bace8d80f5c1555c1913f730061c2d73acb83adb7f4ccf2ef02ffc7e5e864f7b1c97db9a4f6643a1431700d65e2686759f5c4bb1ac92631e8b659ceead3 (::1) 6.97ms\n",
            "INFO:tornado.access:200 GET /static/extensions/panel/css/loadingspinner.css?v=1.4.5 (::1) 2.30ms\n",
            "INFO:tornado.access:200 GET /static/extensions/panel/css/loadingspinner.css?v=1.4.5 (::1) 2.30ms\n",
            "INFO:tornado.access:200 GET /static/extensions/panel/css/markdown.css?v=1.4.5 (::1) 1.93ms\n",
            "INFO:tornado.access:200 GET /static/extensions/panel/css/markdown.css?v=1.4.5 (::1) 1.93ms\n",
            "INFO:tornado.access:200 GET /static/extensions/panel/css/listpanel.css?v=1.4.5 (::1) 2.44ms\n",
            "INFO:tornado.access:200 GET /static/extensions/panel/css/listpanel.css?v=1.4.5 (::1) 2.44ms\n",
            "INFO:tornado.access:200 GET /static/extensions/panel/css/select.css?v=1.4.5 (::1) 3.31ms\n",
            "INFO:tornado.access:200 GET /static/extensions/panel/css/select.css?v=1.4.5 (::1) 3.31ms\n",
            "INFO:tornado.access:200 GET /static/extensions/panel/css/button.css?v=1.4.5 (::1) 3.01ms\n",
            "INFO:tornado.access:200 GET /static/extensions/panel/css/button.css?v=1.4.5 (::1) 3.01ms\n",
            "INFO:tornado.access:200 GET /static/extensions/panel/css/divider.css?v=1.4.5 (::1) 0.77ms\n",
            "INFO:tornado.access:200 GET /static/extensions/panel/css/divider.css?v=1.4.5 (::1) 0.77ms\n",
            "INFO:tornado.access:200 GET /static/extensions/panel/bundled/font-awesome/css/all.min.css?v=1.4.5 (::1) 1.81ms\n",
            "INFO:tornado.access:200 GET /static/extensions/panel/bundled/font-awesome/css/all.min.css?v=1.4.5 (::1) 1.81ms\n",
            "INFO:tornado.access:200 GET /static/extensions/panel/css/loading.css?v=1.4.5 (::1) 1.40ms\n",
            "INFO:tornado.access:200 GET /static/extensions/panel/css/loading.css?v=1.4.5 (::1) 1.40ms\n",
            "INFO:tornado.access:200 GET /static/extensions/panel/bundled/material-components-web@7.0.0/dist/material-components-web.min.css (::1) 2.05ms\n",
            "INFO:tornado.access:200 GET /static/extensions/panel/bundled/material-components-web@7.0.0/dist/material-components-web.min.css (::1) 2.05ms\n",
            "INFO:tornado.access:200 GET /static/extensions/panel/bundled/theme/default.css?v=1.4.5 (::1) 2.61ms\n",
            "INFO:tornado.access:200 GET /static/extensions/panel/bundled/theme/default.css?v=1.4.5 (::1) 2.61ms\n",
            "INFO:tornado.access:200 GET /static/extensions/panel/bundled/theme/material_variables.css?v=1.4.5 (::1) 2.71ms\n",
            "INFO:tornado.access:200 GET /static/extensions/panel/bundled/theme/material_variables.css?v=1.4.5 (::1) 2.71ms\n",
            "INFO:tornado.access:200 GET /static/extensions/panel/bundled/materialtemplate/material.css?v=1.4.5 (::1) 0.62ms\n",
            "INFO:tornado.access:200 GET /static/extensions/panel/bundled/materialtemplate/material.css?v=1.4.5 (::1) 0.62ms\n",
            "INFO:tornado.access:200 GET /static/extensions/panel/bundled/material-components-web@7.0.0/dist/material-components-web.min.js (::1) 1.26ms\n",
            "INFO:tornado.access:200 GET /static/extensions/panel/bundled/material-components-web@7.0.0/dist/material-components-web.min.js (::1) 1.26ms\n",
            "INFO:tornado.access:200 GET /static/extensions/panel/images/favicon.ico (::1) 0.39ms\n",
            "INFO:tornado.access:200 GET /static/extensions/panel/images/favicon.ico (::1) 0.39ms\n",
            "INFO:tornado.access:101 GET /ws (::1) 0.41ms\n",
            "INFO:tornado.access:101 GET /ws (::1) 0.41ms\n",
            "INFO:bokeh.server.views.ws:WebSocket connection opened\n",
            "INFO:bokeh.server.views.ws:ServerConnection created\n",
            "INFO:tornado.access:200 GET /static/extensions/panel/bundled/theme/material.css?v=1.4.5 (::1) 0.57ms\n",
            "INFO:tornado.access:200 GET /static/extensions/panel/bundled/theme/material.css?v=1.4.5 (::1) 0.57ms\n",
            "INFO:tornado.access:200 GET /static/extensions/panel/bundled/jsoneditor/jsoneditor@10.0.1/dist/img/jsoneditor-icons.svg (::1) 0.38ms\n",
            "INFO:tornado.access:200 GET /static/extensions/panel/bundled/jsoneditor/jsoneditor@10.0.1/dist/img/jsoneditor-icons.svg (::1) 0.38ms\n",
            "INFO:slegoapp:funccombo changed: ['m-yfinance.import_marketdata_yahoo_csv']\n",
            "INFO:slegoapp:Selected functions: ['m-yfinance.import_marketdata_yahoo_csv']\n",
            "INFO:slegoapp:JSON editor changed.\n",
            "INFO:slegoapp:JSON text input changed.\n",
            "INFO:slegoapp:JSON editor changed.\n",
            "INFO:slegoapp:Compute button clicked.\n",
            "INFO:slegoapp:Pipeline dict: OrderedDict([('m-yfinance.import_marketdata_yahoo_csv', OrderedDict([('ticker', 'msft'), ('start_date', '2023-12-17'), ('end_date', '2024-12-16'), ('output_file_path', 'dataspace/dataset.csv')]))])\n",
            "INFO:slegoapp:Computing m-yfinance.import_marketdata_yahoo_csv with parameters OrderedDict([('ticker', 'msft'), ('start_date', '2023-12-17'), ('end_date', '2024-12-16'), ('output_file_path', 'dataspace/dataset.csv')])\n",
            "INFO:slegoapp:Function m-yfinance.import_marketdata_yahoo_csv computed successfully.\n",
            "INFO:slegoapp:Refreshing file table...\n",
            "INFO:slegoapp:Record saved to /Users/an/Library/CloudStorage/OneDrive-Personal/Documents/GitHub/SLEGO-Project/recordspace/record_20241216_164112.json\n",
            "INFO:slegoapp:Refreshing file table...\n",
            "INFO:slegoapp:File folder confirm button clicked.\n",
            "INFO:slegoapp:Updated file table with files from /Users/an/Library/CloudStorage/OneDrive-Personal/Documents/GitHub/SLEGO-Project/dataspace\n",
            "INFO:slegoapp:Refreshing file table...\n"
          ]
        }
      ],
      "source": [
        "import panel as pn\n",
        "\n",
        "# Kill all existing servers\n",
        "pn.state.kill_all_servers()\n",
        "\n",
        "\n",
        "import slegoapp\n",
        "# Create and run the new app\n",
        "slego_app = slegoapp.SLEGOApp(config)\n",
        "slego_app.run(['m-yfinance.py'])"
      ]
    }
  ],
  "metadata": {
    "colab": {
      "include_colab_link": true,
      "provenance": []
    },
    "kernelspec": {
      "display_name": "Python 3",
      "name": "python3"
    },
    "language_info": {
      "codemirror_mode": {
        "name": "ipython",
        "version": 3
      },
      "file_extension": ".py",
      "mimetype": "text/x-python",
      "name": "python",
      "nbconvert_exporter": "python",
      "pygments_lexer": "ipython3",
      "version": "3.10.14"
    }
  },
  "nbformat": 4,
  "nbformat_minor": 0
}
