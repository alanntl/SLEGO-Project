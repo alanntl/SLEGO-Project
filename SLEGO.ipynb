{
  "cells": [
    {
      "cell_type": "markdown",
      "metadata": {
        "id": "DlOV4N79Fwrf"
      },
      "source": [
        "# SLEGO Project: UNSW CSE PhD Research - Alan Siu Lung Ng\n",
        "https://github.com/alanntl/SLEGO-Project"
      ]
    },
    {
      "cell_type": "code",
      "execution_count": 1,
      "metadata": {},
      "outputs": [
        {
          "name": "stdout",
          "output_type": "stream",
          "text": [
            "Starting environment setup...\n",
            "Getting environment configuration...\n",
            "Detecting environment...\n",
            "Environment detected: Local Jupyter\n",
            "Setting up configuration for Local Jupyter environment.\n",
            "Configuration settings:\n",
            "  drive_mainfolder: /Users/an/Library/CloudStorage/OneDrive-Personal/Documents/GitHub/SLEGO-Project\n",
            "  drive_folder: /Users/an/Library/CloudStorage/OneDrive-Personal/Documents/GitHub\n",
            "  use_local_repo: True\n",
            "  local_repo_path: None\n",
            "  slego_env: /Users/an/Library/CloudStorage/OneDrive-Personal/Documents/GitHub/slego_env_v0_0_1\n",
            "  requirements_file: /Users/an/Library/CloudStorage/OneDrive-Personal/Documents/GitHub/SLEGO-Project/requirements.txt\n",
            "  folder_path: /Users/an/Library/CloudStorage/OneDrive-Personal/Documents/GitHub/SLEGO-Project/slegospace\n",
            "  dataspace: /Users/an/Library/CloudStorage/OneDrive-Personal/Documents/GitHub/SLEGO-Project/slegospace/dataspace\n",
            "  recordspace: /Users/an/Library/CloudStorage/OneDrive-Personal/Documents/GitHub/SLEGO-Project/slegospace/recordspace\n",
            "  functionspace: /Users/an/Library/CloudStorage/OneDrive-Personal/Documents/GitHub/SLEGO-Project/slegospace/functionspace\n",
            "  knowledgespace: /Users/an/Library/CloudStorage/OneDrive-Personal/Documents/GitHub/SLEGO-Project/slegospace/knowledgespace\n",
            "  ontologyspace: /Users/an/Library/CloudStorage/OneDrive-Personal/Documents/GitHub/SLEGO-Project/slegospace/ontologyspace\n",
            "Using existing repository; no action needed in setup_repository.\n",
            "Setting up workspace folders...\n",
            "Folder already exists: /Users/an/Library/CloudStorage/OneDrive-Personal/Documents/GitHub/SLEGO-Project/slegospace\n",
            "Folder already exists: /Users/an/Library/CloudStorage/OneDrive-Personal/Documents/GitHub/SLEGO-Project/slegospace/dataspace\n",
            "Folder already exists: /Users/an/Library/CloudStorage/OneDrive-Personal/Documents/GitHub/SLEGO-Project/slegospace/recordspace\n",
            "Folder already exists: /Users/an/Library/CloudStorage/OneDrive-Personal/Documents/GitHub/SLEGO-Project/slegospace/functionspace\n",
            "Folder already exists: /Users/an/Library/CloudStorage/OneDrive-Personal/Documents/GitHub/SLEGO-Project/slegospace/knowledgespace\n",
            "Folder already exists: /Users/an/Library/CloudStorage/OneDrive-Personal/Documents/GitHub/SLEGO-Project/slegospace/ontologyspace\n",
            "Working directory changed to: /Users/an/Library/CloudStorage/OneDrive-Personal/Documents/GitHub/SLEGO-Project/slegospace\n",
            "Detecting environment...\n",
            "Environment detected: Local Jupyter\n",
            "Environment setup completed.\n"
          ]
        }
      ],
      "source": [
        "# First, import the environment_setup module\n",
        "import environment_setup\n",
        "\n",
        "# Run the environment setup\n",
        "config = environment_setup.setup_environment()"
      ]
    },
    {
      "cell_type": "markdown",
      "metadata": {
        "id": "xaXV8VuIX15o"
      },
      "source": [
        "# SLEGO APP"
      ]
    },
    {
      "cell_type": "markdown",
      "metadata": {},
      "source": []
    },
    {
      "cell_type": "code",
      "execution_count": 2,
      "metadata": {},
      "outputs": [
        {
          "data": {
            "text/plain": [
              "{'drive_mainfolder': '/Users/an/Library/CloudStorage/OneDrive-Personal/Documents/GitHub/SLEGO-Project',\n",
              " 'drive_folder': '/Users/an/Library/CloudStorage/OneDrive-Personal/Documents/GitHub',\n",
              " 'use_local_repo': True,\n",
              " 'local_repo_path': None,\n",
              " 'slego_env': '/Users/an/Library/CloudStorage/OneDrive-Personal/Documents/GitHub/slego_env_v0_0_1',\n",
              " 'requirements_file': '/Users/an/Library/CloudStorage/OneDrive-Personal/Documents/GitHub/SLEGO-Project/requirements.txt',\n",
              " 'folder_path': '/Users/an/Library/CloudStorage/OneDrive-Personal/Documents/GitHub/SLEGO-Project/slegospace',\n",
              " 'dataspace': '/Users/an/Library/CloudStorage/OneDrive-Personal/Documents/GitHub/SLEGO-Project/slegospace/dataspace',\n",
              " 'recordspace': '/Users/an/Library/CloudStorage/OneDrive-Personal/Documents/GitHub/SLEGO-Project/slegospace/recordspace',\n",
              " 'functionspace': '/Users/an/Library/CloudStorage/OneDrive-Personal/Documents/GitHub/SLEGO-Project/slegospace/functionspace',\n",
              " 'knowledgespace': '/Users/an/Library/CloudStorage/OneDrive-Personal/Documents/GitHub/SLEGO-Project/slegospace/knowledgespace',\n",
              " 'ontologyspace': '/Users/an/Library/CloudStorage/OneDrive-Personal/Documents/GitHub/SLEGO-Project/slegospace/ontologyspace'}"
            ]
          },
          "metadata": {},
          "output_type": "display_data"
        }
      ],
      "source": [
        "display(config)"
      ]
    },
    {
      "cell_type": "code",
      "execution_count": null,
      "metadata": {},
      "outputs": [
        {
          "data": {
            "application/javascript": "(function(root) {\n  function now() {\n    return new Date();\n  }\n\n  var force = true;\n  var py_version = '3.4.1'.replace('rc', '-rc.').replace('.dev', '-dev.');\n  var reloading = false;\n  var Bokeh = root.Bokeh;\n\n  if (typeof (root._bokeh_timeout) === \"undefined\" || force) {\n    root._bokeh_timeout = Date.now() + 5000;\n    root._bokeh_failed_load = false;\n  }\n\n  function run_callbacks() {\n    try {\n      root._bokeh_onload_callbacks.forEach(function(callback) {\n        if (callback != null)\n          callback();\n      });\n    } finally {\n      delete root._bokeh_onload_callbacks;\n    }\n    console.debug(\"Bokeh: all callbacks have finished\");\n  }\n\n  function load_libs(css_urls, js_urls, js_modules, js_exports, callback) {\n    if (css_urls == null) css_urls = [];\n    if (js_urls == null) js_urls = [];\n    if (js_modules == null) js_modules = [];\n    if (js_exports == null) js_exports = {};\n\n    root._bokeh_onload_callbacks.push(callback);\n\n    if (root._bokeh_is_loading > 0) {\n      console.debug(\"Bokeh: BokehJS is being loaded, scheduling callback at\", now());\n      return null;\n    }\n    if (js_urls.length === 0 && js_modules.length === 0 && Object.keys(js_exports).length === 0) {\n      run_callbacks();\n      return null;\n    }\n    if (!reloading) {\n      console.debug(\"Bokeh: BokehJS not loaded, scheduling load and callback at\", now());\n    }\n\n    function on_load() {\n      root._bokeh_is_loading--;\n      if (root._bokeh_is_loading === 0) {\n        console.debug(\"Bokeh: all BokehJS libraries/stylesheets loaded\");\n        run_callbacks()\n      }\n    }\n    window._bokeh_on_load = on_load\n\n    function on_error() {\n      console.error(\"failed to load \" + url);\n    }\n\n    var skip = [];\n    if (window.requirejs) {\n      window.requirejs.config({'packages': {}, 'paths': {'ace': '//cdnjs.cloudflare.com/ajax/libs/ace/1.4.7', 'jsoneditor': '//cdn.jsdelivr.net/npm/jsoneditor@10.0.1/dist/jsoneditor.min', 'tabulator': 'https://cdn.jsdelivr.net/npm/tabulator-tables@5.5.0/dist/js/tabulator.min', 'moment': 'https://cdn.jsdelivr.net/npm/luxon/build/global/luxon.min'}, 'shim': {'ace/ext-language_tools': {'deps': ['ace/ace']}, 'ace/ext-modelist': {'deps': ['ace/ace']}, 'jsoneditor': {'exports': 'JSONEditor'}}});\n      require([\"ace/ace\"], function(ace) {\n\twindow.ace = ace\n\ton_load()\n      })\n      require([\"ace/ext-language_tools\"], function() {\n\ton_load()\n      })\n      require([\"ace/ext-modelist\"], function() {\n\ton_load()\n      })\n      require([\"jsoneditor\"], function(JSONEditor) {\n\twindow.JSONEditor = JSONEditor\n\ton_load()\n      })\n      require([\"tabulator\"], function(Tabulator) {\n\twindow.Tabulator = Tabulator\n\ton_load()\n      })\n      require([\"moment\"], function(moment) {\n\twindow.moment = moment\n\ton_load()\n      })\n      root._bokeh_is_loading = css_urls.length + 6;\n    } else {\n      root._bokeh_is_loading = css_urls.length + js_urls.length + js_modules.length + Object.keys(js_exports).length;\n    }\n\n    var existing_stylesheets = []\n    var links = document.getElementsByTagName('link')\n    for (var i = 0; i < links.length; i++) {\n      var link = links[i]\n      if (link.href != null) {\n\texisting_stylesheets.push(link.href)\n      }\n    }\n    for (var i = 0; i < css_urls.length; i++) {\n      var url = css_urls[i];\n      if (existing_stylesheets.indexOf(url) !== -1) {\n\ton_load()\n\tcontinue;\n      }\n      const element = document.createElement(\"link\");\n      element.onload = on_load;\n      element.onerror = on_error;\n      element.rel = \"stylesheet\";\n      element.type = \"text/css\";\n      element.href = url;\n      console.debug(\"Bokeh: injecting link tag for BokehJS stylesheet: \", url);\n      document.body.appendChild(element);\n    }    if (((window.ace !== undefined) && (!(window.ace instanceof HTMLElement))) || window.requirejs) {\n      var urls = ['https://cdnjs.cloudflare.com/ajax/libs/ace/1.4.11/ace.js', 'https://cdnjs.cloudflare.com/ajax/libs/ace/1.4.11/ext-language_tools.js', 'https://cdnjs.cloudflare.com/ajax/libs/ace/1.4.11/ext-modelist.js'];\n      for (var i = 0; i < urls.length; i++) {\n        skip.push(urls[i])\n      }\n    }    if (((window.JSONEditor !== undefined) && (!(window.JSONEditor instanceof HTMLElement))) || window.requirejs) {\n      var urls = ['https://cdn.holoviz.org/panel/1.4.5/dist/bundled/jsoneditor/jsoneditor@10.0.1/dist/jsoneditor.min.js'];\n      for (var i = 0; i < urls.length; i++) {\n        skip.push(urls[i])\n      }\n    }    if (((window.Tabulator !== undefined) && (!(window.Tabulator instanceof HTMLElement))) || window.requirejs) {\n      var urls = ['https://cdn.holoviz.org/panel/1.4.5/dist/bundled/datatabulator/tabulator-tables@5.5.0/dist/js/tabulator.min.js'];\n      for (var i = 0; i < urls.length; i++) {\n        skip.push(urls[i])\n      }\n    }    if (((window.moment !== undefined) && (!(window.moment instanceof HTMLElement))) || window.requirejs) {\n      var urls = ['https://cdn.holoviz.org/panel/1.4.5/dist/bundled/datatabulator/luxon/build/global/luxon.min.js'];\n      for (var i = 0; i < urls.length; i++) {\n        skip.push(urls[i])\n      }\n    }    var existing_scripts = []\n    var scripts = document.getElementsByTagName('script')\n    for (var i = 0; i < scripts.length; i++) {\n      var script = scripts[i]\n      if (script.src != null) {\n\texisting_scripts.push(script.src)\n      }\n    }\n    for (var i = 0; i < js_urls.length; i++) {\n      var url = js_urls[i];\n      if (skip.indexOf(url) !== -1 || existing_scripts.indexOf(url) !== -1) {\n\tif (!window.requirejs) {\n\t  on_load();\n\t}\n\tcontinue;\n      }\n      var element = document.createElement('script');\n      element.onload = on_load;\n      element.onerror = on_error;\n      element.async = false;\n      element.src = url;\n      console.debug(\"Bokeh: injecting script tag for BokehJS library: \", url);\n      document.head.appendChild(element);\n    }\n    for (var i = 0; i < js_modules.length; i++) {\n      var url = js_modules[i];\n      if (skip.indexOf(url) !== -1 || existing_scripts.indexOf(url) !== -1) {\n\tif (!window.requirejs) {\n\t  on_load();\n\t}\n\tcontinue;\n      }\n      var element = document.createElement('script');\n      element.onload = on_load;\n      element.onerror = on_error;\n      element.async = false;\n      element.src = url;\n      element.type = \"module\";\n      console.debug(\"Bokeh: injecting script tag for BokehJS library: \", url);\n      document.head.appendChild(element);\n    }\n    for (const name in js_exports) {\n      var url = js_exports[name];\n      if (skip.indexOf(url) >= 0 || root[name] != null) {\n\tif (!window.requirejs) {\n\t  on_load();\n\t}\n\tcontinue;\n      }\n      var element = document.createElement('script');\n      element.onerror = on_error;\n      element.async = false;\n      element.type = \"module\";\n      console.debug(\"Bokeh: injecting script tag for BokehJS library: \", url);\n      element.textContent = `\n      import ${name} from \"${url}\"\n      window.${name} = ${name}\n      window._bokeh_on_load()\n      `\n      document.head.appendChild(element);\n    }\n    if (!js_urls.length && !js_modules.length) {\n      on_load()\n    }\n  };\n\n  function inject_raw_css(css) {\n    const element = document.createElement(\"style\");\n    element.appendChild(document.createTextNode(css));\n    document.body.appendChild(element);\n  }\n\n  var js_urls = [\"https://cdnjs.cloudflare.com/ajax/libs/ace/1.4.11/ace.js\", \"https://cdnjs.cloudflare.com/ajax/libs/ace/1.4.11/ext-language_tools.js\", \"https://cdnjs.cloudflare.com/ajax/libs/ace/1.4.11/ext-modelist.js\", \"https://cdn.holoviz.org/panel/1.4.5/dist/bundled/jsoneditor/jsoneditor@10.0.1/dist/jsoneditor.min.js\", \"https://cdn.holoviz.org/panel/1.4.5/dist/bundled/datatabulator/tabulator-tables@5.5.0/dist/js/tabulator.min.js\", \"https://cdn.holoviz.org/panel/1.4.5/dist/bundled/datatabulator/luxon/build/global/luxon.min.js\", \"https://cdn.bokeh.org/bokeh/release/bokeh-3.4.1.min.js\", \"https://cdn.bokeh.org/bokeh/release/bokeh-gl-3.4.1.min.js\", \"https://cdn.bokeh.org/bokeh/release/bokeh-widgets-3.4.1.min.js\", \"https://cdn.bokeh.org/bokeh/release/bokeh-tables-3.4.1.min.js\", \"https://cdn.holoviz.org/panel/1.4.5/dist/panel.min.js\"];\n  var js_modules = [];\n  var js_exports = {};\n  var css_urls = [\"https://cdn.holoviz.org/panel/1.4.5/dist/bundled/jsoneditor/jsoneditor@10.0.1/dist/jsoneditor.min.css?v=1.4.5\", \"https://cdn.holoviz.org/panel/1.4.5/dist/bundled/datatabulator/tabulator-tables@5.5.0/dist/css/tabulator_simple.min.css?v=1.4.5\"];\n  var inline_js = [    function(Bokeh) {\n      Bokeh.set_log_level(\"info\");\n    },\nfunction(Bokeh) {} // ensure no trailing comma for IE\n  ];\n\n  function run_inline_js() {\n    if ((root.Bokeh !== undefined) || (force === true)) {\n      for (var i = 0; i < inline_js.length; i++) {\n\ttry {\n          inline_js[i].call(root, root.Bokeh);\n\t} catch(e) {\n\t  if (!reloading) {\n\t    throw e;\n\t  }\n\t}\n      }\n      // Cache old bokeh versions\n      if (Bokeh != undefined && !reloading) {\n\tvar NewBokeh = root.Bokeh;\n\tif (Bokeh.versions === undefined) {\n\t  Bokeh.versions = new Map();\n\t}\n\tif (NewBokeh.version !== Bokeh.version) {\n\t  Bokeh.versions.set(NewBokeh.version, NewBokeh)\n\t}\n\troot.Bokeh = Bokeh;\n      }} else if (Date.now() < root._bokeh_timeout) {\n      setTimeout(run_inline_js, 100);\n    } else if (!root._bokeh_failed_load) {\n      console.log(\"Bokeh: BokehJS failed to load within specified timeout.\");\n      root._bokeh_failed_load = true;\n    }\n    root._bokeh_is_initializing = false\n  }\n\n  function load_or_wait() {\n    // Implement a backoff loop that tries to ensure we do not load multiple\n    // versions of Bokeh and its dependencies at the same time.\n    // In recent versions we use the root._bokeh_is_initializing flag\n    // to determine whether there is an ongoing attempt to initialize\n    // bokeh, however for backward compatibility we also try to ensure\n    // that we do not start loading a newer (Panel>=1.0 and Bokeh>3) version\n    // before older versions are fully initialized.\n    if (root._bokeh_is_initializing && Date.now() > root._bokeh_timeout) {\n      root._bokeh_is_initializing = false;\n      root._bokeh_onload_callbacks = undefined;\n      console.log(\"Bokeh: BokehJS was loaded multiple times but one version failed to initialize.\");\n      load_or_wait();\n    } else if (root._bokeh_is_initializing || (typeof root._bokeh_is_initializing === \"undefined\" && root._bokeh_onload_callbacks !== undefined)) {\n      setTimeout(load_or_wait, 100);\n    } else {\n      root._bokeh_is_initializing = true\n      root._bokeh_onload_callbacks = []\n      var bokeh_loaded = Bokeh != null && (Bokeh.version === py_version || (Bokeh.versions !== undefined && Bokeh.versions.has(py_version)));\n      if (!reloading && !bokeh_loaded) {\n\troot.Bokeh = undefined;\n      }\n      load_libs(css_urls, js_urls, js_modules, js_exports, function() {\n\tconsole.debug(\"Bokeh: BokehJS plotting callback run at\", now());\n\trun_inline_js();\n      });\n    }\n  }\n  // Give older versions of the autoload script a head-start to ensure\n  // they initialize before we start loading newer version.\n  setTimeout(load_or_wait, 100)\n}(window));",
            "application/vnd.holoviews_load.v0+json": ""
          },
          "metadata": {},
          "output_type": "display_data"
        },
        {
          "data": {
            "application/javascript": "\nif ((window.PyViz === undefined) || (window.PyViz instanceof HTMLElement)) {\n  window.PyViz = {comms: {}, comm_status:{}, kernels:{}, receivers: {}, plot_index: []}\n}\n\n\n    function JupyterCommManager() {\n    }\n\n    JupyterCommManager.prototype.register_target = function(plot_id, comm_id, msg_handler) {\n      if (window.comm_manager || ((window.Jupyter !== undefined) && (Jupyter.notebook.kernel != null))) {\n        var comm_manager = window.comm_manager || Jupyter.notebook.kernel.comm_manager;\n        comm_manager.register_target(comm_id, function(comm) {\n          comm.on_msg(msg_handler);\n        });\n      } else if ((plot_id in window.PyViz.kernels) && (window.PyViz.kernels[plot_id])) {\n        window.PyViz.kernels[plot_id].registerCommTarget(comm_id, function(comm) {\n          comm.onMsg = msg_handler;\n        });\n      } else if (typeof google != 'undefined' && google.colab.kernel != null) {\n        google.colab.kernel.comms.registerTarget(comm_id, (comm) => {\n          var messages = comm.messages[Symbol.asyncIterator]();\n          function processIteratorResult(result) {\n            var message = result.value;\n            console.log(message)\n            var content = {data: message.data, comm_id};\n            var buffers = []\n            for (var buffer of message.buffers || []) {\n              buffers.push(new DataView(buffer))\n            }\n            var metadata = message.metadata || {};\n            var msg = {content, buffers, metadata}\n            msg_handler(msg);\n            return messages.next().then(processIteratorResult);\n          }\n          return messages.next().then(processIteratorResult);\n        })\n      }\n    }\n\n    JupyterCommManager.prototype.get_client_comm = function(plot_id, comm_id, msg_handler) {\n      if (comm_id in window.PyViz.comms) {\n        return window.PyViz.comms[comm_id];\n      } else if (window.comm_manager || ((window.Jupyter !== undefined) && (Jupyter.notebook.kernel != null))) {\n        var comm_manager = window.comm_manager || Jupyter.notebook.kernel.comm_manager;\n        var comm = comm_manager.new_comm(comm_id, {}, {}, {}, comm_id);\n        if (msg_handler) {\n          comm.on_msg(msg_handler);\n        }\n      } else if ((plot_id in window.PyViz.kernels) && (window.PyViz.kernels[plot_id])) {\n        var comm = window.PyViz.kernels[plot_id].connectToComm(comm_id);\n        comm.open();\n        if (msg_handler) {\n          comm.onMsg = msg_handler;\n        }\n      } else if (typeof google != 'undefined' && google.colab.kernel != null) {\n        var comm_promise = google.colab.kernel.comms.open(comm_id)\n        comm_promise.then((comm) => {\n          window.PyViz.comms[comm_id] = comm;\n          if (msg_handler) {\n            var messages = comm.messages[Symbol.asyncIterator]();\n            function processIteratorResult(result) {\n              var message = result.value;\n              var content = {data: message.data};\n              var metadata = message.metadata || {comm_id};\n              var msg = {content, metadata}\n              msg_handler(msg);\n              return messages.next().then(processIteratorResult);\n            }\n            return messages.next().then(processIteratorResult);\n          }\n        }) \n        var sendClosure = (data, metadata, buffers, disposeOnDone) => {\n          return comm_promise.then((comm) => {\n            comm.send(data, metadata, buffers, disposeOnDone);\n          });\n        };\n        var comm = {\n          send: sendClosure\n        };\n      }\n      window.PyViz.comms[comm_id] = comm;\n      return comm;\n    }\n    window.PyViz.comm_manager = new JupyterCommManager();\n    \n\n\nvar JS_MIME_TYPE = 'application/javascript';\nvar HTML_MIME_TYPE = 'text/html';\nvar EXEC_MIME_TYPE = 'application/vnd.holoviews_exec.v0+json';\nvar CLASS_NAME = 'output';\n\n/**\n * Render data to the DOM node\n */\nfunction render(props, node) {\n  var div = document.createElement(\"div\");\n  var script = document.createElement(\"script\");\n  node.appendChild(div);\n  node.appendChild(script);\n}\n\n/**\n * Handle when a new output is added\n */\nfunction handle_add_output(event, handle) {\n  var output_area = handle.output_area;\n  var output = handle.output;\n  if ((output.data == undefined) || (!output.data.hasOwnProperty(EXEC_MIME_TYPE))) {\n    return\n  }\n  var id = output.metadata[EXEC_MIME_TYPE][\"id\"];\n  var toinsert = output_area.element.find(\".\" + CLASS_NAME.split(' ')[0]);\n  if (id !== undefined) {\n    var nchildren = toinsert.length;\n    var html_node = toinsert[nchildren-1].children[0];\n    html_node.innerHTML = output.data[HTML_MIME_TYPE];\n    var scripts = [];\n    var nodelist = html_node.querySelectorAll(\"script\");\n    for (var i in nodelist) {\n      if (nodelist.hasOwnProperty(i)) {\n        scripts.push(nodelist[i])\n      }\n    }\n\n    scripts.forEach( function (oldScript) {\n      var newScript = document.createElement(\"script\");\n      var attrs = [];\n      var nodemap = oldScript.attributes;\n      for (var j in nodemap) {\n        if (nodemap.hasOwnProperty(j)) {\n          attrs.push(nodemap[j])\n        }\n      }\n      attrs.forEach(function(attr) { newScript.setAttribute(attr.name, attr.value) });\n      newScript.appendChild(document.createTextNode(oldScript.innerHTML));\n      oldScript.parentNode.replaceChild(newScript, oldScript);\n    });\n    if (JS_MIME_TYPE in output.data) {\n      toinsert[nchildren-1].children[1].textContent = output.data[JS_MIME_TYPE];\n    }\n    output_area._hv_plot_id = id;\n    if ((window.Bokeh !== undefined) && (id in Bokeh.index)) {\n      window.PyViz.plot_index[id] = Bokeh.index[id];\n    } else {\n      window.PyViz.plot_index[id] = null;\n    }\n  } else if (output.metadata[EXEC_MIME_TYPE][\"server_id\"] !== undefined) {\n    var bk_div = document.createElement(\"div\");\n    bk_div.innerHTML = output.data[HTML_MIME_TYPE];\n    var script_attrs = bk_div.children[0].attributes;\n    for (var i = 0; i < script_attrs.length; i++) {\n      toinsert[toinsert.length - 1].childNodes[1].setAttribute(script_attrs[i].name, script_attrs[i].value);\n    }\n    // store reference to server id on output_area\n    output_area._bokeh_server_id = output.metadata[EXEC_MIME_TYPE][\"server_id\"];\n  }\n}\n\n/**\n * Handle when an output is cleared or removed\n */\nfunction handle_clear_output(event, handle) {\n  var id = handle.cell.output_area._hv_plot_id;\n  var server_id = handle.cell.output_area._bokeh_server_id;\n  if (((id === undefined) || !(id in PyViz.plot_index)) && (server_id !== undefined)) { return; }\n  var comm = window.PyViz.comm_manager.get_client_comm(\"hv-extension-comm\", \"hv-extension-comm\", function () {});\n  if (server_id !== null) {\n    comm.send({event_type: 'server_delete', 'id': server_id});\n    return;\n  } else if (comm !== null) {\n    comm.send({event_type: 'delete', 'id': id});\n  }\n  delete PyViz.plot_index[id];\n  if ((window.Bokeh !== undefined) & (id in window.Bokeh.index)) {\n    var doc = window.Bokeh.index[id].model.document\n    doc.clear();\n    const i = window.Bokeh.documents.indexOf(doc);\n    if (i > -1) {\n      window.Bokeh.documents.splice(i, 1);\n    }\n  }\n}\n\n/**\n * Handle kernel restart event\n */\nfunction handle_kernel_cleanup(event, handle) {\n  delete PyViz.comms[\"hv-extension-comm\"];\n  window.PyViz.plot_index = {}\n}\n\n/**\n * Handle update_display_data messages\n */\nfunction handle_update_output(event, handle) {\n  handle_clear_output(event, {cell: {output_area: handle.output_area}})\n  handle_add_output(event, handle)\n}\n\nfunction register_renderer(events, OutputArea) {\n  function append_mime(data, metadata, element) {\n    // create a DOM node to render to\n    var toinsert = this.create_output_subarea(\n    metadata,\n    CLASS_NAME,\n    EXEC_MIME_TYPE\n    );\n    this.keyboard_manager.register_events(toinsert);\n    // Render to node\n    var props = {data: data, metadata: metadata[EXEC_MIME_TYPE]};\n    render(props, toinsert[0]);\n    element.append(toinsert);\n    return toinsert\n  }\n\n  events.on('output_added.OutputArea', handle_add_output);\n  events.on('output_updated.OutputArea', handle_update_output);\n  events.on('clear_output.CodeCell', handle_clear_output);\n  events.on('delete.Cell', handle_clear_output);\n  events.on('kernel_ready.Kernel', handle_kernel_cleanup);\n\n  OutputArea.prototype.register_mime_type(EXEC_MIME_TYPE, append_mime, {\n    safe: true,\n    index: 0\n  });\n}\n\nif (window.Jupyter !== undefined) {\n  try {\n    var events = require('base/js/events');\n    var OutputArea = require('notebook/js/outputarea').OutputArea;\n    if (OutputArea.prototype.mime_types().indexOf(EXEC_MIME_TYPE) == -1) {\n      register_renderer(events, OutputArea);\n    }\n  } catch(err) {\n  }\n}\n",
            "application/vnd.holoviews_load.v0+json": ""
          },
          "metadata": {},
          "output_type": "display_data"
        },
        {
          "data": {
            "text/html": [
              "<style>*[data-root-id],\n",
              "*[data-root-id] > * {\n",
              "  box-sizing: border-box;\n",
              "  font-family: var(--jp-ui-font-family);\n",
              "  font-size: var(--jp-ui-font-size1);\n",
              "  color: var(--vscode-editor-foreground, var(--jp-ui-font-color1));\n",
              "}\n",
              "\n",
              "/* Override VSCode background color */\n",
              ".cell-output-ipywidget-background:has(\n",
              "    > .cell-output-ipywidget-background > .lm-Widget > *[data-root-id]\n",
              "  ),\n",
              ".cell-output-ipywidget-background:has(> .lm-Widget > *[data-root-id]) {\n",
              "  background-color: transparent !important;\n",
              "}\n",
              "</style>"
            ]
          },
          "metadata": {},
          "output_type": "display_data"
        },
        {
          "data": {
            "application/vnd.holoviews_exec.v0+json": "",
            "text/html": [
              "<div id='addf297c-cc79-47bd-bde5-1ff48909db80'>\n",
              "  <div id=\"dee65364-54a7-471a-b65f-099af7a553da\" data-root-id=\"addf297c-cc79-47bd-bde5-1ff48909db80\" style=\"display: contents;\"></div>\n",
              "</div>\n",
              "<script type=\"application/javascript\">(function(root) {\n",
              "  var docs_json = {\"9b13cc60-698b-4a88-8a26-ded2777afa7b\":{\"version\":\"3.4.1\",\"title\":\"Bokeh Application\",\"roots\":[{\"type\":\"object\",\"name\":\"panel.models.browser.BrowserInfo\",\"id\":\"addf297c-cc79-47bd-bde5-1ff48909db80\"},{\"type\":\"object\",\"name\":\"panel.models.comm_manager.CommManager\",\"id\":\"faf035fb-31a8-4e25-b115-8ab1b128ab68\",\"attributes\":{\"plot_id\":\"addf297c-cc79-47bd-bde5-1ff48909db80\",\"comm_id\":\"8769f1426de74949bf4ac09b53e0fd6c\",\"client_comm_id\":\"96a942c61a7e41cc809f00e589fecff8\"}}],\"defs\":[{\"type\":\"model\",\"name\":\"ReactiveHTML1\"},{\"type\":\"model\",\"name\":\"FlexBox1\",\"properties\":[{\"name\":\"align_content\",\"kind\":\"Any\",\"default\":\"flex-start\"},{\"name\":\"align_items\",\"kind\":\"Any\",\"default\":\"flex-start\"},{\"name\":\"flex_direction\",\"kind\":\"Any\",\"default\":\"row\"},{\"name\":\"flex_wrap\",\"kind\":\"Any\",\"default\":\"wrap\"},{\"name\":\"gap\",\"kind\":\"Any\",\"default\":\"\"},{\"name\":\"justify_content\",\"kind\":\"Any\",\"default\":\"flex-start\"}]},{\"type\":\"model\",\"name\":\"FloatPanel1\",\"properties\":[{\"name\":\"config\",\"kind\":\"Any\",\"default\":{\"type\":\"map\"}},{\"name\":\"contained\",\"kind\":\"Any\",\"default\":true},{\"name\":\"position\",\"kind\":\"Any\",\"default\":\"right-top\"},{\"name\":\"offsetx\",\"kind\":\"Any\",\"default\":null},{\"name\":\"offsety\",\"kind\":\"Any\",\"default\":null},{\"name\":\"theme\",\"kind\":\"Any\",\"default\":\"primary\"},{\"name\":\"status\",\"kind\":\"Any\",\"default\":\"normalized\"}]},{\"type\":\"model\",\"name\":\"GridStack1\",\"properties\":[{\"name\":\"mode\",\"kind\":\"Any\",\"default\":\"warn\"},{\"name\":\"ncols\",\"kind\":\"Any\",\"default\":null},{\"name\":\"nrows\",\"kind\":\"Any\",\"default\":null},{\"name\":\"allow_resize\",\"kind\":\"Any\",\"default\":true},{\"name\":\"allow_drag\",\"kind\":\"Any\",\"default\":true},{\"name\":\"state\",\"kind\":\"Any\",\"default\":[]}]},{\"type\":\"model\",\"name\":\"drag1\",\"properties\":[{\"name\":\"slider_width\",\"kind\":\"Any\",\"default\":5},{\"name\":\"slider_color\",\"kind\":\"Any\",\"default\":\"black\"},{\"name\":\"value\",\"kind\":\"Any\",\"default\":50}]},{\"type\":\"model\",\"name\":\"click1\",\"properties\":[{\"name\":\"terminal_output\",\"kind\":\"Any\",\"default\":\"\"},{\"name\":\"debug_name\",\"kind\":\"Any\",\"default\":\"\"},{\"name\":\"clears\",\"kind\":\"Any\",\"default\":0}]},{\"type\":\"model\",\"name\":\"FastWrapper1\",\"properties\":[{\"name\":\"object\",\"kind\":\"Any\",\"default\":null},{\"name\":\"style\",\"kind\":\"Any\",\"default\":null}]},{\"type\":\"model\",\"name\":\"NotificationAreaBase1\",\"properties\":[{\"name\":\"js_events\",\"kind\":\"Any\",\"default\":{\"type\":\"map\"}},{\"name\":\"position\",\"kind\":\"Any\",\"default\":\"bottom-right\"},{\"name\":\"_clear\",\"kind\":\"Any\",\"default\":0}]},{\"type\":\"model\",\"name\":\"NotificationArea1\",\"properties\":[{\"name\":\"js_events\",\"kind\":\"Any\",\"default\":{\"type\":\"map\"}},{\"name\":\"notifications\",\"kind\":\"Any\",\"default\":[]},{\"name\":\"position\",\"kind\":\"Any\",\"default\":\"bottom-right\"},{\"name\":\"_clear\",\"kind\":\"Any\",\"default\":0},{\"name\":\"types\",\"kind\":\"Any\",\"default\":[{\"type\":\"map\",\"entries\":[[\"type\",\"warning\"],[\"background\",\"#ffc107\"],[\"icon\",{\"type\":\"map\",\"entries\":[[\"className\",\"fas fa-exclamation-triangle\"],[\"tagName\",\"i\"],[\"color\",\"white\"]]}]]},{\"type\":\"map\",\"entries\":[[\"type\",\"info\"],[\"background\",\"#007bff\"],[\"icon\",{\"type\":\"map\",\"entries\":[[\"className\",\"fas fa-info-circle\"],[\"tagName\",\"i\"],[\"color\",\"white\"]]}]]}]}]},{\"type\":\"model\",\"name\":\"Notification\",\"properties\":[{\"name\":\"background\",\"kind\":\"Any\",\"default\":null},{\"name\":\"duration\",\"kind\":\"Any\",\"default\":3000},{\"name\":\"icon\",\"kind\":\"Any\",\"default\":null},{\"name\":\"message\",\"kind\":\"Any\",\"default\":\"\"},{\"name\":\"notification_type\",\"kind\":\"Any\",\"default\":null},{\"name\":\"_destroyed\",\"kind\":\"Any\",\"default\":false}]},{\"type\":\"model\",\"name\":\"TemplateActions1\",\"properties\":[{\"name\":\"open_modal\",\"kind\":\"Any\",\"default\":0},{\"name\":\"close_modal\",\"kind\":\"Any\",\"default\":0}]},{\"type\":\"model\",\"name\":\"BootstrapTemplateActions1\",\"properties\":[{\"name\":\"open_modal\",\"kind\":\"Any\",\"default\":0},{\"name\":\"close_modal\",\"kind\":\"Any\",\"default\":0}]},{\"type\":\"model\",\"name\":\"TemplateEditor1\",\"properties\":[{\"name\":\"layout\",\"kind\":\"Any\",\"default\":[]}]},{\"type\":\"model\",\"name\":\"MaterialTemplateActions1\",\"properties\":[{\"name\":\"open_modal\",\"kind\":\"Any\",\"default\":0},{\"name\":\"close_modal\",\"kind\":\"Any\",\"default\":0}]},{\"type\":\"model\",\"name\":\"copy_to_clipboard1\",\"properties\":[{\"name\":\"fill\",\"kind\":\"Any\",\"default\":\"none\"},{\"name\":\"value\",\"kind\":\"Any\",\"default\":null}]}]}};\n",
              "  var render_items = [{\"docid\":\"9b13cc60-698b-4a88-8a26-ded2777afa7b\",\"roots\":{\"addf297c-cc79-47bd-bde5-1ff48909db80\":\"dee65364-54a7-471a-b65f-099af7a553da\"},\"root_ids\":[\"addf297c-cc79-47bd-bde5-1ff48909db80\"]}];\n",
              "  var docs = Object.values(docs_json)\n",
              "  if (!docs) {\n",
              "    return\n",
              "  }\n",
              "  const py_version = docs[0].version.replace('rc', '-rc.').replace('.dev', '-dev.')\n",
              "  async function embed_document(root) {\n",
              "    var Bokeh = get_bokeh(root)\n",
              "    await Bokeh.embed.embed_items_notebook(docs_json, render_items);\n",
              "    for (const render_item of render_items) {\n",
              "      for (const root_id of render_item.root_ids) {\n",
              "\tconst id_el = document.getElementById(root_id)\n",
              "\tif (id_el.children.length && id_el.children[0].hasAttribute('data-root-id')) {\n",
              "\t  const root_el = id_el.children[0]\n",
              "\t  root_el.id = root_el.id + '-rendered'\n",
              "\t  for (const child of root_el.children) {\n",
              "            // Ensure JupyterLab does not capture keyboard shortcuts\n",
              "            // see: https://jupyterlab.readthedocs.io/en/4.1.x/extension/notebook.html#keyboard-interaction-model\n",
              "\t    child.setAttribute('data-lm-suppress-shortcuts', 'true')\n",
              "\t  }\n",
              "\t}\n",
              "      }\n",
              "    }\n",
              "  }\n",
              "  function get_bokeh(root) {\n",
              "    if (root.Bokeh === undefined) {\n",
              "      return null\n",
              "    } else if (root.Bokeh.version !== py_version) {\n",
              "      if (root.Bokeh.versions === undefined || !root.Bokeh.versions.has(py_version)) {\n",
              "\treturn null\n",
              "      }\n",
              "      return root.Bokeh.versions.get(py_version);\n",
              "    } else if (root.Bokeh.version === py_version) {\n",
              "      return root.Bokeh\n",
              "    }\n",
              "    return null\n",
              "  }\n",
              "  function is_loaded(root) {\n",
              "    var Bokeh = get_bokeh(root)\n",
              "    return (Bokeh != null && Bokeh.Panel !== undefined && ( root.Tabulator !== undefined) && ( root.Tabulator !== undefined))\n",
              "  }\n",
              "  if (is_loaded(root)) {\n",
              "    embed_document(root);\n",
              "  } else {\n",
              "    var attempts = 0;\n",
              "    var timer = setInterval(function(root) {\n",
              "      if (is_loaded(root)) {\n",
              "        clearInterval(timer);\n",
              "        embed_document(root);\n",
              "      } else if (document.readyState == \"complete\") {\n",
              "        attempts++;\n",
              "        if (attempts > 200) {\n",
              "          clearInterval(timer);\n",
              "\t  var Bokeh = get_bokeh(root)\n",
              "\t  if (Bokeh == null || Bokeh.Panel == null) {\n",
              "            console.warn(\"Panel: ERROR: Unable to run Panel code because Bokeh or Panel library is missing\");\n",
              "\t  } else {\n",
              "\t    console.warn(\"Panel: WARNING: Attempting to render but not all required libraries could be resolved.\")\n",
              "\t    embed_document(root)\n",
              "\t  }\n",
              "        }\n",
              "      }\n",
              "    }, 25, root)\n",
              "  }\n",
              "})(window);</script>"
            ]
          },
          "metadata": {
            "application/vnd.holoviews_exec.v0+json": {
              "id": "addf297c-cc79-47bd-bde5-1ff48909db80"
            }
          },
          "output_type": "display_data"
        },
        {
          "name": "stderr",
          "output_type": "stream",
          "text": [
            "INFO:slegoapp:Initializing SLEGOApp...\n",
            "INFO:slegoapp:Configuration paths:\n",
            "INFO:slegoapp:  folder_path: /Users/an/Library/CloudStorage/OneDrive-Personal/Documents/GitHub/SLEGO-Project/slegospace\n",
            "INFO:slegoapp:  functionspace: /Users/an/Library/CloudStorage/OneDrive-Personal/Documents/GitHub/SLEGO-Project/slegospace/functionspace\n",
            "INFO:slegoapp:  dataspace: /Users/an/Library/CloudStorage/OneDrive-Personal/Documents/GitHub/SLEGO-Project/slegospace/dataspace\n",
            "INFO:slegoapp:  recordspace: /Users/an/Library/CloudStorage/OneDrive-Personal/Documents/GitHub/SLEGO-Project/slegospace/recordspace\n",
            "INFO:slegoapp:  knowledgespace: /Users/an/Library/CloudStorage/OneDrive-Personal/Documents/GitHub/SLEGO-Project/slegospace/knowledgespace\n",
            "INFO:slegoapp:  ontologyspace: /Users/an/Library/CloudStorage/OneDrive-Personal/Documents/GitHub/SLEGO-Project/slegospace/ontologyspace\n",
            "INFO:slegoapp:Initializing widgets...\n",
            "INFO:slegoapp:Python files available for selection: ['f-sentiment_analysis.py', 'func_autogluon.py', 'func_moving_avg_plot.py', 'f-regression.py', 'f-anomalydetection.py', 'Minhua_trial.py', 'func_financecom.py', 'util.py', 'func_covid19.py', 'llm.py', 'func_data_preprocss.py', 'func_viz.py', 'f-irisclustering.py', 'func_arxiv.py', 'func_eda.py', 'webscrape.py', 'func_hfd.py', 'func_backtest.py', 'func_uci_dataset.py', 'f-image_classificaiton.py', 'func_yfinance.py']\n",
            "INFO:slegoapp:Creating file table...\n",
            "INFO:slegoapp:Selected folder path: /Users/an/Library/CloudStorage/OneDrive-Personal/Documents/GitHub/SLEGO-Project/slegospace/dataspace\n",
            "INFO:slegoapp:Files in /Users/an/Library/CloudStorage/OneDrive-Personal/Documents/GitHub/SLEGO-Project/slegospace/dataspace: ['AttentionIsAllYouNeed.pdf', 'AirQuality.csv', 'text_classification_model.pkl', 'dataset_return.csv', 'preprocessed_AirQuality.csv', 'covid19_forecast.csv', 'latest_papers.csv', 'covid19_preprocessed.csv', 'papers', 'anomaly_plot.html', 'anomalies.csv', 'autogluon_predict.csv', 'iris_clusters_plot.html', 'val.csv', 'test.csv', 'AirQualityUCI.csv', 'air_quality_anomalies.csv', 'prepared_dataset_tabular_ml.csv', 'output_webscrape.txt', 'housing_dataset.csv', 'covid19_data.csv', 'prophet_model.pkl', 'sklearn_regression_performance.txt', 'performance_autogluon.txt', 'sklearn_regression_model.pkl', 'text_predictions.csv', 'text_classification_performance.txt', 'iris_dataset.csv', 'air_quality_anomaly_plot.html', 'train.csv', 'covid19_forecast.html', 'autogluon_model.pkl', 'movie_reviews.csv', 'dataset.csv', 'dataset_plot.html', 'iris_clusters.csv']\n",
            "INFO:slegoapp:Widgets initialized.\n",
            "INFO:slegoapp:Setting up func module...\n",
            "INFO:slegoapp:Updating functions for selected modules: ['func_yfinance.py']\n",
            "INFO:slegoapp:Function combobox updated based on the selected modules.\n",
            "INFO:slegoapp:Setting up event handlers...\n",
            "INFO:slegoapp:Event handlers set up.\n",
            "INFO:slegoapp:Creating layout...\n",
            "INFO:slegoapp:Layout created.\n",
            "INFO:slegoapp:SLEGOApp initialized.\n",
            "INFO:slegoapp:Running the app...\n",
            "INFO:bokeh.server.server:Starting Bokeh server version 3.4.1 (running on Tornado 6.4.1)\n",
            "INFO:bokeh.server.tornado:User authentication hooks NOT provided (default user enabled)\n",
            "INFO:slegoapp:App is running in non-Colab environment.\n"
          ]
        },
        {
          "name": "stdout",
          "output_type": "stream",
          "text": [
            "Launching server at http://localhost:54338\n"
          ]
        },
        {
          "name": "stderr",
          "output_type": "stream",
          "text": [
            "INFO:tornado.access:200 GET / (::1) 110.76ms\n",
            "INFO:tornado.access:200 GET / (::1) 110.76ms\n",
            "INFO:tornado.access:200 GET /static/extensions/panel/bundled/jsoneditor/jsoneditor@10.0.1/dist/jsoneditor.min.css?v=1.4.5 (::1) 0.80ms\n",
            "INFO:tornado.access:200 GET /static/extensions/panel/bundled/jsoneditor/jsoneditor@10.0.1/dist/jsoneditor.min.css?v=1.4.5 (::1) 0.80ms\n",
            "INFO:tornado.access:200 GET /static/extensions/panel/bundled/datatabulator/tabulator-tables@5.5.0/dist/css/tabulator_materialize.min.css?v=1.4.5 (::1) 0.38ms\n",
            "INFO:tornado.access:200 GET /static/extensions/panel/bundled/datatabulator/tabulator-tables@5.5.0/dist/css/tabulator_materialize.min.css?v=1.4.5 (::1) 0.38ms\n",
            "INFO:tornado.access:200 GET /static/js/bokeh-widgets.min.js?v=896b45817f242212a2758406f43054652a991a1255bba2fdd808e728c9e0bde29c2b7320602f2c24238021e8726d2385b56cf20b60223d610e1cfffad9655cd8 (::1) 0.75ms\n",
            "INFO:tornado.access:200 GET /static/js/bokeh-widgets.min.js?v=896b45817f242212a2758406f43054652a991a1255bba2fdd808e728c9e0bde29c2b7320602f2c24238021e8726d2385b56cf20b60223d610e1cfffad9655cd8 (::1) 0.75ms\n",
            "INFO:tornado.access:200 GET /static/extensions/panel/bundled/datatabulator/luxon/build/global/luxon.min.js (::1) 1.13ms\n",
            "INFO:tornado.access:200 GET /static/extensions/panel/bundled/datatabulator/luxon/build/global/luxon.min.js (::1) 1.13ms\n",
            "INFO:tornado.access:200 GET /static/js/bokeh-gl.min.js?v=16b01ef75f511f8f198a5482526dda37a8dd2890780e67cfac172b1f7444025a816e31ebaf03be07bd1f1be7530357f039deae1e67bf13e34c7d8621070b9a40 (::1) 2.01ms\n",
            "INFO:tornado.access:200 GET /static/js/bokeh-gl.min.js?v=16b01ef75f511f8f198a5482526dda37a8dd2890780e67cfac172b1f7444025a816e31ebaf03be07bd1f1be7530357f039deae1e67bf13e34c7d8621070b9a40 (::1) 2.01ms\n",
            "INFO:tornado.access:200 GET /static/js/bokeh-tables.min.js?v=4ef7c086bf94cc39a83637c54054e783a9c9a0b096d50cf18dce79912cfa413a8b9d4c4a7846124cb93b4fe00ea8007ae98213ba56bd731d081989ac1c17dd81 (::1) 0.47ms\n",
            "INFO:tornado.access:200 GET /static/js/bokeh-tables.min.js?v=4ef7c086bf94cc39a83637c54054e783a9c9a0b096d50cf18dce79912cfa413a8b9d4c4a7846124cb93b4fe00ea8007ae98213ba56bd731d081989ac1c17dd81 (::1) 0.47ms\n",
            "INFO:tornado.access:200 GET /static/extensions/panel/bundled/jsoneditor/jsoneditor@10.0.1/dist/jsoneditor.min.js (::1) 7.66ms\n",
            "INFO:tornado.access:200 GET /static/extensions/panel/bundled/jsoneditor/jsoneditor@10.0.1/dist/jsoneditor.min.js (::1) 7.66ms\n",
            "INFO:tornado.access:200 GET /static/extensions/panel/panel.min.js?v=6c2906ba8ee98ee2fe96712bd552abc490c7d847b686180f7d054bab534e4685 (::1) 2.87ms\n",
            "INFO:tornado.access:200 GET /static/extensions/panel/panel.min.js?v=6c2906ba8ee98ee2fe96712bd552abc490c7d847b686180f7d054bab534e4685 (::1) 2.87ms\n",
            "INFO:tornado.access:200 GET /static/extensions/panel/css/loadingspinner.css?v=1.4.5 (::1) 3.70ms\n",
            "INFO:tornado.access:200 GET /static/extensions/panel/css/loadingspinner.css?v=1.4.5 (::1) 3.70ms\n",
            "INFO:tornado.access:200 GET /static/extensions/panel/bundled/datatabulator/tabulator-tables@5.5.0/dist/js/tabulator.min.js (::1) 9.08ms\n",
            "INFO:tornado.access:200 GET /static/extensions/panel/bundled/datatabulator/tabulator-tables@5.5.0/dist/js/tabulator.min.js (::1) 9.08ms\n",
            "INFO:tornado.access:200 GET /static/extensions/panel/css/listpanel.css?v=1.4.5 (::1) 1.45ms\n",
            "INFO:tornado.access:200 GET /static/extensions/panel/css/listpanel.css?v=1.4.5 (::1) 1.45ms\n",
            "INFO:tornado.access:200 GET /static/extensions/panel/css/select.css?v=1.4.5 (::1) 2.81ms\n",
            "INFO:tornado.access:200 GET /static/extensions/panel/css/select.css?v=1.4.5 (::1) 2.81ms\n",
            "INFO:tornado.access:200 GET /static/extensions/panel/css/button.css?v=1.4.5 (::1) 2.59ms\n",
            "INFO:tornado.access:200 GET /static/extensions/panel/css/button.css?v=1.4.5 (::1) 2.59ms\n",
            "INFO:tornado.access:200 GET /static/extensions/panel/css/divider.css?v=1.4.5 (::1) 3.29ms\n",
            "INFO:tornado.access:200 GET /static/extensions/panel/css/divider.css?v=1.4.5 (::1) 3.29ms\n",
            "INFO:tornado.access:200 GET /static/extensions/panel/bundled/font-awesome/css/all.min.css?v=1.4.5 (::1) 2.60ms\n",
            "INFO:tornado.access:200 GET /static/extensions/panel/bundled/font-awesome/css/all.min.css?v=1.4.5 (::1) 2.60ms\n",
            "INFO:tornado.access:200 GET /static/js/bokeh.min.js?v=887e6bace8d80f5c1555c1913f730061c2d73acb83adb7f4ccf2ef02ffc7e5e864f7b1c97db9a4f6643a1431700d65e2686759f5c4bb1ac92631e8b659ceead3 (::1) 16.83ms\n",
            "INFO:tornado.access:200 GET /static/js/bokeh.min.js?v=887e6bace8d80f5c1555c1913f730061c2d73acb83adb7f4ccf2ef02ffc7e5e864f7b1c97db9a4f6643a1431700d65e2686759f5c4bb1ac92631e8b659ceead3 (::1) 16.83ms\n",
            "INFO:tornado.access:200 GET /static/extensions/panel/css/loading.css?v=1.4.5 (::1) 1.64ms\n",
            "INFO:tornado.access:200 GET /static/extensions/panel/css/loading.css?v=1.4.5 (::1) 1.64ms\n",
            "INFO:tornado.access:200 GET /static/extensions/panel/bundled/material-components-web@7.0.0/dist/material-components-web.min.css (::1) 2.89ms\n",
            "INFO:tornado.access:200 GET /static/extensions/panel/bundled/material-components-web@7.0.0/dist/material-components-web.min.css (::1) 2.89ms\n",
            "INFO:tornado.access:200 GET /static/extensions/panel/bundled/theme/material_variables.css?v=1.4.5 (::1) 2.02ms\n",
            "INFO:tornado.access:200 GET /static/extensions/panel/bundled/theme/material_variables.css?v=1.4.5 (::1) 2.02ms\n",
            "INFO:tornado.access:200 GET /static/extensions/panel/bundled/materialtemplate/material.css?v=1.4.5 (::1) 2.66ms\n",
            "INFO:tornado.access:200 GET /static/extensions/panel/bundled/materialtemplate/material.css?v=1.4.5 (::1) 2.66ms\n",
            "INFO:tornado.access:200 GET /static/extensions/panel/bundled/material-components-web@7.0.0/dist/material-components-web.min.js (::1) 2.72ms\n",
            "INFO:tornado.access:200 GET /static/extensions/panel/bundled/material-components-web@7.0.0/dist/material-components-web.min.js (::1) 2.72ms\n",
            "INFO:tornado.access:200 GET /static/extensions/panel/bundled/theme/default.css?v=1.4.5 (::1) 0.72ms\n",
            "INFO:tornado.access:200 GET /static/extensions/panel/bundled/theme/default.css?v=1.4.5 (::1) 0.72ms\n",
            "INFO:tornado.access:200 GET /static/extensions/panel/images/favicon.ico (::1) 0.64ms\n",
            "INFO:tornado.access:200 GET /static/extensions/panel/images/favicon.ico (::1) 0.64ms\n",
            "INFO:tornado.access:101 GET /ws (::1) 0.55ms\n",
            "INFO:tornado.access:101 GET /ws (::1) 0.55ms\n",
            "INFO:bokeh.server.views.ws:WebSocket connection opened\n",
            "INFO:bokeh.server.views.ws:ServerConnection created\n",
            "INFO:tornado.access:200 GET /static/extensions/panel/bundled/theme/material.css?v=1.4.5 (::1) 0.51ms\n",
            "INFO:tornado.access:200 GET /static/extensions/panel/bundled/theme/material.css?v=1.4.5 (::1) 0.51ms\n",
            "INFO:tornado.access:200 GET /static/extensions/panel/bundled/jsoneditor/jsoneditor@10.0.1/dist/img/jsoneditor-icons.svg (::1) 0.48ms\n",
            "INFO:tornado.access:200 GET /static/extensions/panel/bundled/jsoneditor/jsoneditor@10.0.1/dist/img/jsoneditor-icons.svg (::1) 0.48ms\n",
            "INFO:slegoapp:funcfilecombo changed: []\n",
            "INFO:slegoapp:Updating functions for selected modules: []\n",
            "INFO:slegoapp:funcfilecombo changed: ['f-image_classificaiton.py']\n",
            "INFO:slegoapp:Updating functions for selected modules: ['f-image_classificaiton.py']\n",
            "INFO:slegoapp:Function combobox updated based on the selected modules.\n",
            "INFO:slegoapp:funccombo changed: ['f-image_classificaiton.fetch_cifar10_dataset']\n",
            "INFO:slegoapp:Selected functions: ['f-image_classificaiton.fetch_cifar10_dataset']\n",
            "INFO:slegoapp:JSON editor changed.\n",
            "INFO:slegoapp:Input text changed.\n",
            "INFO:slegoapp:Compute button clicked.\n",
            "INFO:slegoapp:Pipeline dict: {'f-image_classificaiton.fetch_cifar10_dataset': {'output_data_path': 'dataspace/cifar10_data.npz', 'images_output_dir': 'dataspace/cifar10_images', 'train_split': 0.8, 'random_seed': 42}}\n",
            "INFO:slegoapp:Computing f-image_classificaiton.fetch_cifar10_dataset with parameters {'output_data_path': 'dataspace/cifar10_data.npz', 'images_output_dir': 'dataspace/cifar10_images', 'train_split': 0.8, 'random_seed': 42}\n"
          ]
        },
        {
          "name": "stdout",
          "output_type": "stream",
          "text": [
            "Downloading data from https://www.cs.toronto.edu/~kriz/cifar-10-python.tar.gz\n",
            "\u001b[1m170498071/170498071\u001b[0m \u001b[32m━━━━━━━━━━━━━━━━━━━━\u001b[0m\u001b[37m\u001b[0m \u001b[1m30s\u001b[0m 0us/step\n",
            "CIFAR-10 dataset saved to dataspace/cifar10_data.npz\n",
            "Training images saved to dataspace/cifar10_images/train\n"
          ]
        },
        {
          "name": "stderr",
          "output_type": "stream",
          "text": [
            "INFO:slegoapp:Function f-image_classificaiton.fetch_cifar10_dataset computed successfully.\n",
            "INFO:slegoapp:Record saved to /Users/an/Library/CloudStorage/OneDrive-Personal/Documents/GitHub/SLEGO-Project/slegospace/recordspace/record_20240914_215312.json\n",
            "INFO:slegoapp:Refreshing file table...\n",
            "INFO:slegoapp:File folder confirm button clicked.\n",
            "INFO:slegoapp:Updated file table with files from /Users/an/Library/CloudStorage/OneDrive-Personal/Documents/GitHub/SLEGO-Project/slegospace/dataspace\n",
            "INFO:slegoapp:Refreshing file table...\n"
          ]
        },
        {
          "name": "stdout",
          "output_type": "stream",
          "text": [
            "Validation images saved to dataspace/cifar10_images/validation\n"
          ]
        },
        {
          "name": "stderr",
          "output_type": "stream",
          "text": [
            "INFO:slegoapp:funccombo changed: []\n",
            "INFO:slegoapp:Selected functions: []\n",
            "INFO:slegoapp:JSON editor changed.\n",
            "INFO:slegoapp:Input text changed.\n",
            "INFO:slegoapp:funccombo changed: ['f-image_classificaiton.gather_image_paths']\n",
            "INFO:slegoapp:Selected functions: ['f-image_classificaiton.gather_image_paths']\n",
            "INFO:slegoapp:JSON editor changed.\n",
            "INFO:slegoapp:Input text changed.\n",
            "INFO:slegoapp:JSON editor changed.\n",
            "INFO:slegoapp:funccombo changed: []\n",
            "INFO:slegoapp:Selected functions: []\n",
            "INFO:slegoapp:JSON editor changed.\n",
            "INFO:slegoapp:Input text changed.\n",
            "INFO:slegoapp:funccombo changed: ['f-image_classificaiton.train_cnn_model']\n",
            "INFO:slegoapp:Selected functions: ['f-image_classificaiton.train_cnn_model']\n",
            "INFO:slegoapp:JSON editor changed.\n",
            "INFO:slegoapp:Input text changed.\n",
            "INFO:slegoapp:Compute button clicked.\n",
            "INFO:slegoapp:Pipeline dict: {'f-image_classificaiton.train_cnn_model': {'images_dir': 'dataspace/cifar10_images', 'model_output_path': 'dataspace/cnn_model.h5', 'performance_output_path': 'dataspace/cnn_performance.txt', 'epochs': 20, 'batch_size': 64, 'img_height': 32, 'img_width': 32}}\n",
            "INFO:slegoapp:Computing f-image_classificaiton.train_cnn_model with parameters {'images_dir': 'dataspace/cifar10_images', 'model_output_path': 'dataspace/cnn_model.h5', 'performance_output_path': 'dataspace/cnn_performance.txt', 'epochs': 20, 'batch_size': 64, 'img_height': 32, 'img_width': 32}\n"
          ]
        },
        {
          "name": "stdout",
          "output_type": "stream",
          "text": [
            "Found 50000 images belonging to 10 classes.\n",
            "Found 10000 images belonging to 10 classes.\n",
            "Epoch 1/20\n"
          ]
        },
        {
          "name": "stderr",
          "output_type": "stream",
          "text": [
            "/Users/an/anaconda3/envs/slegolite310/lib/python3.10/site-packages/keras/src/layers/convolutional/base_conv.py:107: UserWarning: Do not pass an `input_shape`/`input_dim` argument to a layer. When using Sequential models, prefer using an `Input(shape)` object as the first layer in the model instead.\n",
            "  super().__init__(activity_regularizer=activity_regularizer, **kwargs)\n",
            "/Users/an/anaconda3/envs/slegolite310/lib/python3.10/site-packages/keras/src/trainers/data_adapters/py_dataset_adapter.py:120: UserWarning: Your `PyDataset` class should call `super().__init__(**kwargs)` in its constructor. `**kwargs` can include `workers`, `use_multiprocessing`, `max_queue_size`. Do not pass these arguments to `fit()`, as they will be ignored.\n",
            "  self._warn_if_super_not_called()\n"
          ]
        },
        {
          "name": "stdout",
          "output_type": "stream",
          "text": [
            "\u001b[1m782/782\u001b[0m \u001b[32m━━━━━━━━━━━━━━━━━━━━\u001b[0m\u001b[37m\u001b[0m \u001b[1m40s\u001b[0m 49ms/step - accuracy: 0.2723 - loss: 1.9501 - val_accuracy: 0.4789 - val_loss: 1.3962\n",
            "Epoch 2/20\n",
            "\u001b[1m782/782\u001b[0m \u001b[32m━━━━━━━━━━━━━━━━━━━━\u001b[0m\u001b[37m\u001b[0m \u001b[1m43s\u001b[0m 55ms/step - accuracy: 0.4793 - loss: 1.4290 - val_accuracy: 0.5670 - val_loss: 1.2106\n",
            "Epoch 3/20\n",
            "\u001b[1m782/782\u001b[0m \u001b[32m━━━━━━━━━━━━━━━━━━━━\u001b[0m\u001b[37m\u001b[0m \u001b[1m45s\u001b[0m 58ms/step - accuracy: 0.5496 - loss: 1.2498 - val_accuracy: 0.6508 - val_loss: 0.9865\n",
            "Epoch 4/20\n",
            "\u001b[1m439/782\u001b[0m \u001b[32m━━━━━━━━━━━\u001b[0m\u001b[37m━━━━━━━━━\u001b[0m \u001b[1m18s\u001b[0m 54ms/step - accuracy: 0.5914 - loss: 1.1383"
          ]
        }
      ],
      "source": [
        "import slegoapp\n",
        "import panel as pn\n",
        "\n",
        "# Kill all existing servers\n",
        "pn.state.kill_all_servers()\n",
        "\n",
        "# Create and run the new app\n",
        "slego_app = slegoapp.SLEGOApp(config)\n",
        "slego_app.run()"
      ]
    }
  ],
  "metadata": {
    "colab": {
      "include_colab_link": true,
      "provenance": []
    },
    "kernelspec": {
      "display_name": "Python 3",
      "name": "python3"
    },
    "language_info": {
      "codemirror_mode": {
        "name": "ipython",
        "version": 3
      },
      "file_extension": ".py",
      "mimetype": "text/x-python",
      "name": "python",
      "nbconvert_exporter": "python",
      "pygments_lexer": "ipython3",
      "version": "3.10.14"
    }
  },
  "nbformat": 4,
  "nbformat_minor": 0
}
