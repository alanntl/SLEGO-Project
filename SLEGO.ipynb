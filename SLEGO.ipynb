{
  "cells": [
    {
      "cell_type": "markdown",
      "metadata": {
        "id": "DlOV4N79Fwrf"
      },
      "source": [
        "# SLEGO Project: UNSW CSE PhD Research - Alan Siu Lung Ng\n",
        "https://github.com/alanntl/SLEGO-Project"
      ]
    },
    {
      "cell_type": "code",
      "execution_count": 1,
      "metadata": {},
      "outputs": [
        {
          "name": "stderr",
          "output_type": "stream",
          "text": [
            "INFO:root:Starting environment setup...\n",
            "INFO:root:Environment detected: Jupyter Notebook or JupyterLab\n",
            "INFO:root:Setting up configuration for Local or GitHub Codespaces or Jupyter environment.\n",
            "INFO:root:Configuration settings: {'use_local_repo': True, 'local_repo_path': '/Users/an/Library/CloudStorage/OneDrive-Personal/Documents/GitHub/SLEGO-Project', 'drive_folder': '/Users/an/Library/CloudStorage/OneDrive-Personal/Documents/GitHub/SLEGO-Project', 'drive_mainfolder': '/Users/an/Library/CloudStorage/OneDrive-Personal/Documents/GitHub/SLEGO-Project', 'folder_path': '/Users/an/Library/CloudStorage/OneDrive-Personal/Documents/GitHub/SLEGO-Project', 'dataspace': '/Users/an/Library/CloudStorage/OneDrive-Personal/Documents/GitHub/SLEGO-Project/dataspace', 'recordspace': '/Users/an/Library/CloudStorage/OneDrive-Personal/Documents/GitHub/SLEGO-Project/recordspace', 'functionspace': '/Users/an/Library/CloudStorage/OneDrive-Personal/Documents/GitHub/SLEGO-Project/functionspace', 'knowledgespace': '/Users/an/Library/CloudStorage/OneDrive-Personal/Documents/GitHub/SLEGO-Project/knowledgespace', 'ontologyspace': '/Users/an/Library/CloudStorage/OneDrive-Personal/Documents/GitHub/SLEGO-Project/ontologyspace'}\n",
            "INFO:root:Already in a valid workspace. No changes needed.\n",
            "INFO:root:Environment setup completed.\n"
          ]
        }
      ],
      "source": [
        "# First, import the environment_setup module\n",
        "import environment_setup\n",
        "import os\n",
        "# see current filder\n",
        "os.getcwd()\n",
        "repo_path = os.getcwd()\n",
        "\n",
        "# Setup environment with explicit local_repo_path\n",
        "config = environment_setup.setup_environment(use_local_repo=True, local_repo_path=repo_path)\n"
      ]
    },
    {
      "cell_type": "markdown",
      "metadata": {
        "id": "xaXV8VuIX15o"
      },
      "source": [
        "# SLEGO APP"
      ]
    },
    {
      "cell_type": "code",
      "execution_count": 2,
      "metadata": {},
      "outputs": [
        {
          "data": {
            "text/plain": [
              "{'use_local_repo': True,\n",
              " 'local_repo_path': '/Users/an/Library/CloudStorage/OneDrive-Personal/Documents/GitHub/SLEGO-Project',\n",
              " 'drive_folder': '/Users/an/Library/CloudStorage/OneDrive-Personal/Documents/GitHub/SLEGO-Project',\n",
              " 'drive_mainfolder': '/Users/an/Library/CloudStorage/OneDrive-Personal/Documents/GitHub/SLEGO-Project',\n",
              " 'folder_path': '/Users/an/Library/CloudStorage/OneDrive-Personal/Documents/GitHub/SLEGO-Project',\n",
              " 'dataspace': '/Users/an/Library/CloudStorage/OneDrive-Personal/Documents/GitHub/SLEGO-Project/dataspace',\n",
              " 'recordspace': '/Users/an/Library/CloudStorage/OneDrive-Personal/Documents/GitHub/SLEGO-Project/recordspace',\n",
              " 'functionspace': '/Users/an/Library/CloudStorage/OneDrive-Personal/Documents/GitHub/SLEGO-Project/functionspace',\n",
              " 'knowledgespace': '/Users/an/Library/CloudStorage/OneDrive-Personal/Documents/GitHub/SLEGO-Project/knowledgespace',\n",
              " 'ontologyspace': '/Users/an/Library/CloudStorage/OneDrive-Personal/Documents/GitHub/SLEGO-Project/ontologyspace'}"
            ]
          },
          "metadata": {},
          "output_type": "display_data"
        }
      ],
      "source": [
        "#if jupyter use display , else print\n",
        "if 'get_ipython' in globals():\n",
        "    from IPython.display import display\n",
        "    display(config)\n",
        "else:\n",
        "    print(config)"
      ]
    },
    {
      "cell_type": "code",
      "execution_count": null,
      "metadata": {},
      "outputs": [
        {
          "data": {
            "text/html": [
              "<script type=\"esms-options\">{\"shimMode\": true}</script><style>*[data-root-id],\n",
              "*[data-root-id] > * {\n",
              "  box-sizing: border-box;\n",
              "  font-family: var(--jp-ui-font-family);\n",
              "  font-size: var(--jp-ui-font-size1);\n",
              "  color: var(--vscode-editor-foreground, var(--jp-ui-font-color1));\n",
              "}\n",
              "\n",
              "/* Override VSCode background color */\n",
              ".cell-output-ipywidget-background:has(\n",
              "    > .cell-output-ipywidget-background > .lm-Widget > *[data-root-id]\n",
              "  ),\n",
              ".cell-output-ipywidget-background:has(> .lm-Widget > *[data-root-id]) {\n",
              "  background-color: transparent !important;\n",
              "}\n",
              "</style>"
            ]
          },
          "metadata": {},
          "output_type": "display_data"
        },
        {
          "data": {
            "application/javascript": "(function(root) {\n  function now() {\n    return new Date();\n  }\n\n  const force = true;\n  const py_version = '3.6.0'.replace('rc', '-rc.').replace('.dev', '-dev.');\n  const reloading = false;\n  const Bokeh = root.Bokeh;\n\n  // Set a timeout for this load but only if we are not already initializing\n  if (typeof (root._bokeh_timeout) === \"undefined\" || (force || !root._bokeh_is_initializing)) {\n    root._bokeh_timeout = Date.now() + 5000;\n    root._bokeh_failed_load = false;\n  }\n\n  function run_callbacks() {\n    try {\n      root._bokeh_onload_callbacks.forEach(function(callback) {\n        if (callback != null)\n          callback();\n      });\n    } finally {\n      delete root._bokeh_onload_callbacks;\n    }\n    console.debug(\"Bokeh: all callbacks have finished\");\n  }\n\n  function load_libs(css_urls, js_urls, js_modules, js_exports, callback) {\n    if (css_urls == null) css_urls = [];\n    if (js_urls == null) js_urls = [];\n    if (js_modules == null) js_modules = [];\n    if (js_exports == null) js_exports = {};\n\n    root._bokeh_onload_callbacks.push(callback);\n\n    if (root._bokeh_is_loading > 0) {\n      // Don't load bokeh if it is still initializing\n      console.debug(\"Bokeh: BokehJS is being loaded, scheduling callback at\", now());\n      return null;\n    } else if (js_urls.length === 0 && js_modules.length === 0 && Object.keys(js_exports).length === 0) {\n      // There is nothing to load\n      run_callbacks();\n      return null;\n    }\n\n    function on_load() {\n      root._bokeh_is_loading--;\n      if (root._bokeh_is_loading === 0) {\n        console.debug(\"Bokeh: all BokehJS libraries/stylesheets loaded\");\n        run_callbacks()\n      }\n    }\n    window._bokeh_on_load = on_load\n\n    function on_error(e) {\n      const src_el = e.srcElement\n      console.error(\"failed to load \" + (src_el.href || src_el.src));\n    }\n\n    const skip = [];\n    if (window.requirejs) {\n      window.requirejs.config({'packages': {}, 'paths': {'ace': '//cdnjs.cloudflare.com/ajax/libs/ace/1.4.7', 'jsoneditor': '//cdn.jsdelivr.net/npm/jsoneditor@10.0.1/dist/jsoneditor.min', 'tabulator': 'https://cdn.jsdelivr.net/npm/tabulator-tables@6.3.0/dist/js/tabulator.min', 'moment': 'https://cdn.jsdelivr.net/npm/luxon/build/global/luxon.min'}, 'shim': {'ace/ext-language_tools': {'deps': ['ace/ace']}, 'ace/ext-modelist': {'deps': ['ace/ace']}, 'jsoneditor': {'exports': 'JSONEditor'}}});\n      require([\"ace/ace\"], function(ace) {\n        window.ace = ace\n        on_load()\n      })\n      require([\"ace/ext-language_tools\"], function() {\n        on_load()\n      })\n      require([\"ace/ext-modelist\"], function() {\n        on_load()\n      })\n      require([\"jsoneditor\"], function(JSONEditor) {\n        window.JSONEditor = JSONEditor\n        on_load()\n      })\n      require([\"tabulator\"], function(Tabulator) {\n        window.Tabulator = Tabulator\n        on_load()\n      })\n      require([\"moment\"], function(moment) {\n        window.moment = moment\n        on_load()\n      })\n      root._bokeh_is_loading = css_urls.length + 6;\n    } else {\n      root._bokeh_is_loading = css_urls.length + js_urls.length + js_modules.length + Object.keys(js_exports).length;\n    }\n\n    const existing_stylesheets = []\n    const links = document.getElementsByTagName('link')\n    for (let i = 0; i < links.length; i++) {\n      const link = links[i]\n      if (link.href != null) {\n        existing_stylesheets.push(link.href)\n      }\n    }\n    for (let i = 0; i < css_urls.length; i++) {\n      const url = css_urls[i];\n      const escaped = encodeURI(url)\n      if (existing_stylesheets.indexOf(escaped) !== -1) {\n        on_load()\n        continue;\n      }\n      const element = document.createElement(\"link\");\n      element.onload = on_load;\n      element.onerror = on_error;\n      element.rel = \"stylesheet\";\n      element.type = \"text/css\";\n      element.href = url;\n      console.debug(\"Bokeh: injecting link tag for BokehJS stylesheet: \", url);\n      document.body.appendChild(element);\n    }    if (((window.ace !== undefined) && (!(window.ace instanceof HTMLElement))) || window.requirejs) {\n      var urls = ['https://cdnjs.cloudflare.com/ajax/libs/ace/1.4.11/ace.js', 'https://cdnjs.cloudflare.com/ajax/libs/ace/1.4.11/ext-language_tools.js', 'https://cdnjs.cloudflare.com/ajax/libs/ace/1.4.11/ext-modelist.js'];\n      for (var i = 0; i < urls.length; i++) {\n        skip.push(encodeURI(urls[i]))\n      }\n    }    if (((window.JSONEditor !== undefined) && (!(window.JSONEditor instanceof HTMLElement))) || window.requirejs) {\n      var urls = ['https://cdn.holoviz.org/panel/1.5.3/dist/bundled/jsoneditor/jsoneditor@10.0.1/dist/jsoneditor.min.js'];\n      for (var i = 0; i < urls.length; i++) {\n        skip.push(encodeURI(urls[i]))\n      }\n    }    if (((window.Tabulator !== undefined) && (!(window.Tabulator instanceof HTMLElement))) || window.requirejs) {\n      var urls = ['https://cdn.holoviz.org/panel/1.5.3/dist/bundled/datatabulator/tabulator-tables@6.3.0/dist/js/tabulator.min.js'];\n      for (var i = 0; i < urls.length; i++) {\n        skip.push(encodeURI(urls[i]))\n      }\n    }    if (((window.moment !== undefined) && (!(window.moment instanceof HTMLElement))) || window.requirejs) {\n      var urls = ['https://cdn.holoviz.org/panel/1.5.3/dist/bundled/datatabulator/luxon/build/global/luxon.min.js'];\n      for (var i = 0; i < urls.length; i++) {\n        skip.push(encodeURI(urls[i]))\n      }\n    }    var existing_scripts = []\n    const scripts = document.getElementsByTagName('script')\n    for (let i = 0; i < scripts.length; i++) {\n      var script = scripts[i]\n      if (script.src != null) {\n        existing_scripts.push(script.src)\n      }\n    }\n    for (let i = 0; i < js_urls.length; i++) {\n      const url = js_urls[i];\n      const escaped = encodeURI(url)\n      if (skip.indexOf(escaped) !== -1 || existing_scripts.indexOf(escaped) !== -1) {\n        if (!window.requirejs) {\n          on_load();\n        }\n        continue;\n      }\n      const element = document.createElement('script');\n      element.onload = on_load;\n      element.onerror = on_error;\n      element.async = false;\n      element.src = url;\n      console.debug(\"Bokeh: injecting script tag for BokehJS library: \", url);\n      document.head.appendChild(element);\n    }\n    for (let i = 0; i < js_modules.length; i++) {\n      const url = js_modules[i];\n      const escaped = encodeURI(url)\n      if (skip.indexOf(escaped) !== -1 || existing_scripts.indexOf(escaped) !== -1) {\n        if (!window.requirejs) {\n          on_load();\n        }\n        continue;\n      }\n      var element = document.createElement('script');\n      element.onload = on_load;\n      element.onerror = on_error;\n      element.async = false;\n      element.src = url;\n      element.type = \"module\";\n      console.debug(\"Bokeh: injecting script tag for BokehJS library: \", url);\n      document.head.appendChild(element);\n    }\n    for (const name in js_exports) {\n      const url = js_exports[name];\n      const escaped = encodeURI(url)\n      if (skip.indexOf(escaped) >= 0 || root[name] != null) {\n        if (!window.requirejs) {\n          on_load();\n        }\n        continue;\n      }\n      var element = document.createElement('script');\n      element.onerror = on_error;\n      element.async = false;\n      element.type = \"module\";\n      console.debug(\"Bokeh: injecting script tag for BokehJS library: \", url);\n      element.textContent = `\n      import ${name} from \"${url}\"\n      window.${name} = ${name}\n      window._bokeh_on_load()\n      `\n      document.head.appendChild(element);\n    }\n    if (!js_urls.length && !js_modules.length) {\n      on_load()\n    }\n  };\n\n  function inject_raw_css(css) {\n    const element = document.createElement(\"style\");\n    element.appendChild(document.createTextNode(css));\n    document.body.appendChild(element);\n  }\n\n  const js_urls = [\"https://cdnjs.cloudflare.com/ajax/libs/ace/1.4.11/ace.js\", \"https://cdnjs.cloudflare.com/ajax/libs/ace/1.4.11/ext-language_tools.js\", \"https://cdnjs.cloudflare.com/ajax/libs/ace/1.4.11/ext-modelist.js\", \"https://cdn.holoviz.org/panel/1.5.3/dist/bundled/reactiveesm/es-module-shims@^1.10.0/dist/es-module-shims.min.js\", \"https://cdn.holoviz.org/panel/1.5.3/dist/bundled/jsoneditor/jsoneditor@10.0.1/dist/jsoneditor.min.js\", \"https://cdn.holoviz.org/panel/1.5.3/dist/bundled/datatabulator/tabulator-tables@6.3.0/dist/js/tabulator.min.js\", \"https://cdn.holoviz.org/panel/1.5.3/dist/bundled/datatabulator/luxon/build/global/luxon.min.js\", \"https://cdn.bokeh.org/bokeh/release/bokeh-3.6.0.min.js\", \"https://cdn.bokeh.org/bokeh/release/bokeh-gl-3.6.0.min.js\", \"https://cdn.bokeh.org/bokeh/release/bokeh-widgets-3.6.0.min.js\", \"https://cdn.bokeh.org/bokeh/release/bokeh-tables-3.6.0.min.js\", \"https://cdn.holoviz.org/panel/1.5.3/dist/panel.min.js\"];\n  const js_modules = [];\n  const js_exports = {};\n  const css_urls = [\"https://cdn.holoviz.org/panel/1.5.3/dist/bundled/jsoneditor/jsoneditor@10.0.1/dist/jsoneditor.min.css?v=1.5.3\", \"https://cdn.holoviz.org/panel/1.5.3/dist/bundled/datatabulator/tabulator-tables@6.3.0/dist/css/tabulator_simple.min.css?v=1.5.3\"];\n  const inline_js = [    function(Bokeh) {\n      Bokeh.set_log_level(\"info\");\n    },\nfunction(Bokeh) {} // ensure no trailing comma for IE\n  ];\n\n  function run_inline_js() {\n    if ((root.Bokeh !== undefined) || (force === true)) {\n      for (let i = 0; i < inline_js.length; i++) {\n        try {\n          inline_js[i].call(root, root.Bokeh);\n        } catch(e) {\n          if (!reloading) {\n            throw e;\n          }\n        }\n      }\n      // Cache old bokeh versions\n      if (Bokeh != undefined && !reloading) {\n        var NewBokeh = root.Bokeh;\n        if (Bokeh.versions === undefined) {\n          Bokeh.versions = new Map();\n        }\n        if (NewBokeh.version !== Bokeh.version) {\n          Bokeh.versions.set(NewBokeh.version, NewBokeh)\n        }\n        root.Bokeh = Bokeh;\n      }\n    } else if (Date.now() < root._bokeh_timeout) {\n      setTimeout(run_inline_js, 100);\n    } else if (!root._bokeh_failed_load) {\n      console.log(\"Bokeh: BokehJS failed to load within specified timeout.\");\n      root._bokeh_failed_load = true;\n    }\n    root._bokeh_is_initializing = false\n  }\n\n  function load_or_wait() {\n    // Implement a backoff loop that tries to ensure we do not load multiple\n    // versions of Bokeh and its dependencies at the same time.\n    // In recent versions we use the root._bokeh_is_initializing flag\n    // to determine whether there is an ongoing attempt to initialize\n    // bokeh, however for backward compatibility we also try to ensure\n    // that we do not start loading a newer (Panel>=1.0 and Bokeh>3) version\n    // before older versions are fully initialized.\n    if (root._bokeh_is_initializing && Date.now() > root._bokeh_timeout) {\n      // If the timeout and bokeh was not successfully loaded we reset\n      // everything and try loading again\n      root._bokeh_timeout = Date.now() + 5000;\n      root._bokeh_is_initializing = false;\n      root._bokeh_onload_callbacks = undefined;\n      root._bokeh_is_loading = 0\n      console.log(\"Bokeh: BokehJS was loaded multiple times but one version failed to initialize.\");\n      load_or_wait();\n    } else if (root._bokeh_is_initializing || (typeof root._bokeh_is_initializing === \"undefined\" && root._bokeh_onload_callbacks !== undefined)) {\n      setTimeout(load_or_wait, 100);\n    } else {\n      root._bokeh_is_initializing = true\n      root._bokeh_onload_callbacks = []\n      const bokeh_loaded = root.Bokeh != null && (root.Bokeh.version === py_version || (root.Bokeh.versions !== undefined && root.Bokeh.versions.has(py_version)));\n      if (!reloading && !bokeh_loaded) {\n        if (root.Bokeh) {\n          root.Bokeh = undefined;\n        }\n        console.debug(\"Bokeh: BokehJS not loaded, scheduling load and callback at\", now());\n      }\n      load_libs(css_urls, js_urls, js_modules, js_exports, function() {\n        console.debug(\"Bokeh: BokehJS plotting callback run at\", now());\n        run_inline_js();\n      });\n    }\n  }\n  // Give older versions of the autoload script a head-start to ensure\n  // they initialize before we start loading newer version.\n  setTimeout(load_or_wait, 100)\n}(window));",
            "application/vnd.holoviews_load.v0+json": ""
          },
          "metadata": {},
          "output_type": "display_data"
        },
        {
          "data": {
            "application/javascript": "\nif ((window.PyViz === undefined) || (window.PyViz instanceof HTMLElement)) {\n  window.PyViz = {comms: {}, comm_status:{}, kernels:{}, receivers: {}, plot_index: []}\n}\n\n\n    function JupyterCommManager() {\n    }\n\n    JupyterCommManager.prototype.register_target = function(plot_id, comm_id, msg_handler) {\n      if (window.comm_manager || ((window.Jupyter !== undefined) && (Jupyter.notebook.kernel != null))) {\n        var comm_manager = window.comm_manager || Jupyter.notebook.kernel.comm_manager;\n        comm_manager.register_target(comm_id, function(comm) {\n          comm.on_msg(msg_handler);\n        });\n      } else if ((plot_id in window.PyViz.kernels) && (window.PyViz.kernels[plot_id])) {\n        window.PyViz.kernels[plot_id].registerCommTarget(comm_id, function(comm) {\n          comm.onMsg = msg_handler;\n        });\n      } else if (typeof google != 'undefined' && google.colab.kernel != null) {\n        google.colab.kernel.comms.registerTarget(comm_id, (comm) => {\n          var messages = comm.messages[Symbol.asyncIterator]();\n          function processIteratorResult(result) {\n            var message = result.value;\n            console.log(message)\n            var content = {data: message.data, comm_id};\n            var buffers = []\n            for (var buffer of message.buffers || []) {\n              buffers.push(new DataView(buffer))\n            }\n            var metadata = message.metadata || {};\n            var msg = {content, buffers, metadata}\n            msg_handler(msg);\n            return messages.next().then(processIteratorResult);\n          }\n          return messages.next().then(processIteratorResult);\n        })\n      }\n    }\n\n    JupyterCommManager.prototype.get_client_comm = function(plot_id, comm_id, msg_handler) {\n      if (comm_id in window.PyViz.comms) {\n        return window.PyViz.comms[comm_id];\n      } else if (window.comm_manager || ((window.Jupyter !== undefined) && (Jupyter.notebook.kernel != null))) {\n        var comm_manager = window.comm_manager || Jupyter.notebook.kernel.comm_manager;\n        var comm = comm_manager.new_comm(comm_id, {}, {}, {}, comm_id);\n        if (msg_handler) {\n          comm.on_msg(msg_handler);\n        }\n      } else if ((plot_id in window.PyViz.kernels) && (window.PyViz.kernels[plot_id])) {\n        var comm = window.PyViz.kernels[plot_id].connectToComm(comm_id);\n        comm.open();\n        if (msg_handler) {\n          comm.onMsg = msg_handler;\n        }\n      } else if (typeof google != 'undefined' && google.colab.kernel != null) {\n        var comm_promise = google.colab.kernel.comms.open(comm_id)\n        comm_promise.then((comm) => {\n          window.PyViz.comms[comm_id] = comm;\n          if (msg_handler) {\n            var messages = comm.messages[Symbol.asyncIterator]();\n            function processIteratorResult(result) {\n              var message = result.value;\n              var content = {data: message.data};\n              var metadata = message.metadata || {comm_id};\n              var msg = {content, metadata}\n              msg_handler(msg);\n              return messages.next().then(processIteratorResult);\n            }\n            return messages.next().then(processIteratorResult);\n          }\n        }) \n        var sendClosure = (data, metadata, buffers, disposeOnDone) => {\n          return comm_promise.then((comm) => {\n            comm.send(data, metadata, buffers, disposeOnDone);\n          });\n        };\n        var comm = {\n          send: sendClosure\n        };\n      }\n      window.PyViz.comms[comm_id] = comm;\n      return comm;\n    }\n    window.PyViz.comm_manager = new JupyterCommManager();\n    \n\n\nvar JS_MIME_TYPE = 'application/javascript';\nvar HTML_MIME_TYPE = 'text/html';\nvar EXEC_MIME_TYPE = 'application/vnd.holoviews_exec.v0+json';\nvar CLASS_NAME = 'output';\n\n/**\n * Render data to the DOM node\n */\nfunction render(props, node) {\n  var div = document.createElement(\"div\");\n  var script = document.createElement(\"script\");\n  node.appendChild(div);\n  node.appendChild(script);\n}\n\n/**\n * Handle when a new output is added\n */\nfunction handle_add_output(event, handle) {\n  var output_area = handle.output_area;\n  var output = handle.output;\n  if ((output.data == undefined) || (!output.data.hasOwnProperty(EXEC_MIME_TYPE))) {\n    return\n  }\n  var id = output.metadata[EXEC_MIME_TYPE][\"id\"];\n  var toinsert = output_area.element.find(\".\" + CLASS_NAME.split(' ')[0]);\n  if (id !== undefined) {\n    var nchildren = toinsert.length;\n    var html_node = toinsert[nchildren-1].children[0];\n    html_node.innerHTML = output.data[HTML_MIME_TYPE];\n    var scripts = [];\n    var nodelist = html_node.querySelectorAll(\"script\");\n    for (var i in nodelist) {\n      if (nodelist.hasOwnProperty(i)) {\n        scripts.push(nodelist[i])\n      }\n    }\n\n    scripts.forEach( function (oldScript) {\n      var newScript = document.createElement(\"script\");\n      var attrs = [];\n      var nodemap = oldScript.attributes;\n      for (var j in nodemap) {\n        if (nodemap.hasOwnProperty(j)) {\n          attrs.push(nodemap[j])\n        }\n      }\n      attrs.forEach(function(attr) { newScript.setAttribute(attr.name, attr.value) });\n      newScript.appendChild(document.createTextNode(oldScript.innerHTML));\n      oldScript.parentNode.replaceChild(newScript, oldScript);\n    });\n    if (JS_MIME_TYPE in output.data) {\n      toinsert[nchildren-1].children[1].textContent = output.data[JS_MIME_TYPE];\n    }\n    output_area._hv_plot_id = id;\n    if ((window.Bokeh !== undefined) && (id in Bokeh.index)) {\n      window.PyViz.plot_index[id] = Bokeh.index[id];\n    } else {\n      window.PyViz.plot_index[id] = null;\n    }\n  } else if (output.metadata[EXEC_MIME_TYPE][\"server_id\"] !== undefined) {\n    var bk_div = document.createElement(\"div\");\n    bk_div.innerHTML = output.data[HTML_MIME_TYPE];\n    var script_attrs = bk_div.children[0].attributes;\n    for (var i = 0; i < script_attrs.length; i++) {\n      toinsert[toinsert.length - 1].childNodes[1].setAttribute(script_attrs[i].name, script_attrs[i].value);\n    }\n    // store reference to server id on output_area\n    output_area._bokeh_server_id = output.metadata[EXEC_MIME_TYPE][\"server_id\"];\n  }\n}\n\n/**\n * Handle when an output is cleared or removed\n */\nfunction handle_clear_output(event, handle) {\n  var id = handle.cell.output_area._hv_plot_id;\n  var server_id = handle.cell.output_area._bokeh_server_id;\n  if (((id === undefined) || !(id in PyViz.plot_index)) && (server_id !== undefined)) { return; }\n  var comm = window.PyViz.comm_manager.get_client_comm(\"hv-extension-comm\", \"hv-extension-comm\", function () {});\n  if (server_id !== null) {\n    comm.send({event_type: 'server_delete', 'id': server_id});\n    return;\n  } else if (comm !== null) {\n    comm.send({event_type: 'delete', 'id': id});\n  }\n  delete PyViz.plot_index[id];\n  if ((window.Bokeh !== undefined) & (id in window.Bokeh.index)) {\n    var doc = window.Bokeh.index[id].model.document\n    doc.clear();\n    const i = window.Bokeh.documents.indexOf(doc);\n    if (i > -1) {\n      window.Bokeh.documents.splice(i, 1);\n    }\n  }\n}\n\n/**\n * Handle kernel restart event\n */\nfunction handle_kernel_cleanup(event, handle) {\n  delete PyViz.comms[\"hv-extension-comm\"];\n  window.PyViz.plot_index = {}\n}\n\n/**\n * Handle update_display_data messages\n */\nfunction handle_update_output(event, handle) {\n  handle_clear_output(event, {cell: {output_area: handle.output_area}})\n  handle_add_output(event, handle)\n}\n\nfunction register_renderer(events, OutputArea) {\n  function append_mime(data, metadata, element) {\n    // create a DOM node to render to\n    var toinsert = this.create_output_subarea(\n    metadata,\n    CLASS_NAME,\n    EXEC_MIME_TYPE\n    );\n    this.keyboard_manager.register_events(toinsert);\n    // Render to node\n    var props = {data: data, metadata: metadata[EXEC_MIME_TYPE]};\n    render(props, toinsert[0]);\n    element.append(toinsert);\n    return toinsert\n  }\n\n  events.on('output_added.OutputArea', handle_add_output);\n  events.on('output_updated.OutputArea', handle_update_output);\n  events.on('clear_output.CodeCell', handle_clear_output);\n  events.on('delete.Cell', handle_clear_output);\n  events.on('kernel_ready.Kernel', handle_kernel_cleanup);\n\n  OutputArea.prototype.register_mime_type(EXEC_MIME_TYPE, append_mime, {\n    safe: true,\n    index: 0\n  });\n}\n\nif (window.Jupyter !== undefined) {\n  try {\n    var events = require('base/js/events');\n    var OutputArea = require('notebook/js/outputarea').OutputArea;\n    if (OutputArea.prototype.mime_types().indexOf(EXEC_MIME_TYPE) == -1) {\n      register_renderer(events, OutputArea);\n    }\n  } catch(err) {\n  }\n}\n",
            "application/vnd.holoviews_load.v0+json": ""
          },
          "metadata": {},
          "output_type": "display_data"
        },
        {
          "data": {
            "application/vnd.holoviews_exec.v0+json": "",
            "text/html": [
              "<div id='638938d7-1ebf-43b1-ac78-be62318b02c1'>\n",
              "  <div id=\"c35b7937-e67c-4069-825e-6c8cbb42ab4f\" data-root-id=\"638938d7-1ebf-43b1-ac78-be62318b02c1\" style=\"display: contents;\"></div>\n",
              "</div>\n",
              "<script type=\"application/javascript\">(function(root) {\n",
              "  var docs_json = {\"1bee0d69-63aa-412b-bdff-5c8f72da88d9\":{\"version\":\"3.6.0\",\"title\":\"Bokeh Application\",\"roots\":[{\"type\":\"object\",\"name\":\"panel.models.browser.BrowserInfo\",\"id\":\"638938d7-1ebf-43b1-ac78-be62318b02c1\"},{\"type\":\"object\",\"name\":\"panel.models.comm_manager.CommManager\",\"id\":\"5927453d-d37b-4917-872b-86d022a7a53a\",\"attributes\":{\"plot_id\":\"638938d7-1ebf-43b1-ac78-be62318b02c1\",\"comm_id\":\"49904f85964246e19aba0b152842df3b\",\"client_comm_id\":\"1b55cb42e41a4d0caed999a3cfde38d1\"}}],\"defs\":[{\"type\":\"model\",\"name\":\"ReactiveHTML1\"},{\"type\":\"model\",\"name\":\"FlexBox1\",\"properties\":[{\"name\":\"align_content\",\"kind\":\"Any\",\"default\":\"flex-start\"},{\"name\":\"align_items\",\"kind\":\"Any\",\"default\":\"flex-start\"},{\"name\":\"flex_direction\",\"kind\":\"Any\",\"default\":\"row\"},{\"name\":\"flex_wrap\",\"kind\":\"Any\",\"default\":\"wrap\"},{\"name\":\"gap\",\"kind\":\"Any\",\"default\":\"\"},{\"name\":\"justify_content\",\"kind\":\"Any\",\"default\":\"flex-start\"}]},{\"type\":\"model\",\"name\":\"FloatPanel1\",\"properties\":[{\"name\":\"config\",\"kind\":\"Any\",\"default\":{\"type\":\"map\"}},{\"name\":\"contained\",\"kind\":\"Any\",\"default\":true},{\"name\":\"position\",\"kind\":\"Any\",\"default\":\"right-top\"},{\"name\":\"offsetx\",\"kind\":\"Any\",\"default\":null},{\"name\":\"offsety\",\"kind\":\"Any\",\"default\":null},{\"name\":\"theme\",\"kind\":\"Any\",\"default\":\"primary\"},{\"name\":\"status\",\"kind\":\"Any\",\"default\":\"normalized\"}]},{\"type\":\"model\",\"name\":\"GridStack1\",\"properties\":[{\"name\":\"mode\",\"kind\":\"Any\",\"default\":\"warn\"},{\"name\":\"ncols\",\"kind\":\"Any\",\"default\":null},{\"name\":\"nrows\",\"kind\":\"Any\",\"default\":null},{\"name\":\"allow_resize\",\"kind\":\"Any\",\"default\":true},{\"name\":\"allow_drag\",\"kind\":\"Any\",\"default\":true},{\"name\":\"state\",\"kind\":\"Any\",\"default\":[]}]},{\"type\":\"model\",\"name\":\"drag1\",\"properties\":[{\"name\":\"slider_width\",\"kind\":\"Any\",\"default\":5},{\"name\":\"slider_color\",\"kind\":\"Any\",\"default\":\"black\"},{\"name\":\"value\",\"kind\":\"Any\",\"default\":50}]},{\"type\":\"model\",\"name\":\"click1\",\"properties\":[{\"name\":\"terminal_output\",\"kind\":\"Any\",\"default\":\"\"},{\"name\":\"debug_name\",\"kind\":\"Any\",\"default\":\"\"},{\"name\":\"clears\",\"kind\":\"Any\",\"default\":0}]},{\"type\":\"model\",\"name\":\"FastWrapper1\",\"properties\":[{\"name\":\"object\",\"kind\":\"Any\",\"default\":null},{\"name\":\"style\",\"kind\":\"Any\",\"default\":null}]},{\"type\":\"model\",\"name\":\"NotificationAreaBase1\",\"properties\":[{\"name\":\"js_events\",\"kind\":\"Any\",\"default\":{\"type\":\"map\"}},{\"name\":\"position\",\"kind\":\"Any\",\"default\":\"bottom-right\"},{\"name\":\"_clear\",\"kind\":\"Any\",\"default\":0}]},{\"type\":\"model\",\"name\":\"NotificationArea1\",\"properties\":[{\"name\":\"js_events\",\"kind\":\"Any\",\"default\":{\"type\":\"map\"}},{\"name\":\"notifications\",\"kind\":\"Any\",\"default\":[]},{\"name\":\"position\",\"kind\":\"Any\",\"default\":\"bottom-right\"},{\"name\":\"_clear\",\"kind\":\"Any\",\"default\":0},{\"name\":\"types\",\"kind\":\"Any\",\"default\":[{\"type\":\"map\",\"entries\":[[\"type\",\"warning\"],[\"background\",\"#ffc107\"],[\"icon\",{\"type\":\"map\",\"entries\":[[\"className\",\"fas fa-exclamation-triangle\"],[\"tagName\",\"i\"],[\"color\",\"white\"]]}]]},{\"type\":\"map\",\"entries\":[[\"type\",\"info\"],[\"background\",\"#007bff\"],[\"icon\",{\"type\":\"map\",\"entries\":[[\"className\",\"fas fa-info-circle\"],[\"tagName\",\"i\"],[\"color\",\"white\"]]}]]}]}]},{\"type\":\"model\",\"name\":\"Notification\",\"properties\":[{\"name\":\"background\",\"kind\":\"Any\",\"default\":null},{\"name\":\"duration\",\"kind\":\"Any\",\"default\":3000},{\"name\":\"icon\",\"kind\":\"Any\",\"default\":null},{\"name\":\"message\",\"kind\":\"Any\",\"default\":\"\"},{\"name\":\"notification_type\",\"kind\":\"Any\",\"default\":null},{\"name\":\"_destroyed\",\"kind\":\"Any\",\"default\":false}]},{\"type\":\"model\",\"name\":\"TemplateActions1\",\"properties\":[{\"name\":\"open_modal\",\"kind\":\"Any\",\"default\":0},{\"name\":\"close_modal\",\"kind\":\"Any\",\"default\":0}]},{\"type\":\"model\",\"name\":\"BootstrapTemplateActions1\",\"properties\":[{\"name\":\"open_modal\",\"kind\":\"Any\",\"default\":0},{\"name\":\"close_modal\",\"kind\":\"Any\",\"default\":0}]},{\"type\":\"model\",\"name\":\"TemplateEditor1\",\"properties\":[{\"name\":\"layout\",\"kind\":\"Any\",\"default\":[]}]},{\"type\":\"model\",\"name\":\"MaterialTemplateActions1\",\"properties\":[{\"name\":\"open_modal\",\"kind\":\"Any\",\"default\":0},{\"name\":\"close_modal\",\"kind\":\"Any\",\"default\":0}]},{\"type\":\"model\",\"name\":\"ReactiveESM1\"},{\"type\":\"model\",\"name\":\"JSComponent1\"},{\"type\":\"model\",\"name\":\"ReactComponent1\"},{\"type\":\"model\",\"name\":\"AnyWidgetComponent1\"},{\"type\":\"model\",\"name\":\"request_value1\",\"properties\":[{\"name\":\"fill\",\"kind\":\"Any\",\"default\":\"none\"},{\"name\":\"_synced\",\"kind\":\"Any\",\"default\":null},{\"name\":\"_request_sync\",\"kind\":\"Any\",\"default\":0}]}]}};\n",
              "  var render_items = [{\"docid\":\"1bee0d69-63aa-412b-bdff-5c8f72da88d9\",\"roots\":{\"638938d7-1ebf-43b1-ac78-be62318b02c1\":\"c35b7937-e67c-4069-825e-6c8cbb42ab4f\"},\"root_ids\":[\"638938d7-1ebf-43b1-ac78-be62318b02c1\"]}];\n",
              "  var docs = Object.values(docs_json)\n",
              "  if (!docs) {\n",
              "    return\n",
              "  }\n",
              "  const py_version = docs[0].version.replace('rc', '-rc.').replace('.dev', '-dev.')\n",
              "  async function embed_document(root) {\n",
              "    var Bokeh = get_bokeh(root)\n",
              "    await Bokeh.embed.embed_items_notebook(docs_json, render_items);\n",
              "    for (const render_item of render_items) {\n",
              "      for (const root_id of render_item.root_ids) {\n",
              "\tconst id_el = document.getElementById(root_id)\n",
              "\tif (id_el.children.length && id_el.children[0].hasAttribute('data-root-id')) {\n",
              "\t  const root_el = id_el.children[0]\n",
              "\t  root_el.id = root_el.id + '-rendered'\n",
              "\t  for (const child of root_el.children) {\n",
              "            // Ensure JupyterLab does not capture keyboard shortcuts\n",
              "            // see: https://jupyterlab.readthedocs.io/en/4.1.x/extension/notebook.html#keyboard-interaction-model\n",
              "\t    child.setAttribute('data-lm-suppress-shortcuts', 'true')\n",
              "\t  }\n",
              "\t}\n",
              "      }\n",
              "    }\n",
              "  }\n",
              "  function get_bokeh(root) {\n",
              "    if (root.Bokeh === undefined) {\n",
              "      return null\n",
              "    } else if (root.Bokeh.version !== py_version) {\n",
              "      if (root.Bokeh.versions === undefined || !root.Bokeh.versions.has(py_version)) {\n",
              "\treturn null\n",
              "      }\n",
              "      return root.Bokeh.versions.get(py_version);\n",
              "    } else if (root.Bokeh.version === py_version) {\n",
              "      return root.Bokeh\n",
              "    }\n",
              "    return null\n",
              "  }\n",
              "  function is_loaded(root) {\n",
              "    var Bokeh = get_bokeh(root)\n",
              "    return (Bokeh != null && Bokeh.Panel !== undefined && ( root.Tabulator !== undefined) && ( root.Tabulator !== undefined))\n",
              "  }\n",
              "  if (is_loaded(root)) {\n",
              "    embed_document(root);\n",
              "  } else {\n",
              "    var attempts = 0;\n",
              "    var timer = setInterval(function(root) {\n",
              "      if (is_loaded(root)) {\n",
              "        clearInterval(timer);\n",
              "        embed_document(root);\n",
              "      } else if (document.readyState == \"complete\") {\n",
              "        attempts++;\n",
              "        if (attempts > 200) {\n",
              "          clearInterval(timer);\n",
              "\t  var Bokeh = get_bokeh(root)\n",
              "\t  if (Bokeh == null || Bokeh.Panel == null) {\n",
              "            console.warn(\"Panel: ERROR: Unable to run Panel code because Bokeh or Panel library is missing\");\n",
              "\t  } else {\n",
              "\t    console.warn(\"Panel: WARNING: Attempting to render but not all required libraries could be resolved.\")\n",
              "\t    embed_document(root)\n",
              "\t  }\n",
              "        }\n",
              "      }\n",
              "    }, 25, root)\n",
              "  }\n",
              "})(window);</script>"
            ]
          },
          "metadata": {
            "application/vnd.holoviews_exec.v0+json": {
              "id": "638938d7-1ebf-43b1-ac78-be62318b02c1"
            }
          },
          "output_type": "display_data"
        },
        {
          "name": "stderr",
          "output_type": "stream",
          "text": [
            "INFO:slegoapp:Initializing SLEGOApp...\n",
            "INFO:slegoapp:Configuration paths:\n",
            "INFO:slegoapp:  folder_path: /Users/an/Library/CloudStorage/OneDrive-Personal/Documents/GitHub/SLEGO-Project\n",
            "INFO:slegoapp:  functionspace: /Users/an/Library/CloudStorage/OneDrive-Personal/Documents/GitHub/SLEGO-Project/functionspace\n",
            "INFO:slegoapp:  dataspace: /Users/an/Library/CloudStorage/OneDrive-Personal/Documents/GitHub/SLEGO-Project/dataspace\n",
            "INFO:slegoapp:  recordspace: /Users/an/Library/CloudStorage/OneDrive-Personal/Documents/GitHub/SLEGO-Project/recordspace\n",
            "INFO:slegoapp:  knowledgespace: /Users/an/Library/CloudStorage/OneDrive-Personal/Documents/GitHub/SLEGO-Project/knowledgespace\n",
            "INFO:slegoapp:  ontologyspace: /Users/an/Library/CloudStorage/OneDrive-Personal/Documents/GitHub/SLEGO-Project/ontologyspace\n",
            "INFO:slegoapp:Initializing widgets...\n",
            "INFO:slegoapp:Python files available for selection: ['f-sentiment_analysis.py', 'func_autogluon.py', 'func_moving_avg_plot.py', 'f-regression.py', 'f-anomalydetection.py', 'Minhua_trial.py', 'func_financecom.py', 'util.py', 'func_finadvisor.py', 'func_covid19.py', 'llm.py', 'func_data_preprocss.py', 'func_viz.py', 'f-irisclustering.py', 'func_trading.py', 'func_arxiv.py', 'func_eda.py', 'webscrape.py', 'func_hfd.py', 'func_backtest.py', 'func_uci_dataset.py', 'f-image_classificaiton.py', 'func_yfinance.py']\n",
            "INFO:slegoapp:Creating file table...\n",
            "INFO:slegoapp:Selected folder path: /Users/an/Library/CloudStorage/OneDrive-Personal/Documents/GitHub/SLEGO-Project/dataspace\n",
            "INFO:slegoapp:Files in /Users/an/Library/CloudStorage/OneDrive-Personal/Documents/GitHub/SLEGO-Project/dataspace: ['.DS_Store', 'recommendations.xlsx', 'financial_advice.json', 'finance_news.json', 'news.json', 'analyst_data.xlsx', 'analysis_results.json', 'financials.xlsx', 'stock_info.json', 'historical_data.csv', 'analysis_results2.json', 'backtest_stats.csv', 'sustainability.csv', 'moving_avg_cross_signal.csv', 'backtest_returns.csv', 'dataset.csv']\n",
            "INFO:slegoapp:Widgets initialized.\n",
            "INFO:slegoapp:Setting up func module...\n",
            "INFO:slegoapp:Updating functions for selected modules: ['func_yfinance.py']\n",
            "INFO:slegoapp:Function combobox updated based on the selected modules.\n",
            "INFO:slegoapp:Setting up event handlers...\n",
            "INFO:slegoapp:Event handlers set up.\n",
            "INFO:slegoapp:Creating layout...\n",
            "INFO:slegoapp:Layout created.\n",
            "INFO:slegoapp:SLEGOApp initialized.\n",
            "INFO:slegoapp:Running the app...\n",
            "INFO:slegoapp:Loading specified modules: ['func_yfinance.py', 'func_finadvisor.py']\n",
            "INFO:slegoapp:funcfilecombo changed: ['func_yfinance.py', 'func_finadvisor.py']\n",
            "INFO:slegoapp:Updating functions for selected modules: ['func_yfinance.py', 'func_finadvisor.py']\n",
            "INFO:slegoapp:Function combobox updated based on the selected modules.\n",
            "INFO:bokeh.server.server:Starting Bokeh server version 3.6.0 (running on Tornado 6.4.1)\n",
            "INFO:bokeh.server.tornado:User authentication hooks NOT provided (default user enabled)\n",
            "INFO:slegoapp:App is running in non-Colab environment.\n"
          ]
        },
        {
          "name": "stdout",
          "output_type": "stream",
          "text": [
            "Launching server at http://localhost:63225\n"
          ]
        },
        {
          "name": "stderr",
          "output_type": "stream",
          "text": [
            "INFO:tornado.access:200 GET / (::1) 102.59ms\n",
            "INFO:tornado.access:200 GET / (::1) 102.59ms\n",
            "INFO:tornado.access:200 GET /static/extensions/panel/bundled/jsoneditor/jsoneditor@10.0.1/dist/jsoneditor.min.css?v=1.5.3 (::1) 0.63ms\n",
            "INFO:tornado.access:200 GET /static/extensions/panel/bundled/jsoneditor/jsoneditor@10.0.1/dist/jsoneditor.min.css?v=1.5.3 (::1) 0.63ms\n",
            "INFO:tornado.access:200 GET /static/extensions/panel/bundled/reactiveesm/es-module-shims@^1.10.0/dist/es-module-shims.min.js (::1) 0.48ms\n",
            "INFO:tornado.access:200 GET /static/extensions/panel/bundled/reactiveesm/es-module-shims@^1.10.0/dist/es-module-shims.min.js (::1) 0.48ms\n",
            "INFO:tornado.access:200 GET /static/js/bokeh-gl.min.js?v=674dcea77483f8996a069d63e07657e6f744a37d10997e93f172179a5ba5d1c9d7621815eeb5bd909aa463644476c1382f6254b9f387002e9ccfa6e640ddf0bb (::1) 0.58ms\n",
            "INFO:tornado.access:200 GET /static/js/bokeh-gl.min.js?v=674dcea77483f8996a069d63e07657e6f744a37d10997e93f172179a5ba5d1c9d7621815eeb5bd909aa463644476c1382f6254b9f387002e9ccfa6e640ddf0bb (::1) 0.58ms\n",
            "INFO:tornado.access:200 GET /static/js/bokeh-widgets.min.js?v=fbdc924ac6c91fc9327f170e493da343090822b9951b2eaec18e0a2a4811fc5960912ede4066d269976232f7acfcc5b21a36b40b14d357c113cad957eb9cb3a7 (::1) 1.40ms\n",
            "INFO:tornado.access:200 GET /static/js/bokeh-widgets.min.js?v=fbdc924ac6c91fc9327f170e493da343090822b9951b2eaec18e0a2a4811fc5960912ede4066d269976232f7acfcc5b21a36b40b14d357c113cad957eb9cb3a7 (::1) 1.40ms\n",
            "INFO:tornado.access:200 GET /static/extensions/panel/bundled/datatabulator/luxon/build/global/luxon.min.js (::1) 1.72ms\n",
            "INFO:tornado.access:200 GET /static/extensions/panel/bundled/datatabulator/luxon/build/global/luxon.min.js (::1) 1.72ms\n",
            "INFO:tornado.access:200 GET /static/extensions/panel/bundled/jsoneditor/jsoneditor@10.0.1/dist/jsoneditor.min.js (::1) 6.08ms\n",
            "INFO:tornado.access:200 GET /static/extensions/panel/bundled/jsoneditor/jsoneditor@10.0.1/dist/jsoneditor.min.js (::1) 6.08ms\n",
            "INFO:tornado.access:200 GET /static/js/bokeh-tables.min.js?v=676e60ffbaef467a0f8e2321dd663a259b7d45834cb8f2b27597650b8bb80ec0288acae28a58fffa5d504d54d3a99ae27a03b20ad03eec4aa18bf8c8cfb4ec4b (::1) 0.84ms\n",
            "INFO:tornado.access:200 GET /static/js/bokeh-tables.min.js?v=676e60ffbaef467a0f8e2321dd663a259b7d45834cb8f2b27597650b8bb80ec0288acae28a58fffa5d504d54d3a99ae27a03b20ad03eec4aa18bf8c8cfb4ec4b (::1) 0.84ms\n",
            "INFO:tornado.access:200 GET /static/extensions/panel/bundled/datatabulator/tabulator-tables@6.3.0/dist/css/tabulator_materialize.min.css?v=1.5.3 (::1) 1.32ms\n",
            "INFO:tornado.access:200 GET /static/extensions/panel/bundled/datatabulator/tabulator-tables@6.3.0/dist/css/tabulator_materialize.min.css?v=1.5.3 (::1) 1.32ms\n",
            "INFO:tornado.access:200 GET /static/extensions/panel/css/loadingspinner.css?v=1.5.3 (::1) 2.43ms\n",
            "INFO:tornado.access:200 GET /static/extensions/panel/css/loadingspinner.css?v=1.5.3 (::1) 2.43ms\n",
            "INFO:tornado.access:200 GET /static/extensions/panel/bundled/datatabulator/tabulator-tables@6.3.0/dist/js/tabulator.min.js (::1) 8.53ms\n",
            "INFO:tornado.access:200 GET /static/extensions/panel/bundled/datatabulator/tabulator-tables@6.3.0/dist/js/tabulator.min.js (::1) 8.53ms\n",
            "INFO:tornado.access:200 GET /static/extensions/panel/css/listpanel.css?v=1.5.3 (::1) 0.56ms\n",
            "INFO:tornado.access:200 GET /static/extensions/panel/css/listpanel.css?v=1.5.3 (::1) 0.56ms\n",
            "INFO:tornado.access:200 GET /static/extensions/panel/css/select.css?v=1.5.3 (::1) 1.07ms\n",
            "INFO:tornado.access:200 GET /static/extensions/panel/css/select.css?v=1.5.3 (::1) 1.07ms\n",
            "INFO:tornado.access:200 GET /static/extensions/panel/css/button.css?v=1.5.3 (::1) 0.70ms\n",
            "INFO:tornado.access:200 GET /static/extensions/panel/css/button.css?v=1.5.3 (::1) 0.70ms\n",
            "INFO:tornado.access:200 GET /static/extensions/panel/css/divider.css?v=1.5.3 (::1) 1.19ms\n",
            "INFO:tornado.access:200 GET /static/extensions/panel/css/divider.css?v=1.5.3 (::1) 1.19ms\n",
            "INFO:tornado.access:200 GET /static/extensions/panel/panel.min.js?v=cb15f694f3edd9a5af95a4db2f10b1bedbf88332acff2c170b95daf41bd14362 (::1) 8.10ms\n",
            "INFO:tornado.access:200 GET /static/extensions/panel/panel.min.js?v=cb15f694f3edd9a5af95a4db2f10b1bedbf88332acff2c170b95daf41bd14362 (::1) 8.10ms\n",
            "INFO:tornado.access:200 GET /static/js/bokeh.min.js?v=de958ab1870cd066dba119c34f40c5e1ca4af9c0d31988f4020e6c49a056838b8968f69e29f359fb6dae256aed026344b1797302c230126c662521f0895deb32 (::1) 14.30ms\n",
            "INFO:tornado.access:200 GET /static/js/bokeh.min.js?v=de958ab1870cd066dba119c34f40c5e1ca4af9c0d31988f4020e6c49a056838b8968f69e29f359fb6dae256aed026344b1797302c230126c662521f0895deb32 (::1) 14.30ms\n",
            "INFO:tornado.access:200 GET /static/extensions/panel/bundled/font-awesome/css/all.min.css?v=1.5.3 (::1) 1.47ms\n",
            "INFO:tornado.access:200 GET /static/extensions/panel/bundled/font-awesome/css/all.min.css?v=1.5.3 (::1) 1.47ms\n",
            "INFO:tornado.access:200 GET /static/extensions/panel/css/loading.css?v=1.5.3 (::1) 1.99ms\n",
            "INFO:tornado.access:200 GET /static/extensions/panel/css/loading.css?v=1.5.3 (::1) 1.99ms\n",
            "INFO:tornado.access:200 GET /static/extensions/panel/bundled/material-components-web@7.0.0/dist/material-components-web.min.css (::1) 1.22ms\n",
            "INFO:tornado.access:200 GET /static/extensions/panel/bundled/material-components-web@7.0.0/dist/material-components-web.min.css (::1) 1.22ms\n",
            "INFO:tornado.access:200 GET /static/extensions/panel/bundled/theme/default.css?v=1.5.3 (::1) 1.86ms\n",
            "INFO:tornado.access:200 GET /static/extensions/panel/bundled/theme/default.css?v=1.5.3 (::1) 1.86ms\n",
            "INFO:tornado.access:200 GET /static/extensions/panel/bundled/theme/material_variables.css?v=1.5.3 (::1) 2.55ms\n",
            "INFO:tornado.access:200 GET /static/extensions/panel/bundled/theme/material_variables.css?v=1.5.3 (::1) 2.55ms\n",
            "INFO:tornado.access:200 GET /static/extensions/panel/bundled/materialtemplate/material.css?v=1.5.3 (::1) 0.92ms\n",
            "INFO:tornado.access:200 GET /static/extensions/panel/bundled/materialtemplate/material.css?v=1.5.3 (::1) 0.92ms\n",
            "INFO:tornado.access:200 GET /static/extensions/panel/bundled/material-components-web@7.0.0/dist/material-components-web.min.js (::1) 1.71ms\n",
            "INFO:tornado.access:200 GET /static/extensions/panel/bundled/material-components-web@7.0.0/dist/material-components-web.min.js (::1) 1.71ms\n",
            "INFO:tornado.access:200 GET /static/extensions/panel/images/favicon.ico (::1) 0.76ms\n",
            "INFO:tornado.access:200 GET /static/extensions/panel/images/favicon.ico (::1) 0.76ms\n",
            "INFO:tornado.access:101 GET /ws (::1) 0.58ms\n",
            "INFO:tornado.access:101 GET /ws (::1) 0.58ms\n",
            "INFO:bokeh.server.views.ws:WebSocket connection opened\n",
            "INFO:bokeh.server.views.ws:ServerConnection created\n",
            "INFO:tornado.access:200 GET /static/extensions/panel/bundled/theme/material.css?v=1.5.3 (::1) 0.67ms\n",
            "INFO:tornado.access:200 GET /static/extensions/panel/bundled/theme/material.css?v=1.5.3 (::1) 0.67ms\n",
            "INFO:tornado.access:200 GET /static/extensions/panel/bundled/jsoneditor/jsoneditor@10.0.1/dist/img/jsoneditor-icons.svg (::1) 0.44ms\n",
            "INFO:tornado.access:200 GET /static/extensions/panel/bundled/jsoneditor/jsoneditor@10.0.1/dist/img/jsoneditor-icons.svg (::1) 0.44ms\n",
            "INFO:slegoapp:funccombo changed: ['func_yfinance.import_marketdata_yahoo_csv']\n",
            "INFO:slegoapp:Selected functions: ['func_yfinance.import_marketdata_yahoo_csv']\n",
            "INFO:slegoapp:JSON editor changed.\n",
            "INFO:slegoapp:Input text changed.\n",
            "INFO:slegoapp:Compute button clicked.\n",
            "INFO:slegoapp:Pipeline dict: {'func_yfinance.import_marketdata_yahoo_csv': {'ticker': 'msft', 'start_date': '2023-11-01', 'end_date': '2024-10-31', 'output_file_path': 'dataspace/dataset.csv'}}\n",
            "INFO:slegoapp:Computing func_yfinance.import_marketdata_yahoo_csv with parameters {'ticker': 'msft', 'start_date': '2023-11-01', 'end_date': '2024-10-31', 'output_file_path': 'dataspace/dataset.csv'}\n",
            "INFO:slegoapp:Function func_yfinance.import_marketdata_yahoo_csv computed successfully.\n",
            "INFO:slegoapp:Record saved to /Users/an/Library/CloudStorage/OneDrive-Personal/Documents/GitHub/SLEGO-Project/recordspace/record_20241031_042940.json\n",
            "INFO:slegoapp:Refreshing file table...\n",
            "INFO:slegoapp:File folder confirm button clicked.\n",
            "INFO:slegoapp:Updated file table with files from /Users/an/Library/CloudStorage/OneDrive-Personal/Documents/GitHub/SLEGO-Project/dataspace\n",
            "INFO:slegoapp:Refreshing file table...\n"
          ]
        }
      ],
      "source": [
        "\n",
        "import panel as pn\n",
        "\n",
        "# Kill all existing servers\n",
        "pn.state.kill_all_servers()\n",
        "\n",
        "\n",
        "import slegoapp\n",
        "# Create and run the new app\n",
        "slego_app = slegoapp.SLEGOApp(config)\n",
        "slego_app.run([ \"func_yfinance.py\", \"func_finadvisor.py\"])"
      ]
    },
    {
      "cell_type": "code",
      "execution_count": null,
      "metadata": {},
      "outputs": [],
      "source": []
    }
  ],
  "metadata": {
    "colab": {
      "include_colab_link": true,
      "provenance": []
    },
    "kernelspec": {
      "display_name": "Python 3",
      "name": "python3"
    },
    "language_info": {
      "codemirror_mode": {
        "name": "ipython",
        "version": 3
      },
      "file_extension": ".py",
      "mimetype": "text/x-python",
      "name": "python",
      "nbconvert_exporter": "python",
      "pygments_lexer": "ipython3",
      "version": "3.10.14"
    }
  },
  "nbformat": 4,
  "nbformat_minor": 0
}
