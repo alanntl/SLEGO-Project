{
  "cells": [
    {
      "cell_type": "markdown",
      "metadata": {
        "id": "DlOV4N79Fwrf"
      },
      "source": [
        "# SLEGO Project: UNSW CSE PhD Research - Alan Siu Lung Ng\n",
        "https://github.com/alanntl/SLEGO-Project"
      ]
    },
    {
      "cell_type": "code",
      "execution_count": 4,
      "metadata": {},
      "outputs": [
        {
          "name": "stdout",
          "output_type": "stream",
          "text": [
            "Starting environment setup...\n",
            "Getting environment configuration...\n",
            "Detecting environment...\n",
            "Environment detected: Local Jupyter\n",
            "Setting up configuration for Local or GitHub Codespaces environment.\n",
            "\n",
            "Configuration settings:\n",
            "  drive_folder: /Users/an/Library/CloudStorage/OneDrive-Personal/Documents/GitHub/SLEGO-Project/slegospace\n",
            "  drive_mainfolder: /Users/an/Library/CloudStorage/OneDrive-Personal/Documents/GitHub/SLEGO-Project/slegospace\n",
            "  use_local_repo: True\n",
            "  local_repo_path: /Users/an/Library/CloudStorage/OneDrive-Personal/Documents/GitHub/SLEGO-Project/slegospace\n",
            "  folder_path: /Users/an/Library/CloudStorage/OneDrive-Personal/Documents/GitHub/SLEGO-Project/slegospace\n",
            "  dataspace: /Users/an/Library/CloudStorage/OneDrive-Personal/Documents/GitHub/SLEGO-Project/slegospace/dataspace\n",
            "  recordspace: /Users/an/Library/CloudStorage/OneDrive-Personal/Documents/GitHub/SLEGO-Project/slegospace/recordspace\n",
            "  functionspace: /Users/an/Library/CloudStorage/OneDrive-Personal/Documents/GitHub/SLEGO-Project/slegospace/functionspace\n",
            "  knowledgespace: /Users/an/Library/CloudStorage/OneDrive-Personal/Documents/GitHub/SLEGO-Project/slegospace/knowledgespace\n",
            "  ontologyspace: /Users/an/Library/CloudStorage/OneDrive-Personal/Documents/GitHub/SLEGO-Project/slegospace/ontologyspace\n",
            "\n",
            "Setting up workspace folders...\n",
            "Already in a valid workspace. No changes needed.\n",
            "Environment setup completed.\n"
          ]
        }
      ],
      "source": [
        "# First, import the environment_setup module\n",
        "import environment_setup\n",
        "import os\n",
        "# see current filder\n",
        "os.getcwd()\n",
        "repo_path = os.getcwd()\n",
        "\n",
        "# Setup environment with explicit local_repo_path\n",
        "config = environment_setup.setup_environment(use_local_repo=True, local_repo_path=repo_path)\n"
      ]
    },
    {
      "cell_type": "markdown",
      "metadata": {
        "id": "xaXV8VuIX15o"
      },
      "source": [
        "# SLEGO APP"
      ]
    },
    {
      "cell_type": "code",
      "execution_count": 5,
      "metadata": {},
      "outputs": [
        {
          "data": {
            "text/plain": [
              "{'drive_folder': '/Users/an/Library/CloudStorage/OneDrive-Personal/Documents/GitHub/SLEGO-Project/slegospace',\n",
              " 'drive_mainfolder': '/Users/an/Library/CloudStorage/OneDrive-Personal/Documents/GitHub/SLEGO-Project/slegospace',\n",
              " 'use_local_repo': True,\n",
              " 'local_repo_path': '/Users/an/Library/CloudStorage/OneDrive-Personal/Documents/GitHub/SLEGO-Project/slegospace',\n",
              " 'folder_path': '/Users/an/Library/CloudStorage/OneDrive-Personal/Documents/GitHub/SLEGO-Project/slegospace',\n",
              " 'dataspace': '/Users/an/Library/CloudStorage/OneDrive-Personal/Documents/GitHub/SLEGO-Project/slegospace/dataspace',\n",
              " 'recordspace': '/Users/an/Library/CloudStorage/OneDrive-Personal/Documents/GitHub/SLEGO-Project/slegospace/recordspace',\n",
              " 'functionspace': '/Users/an/Library/CloudStorage/OneDrive-Personal/Documents/GitHub/SLEGO-Project/slegospace/functionspace',\n",
              " 'knowledgespace': '/Users/an/Library/CloudStorage/OneDrive-Personal/Documents/GitHub/SLEGO-Project/slegospace/knowledgespace',\n",
              " 'ontologyspace': '/Users/an/Library/CloudStorage/OneDrive-Personal/Documents/GitHub/SLEGO-Project/slegospace/ontologyspace'}"
            ]
          },
          "metadata": {},
          "output_type": "display_data"
        }
      ],
      "source": [
        "display(config)"
      ]
    },
    {
      "cell_type": "code",
      "execution_count": null,
      "metadata": {},
      "outputs": [
        {
          "name": "stderr",
          "output_type": "stream",
          "text": [
            "INFO:slegoapp:Initializing SLEGOApp...\n",
            "INFO:slegoapp:Configuration paths:\n",
            "INFO:slegoapp:  folder_path: /Users/an/Library/CloudStorage/OneDrive-Personal/Documents/GitHub/SLEGO-Project/slegospace\n",
            "INFO:slegoapp:  functionspace: /Users/an/Library/CloudStorage/OneDrive-Personal/Documents/GitHub/SLEGO-Project/slegospace/functionspace\n",
            "INFO:slegoapp:  dataspace: /Users/an/Library/CloudStorage/OneDrive-Personal/Documents/GitHub/SLEGO-Project/slegospace/dataspace\n",
            "INFO:slegoapp:  recordspace: /Users/an/Library/CloudStorage/OneDrive-Personal/Documents/GitHub/SLEGO-Project/slegospace/recordspace\n",
            "INFO:slegoapp:  knowledgespace: /Users/an/Library/CloudStorage/OneDrive-Personal/Documents/GitHub/SLEGO-Project/slegospace/knowledgespace\n",
            "INFO:slegoapp:  ontologyspace: /Users/an/Library/CloudStorage/OneDrive-Personal/Documents/GitHub/SLEGO-Project/slegospace/ontologyspace\n",
            "INFO:slegoapp:Initializing widgets...\n",
            "INFO:slegoapp:Python files available for selection: ['f-sentiment_analysis.py', 'func_autogluon.py', 'func_moving_avg_plot.py', 'f-regression.py', 'f-anomalydetection.py', 'Minhua_trial.py', 'func_financecom.py', 'util.py', 'func_finadvisor.py', 'func_covid19.py', 'llm.py', 'func_data_preprocss.py', 'func_viz.py', 'f-irisclustering.py', 'func_trading.py', 'func_arxiv.py', 'func_eda.py', 'webscrape.py', 'func_hfd.py', 'func_backtest.py', 'func_uci_dataset.py', 'f-image_classificaiton.py', 'func_yfinance.py']\n",
            "INFO:slegoapp:Creating file table...\n",
            "INFO:slegoapp:Selected folder path: /Users/an/Library/CloudStorage/OneDrive-Personal/Documents/GitHub/SLEGO-Project/slegospace/dataspace\n",
            "INFO:slegoapp:Files in /Users/an/Library/CloudStorage/OneDrive-Personal/Documents/GitHub/SLEGO-Project/slegospace/dataspace: ['dataset.csv']\n",
            "INFO:slegoapp:Widgets initialized.\n",
            "INFO:slegoapp:Setting up func module...\n",
            "INFO:slegoapp:Updating functions for selected modules: ['func_yfinance.py']\n",
            "INFO:slegoapp:Function combobox updated based on the selected modules.\n",
            "INFO:slegoapp:Setting up event handlers...\n",
            "INFO:slegoapp:Event handlers set up.\n",
            "INFO:slegoapp:Creating layout...\n",
            "INFO:slegoapp:Layout created.\n",
            "INFO:slegoapp:SLEGOApp initialized.\n",
            "INFO:slegoapp:Running the app...\n",
            "INFO:slegoapp:Loading specified modules: ['func_yfinance.py']\n",
            "INFO:bokeh.server.server:Starting Bokeh server version 3.6.0 (running on Tornado 6.4.1)\n",
            "INFO:bokeh.server.tornado:User authentication hooks NOT provided (default user enabled)\n",
            "INFO:slegoapp:App is running in non-Colab environment.\n"
          ]
        },
        {
          "name": "stdout",
          "output_type": "stream",
          "text": [
            "Launching server at http://localhost:57216\n"
          ]
        },
        {
          "name": "stderr",
          "output_type": "stream",
          "text": [
            "INFO:tornado.access:200 GET / (::1) 77.61ms\n",
            "INFO:tornado.access:200 GET / (::1) 77.61ms\n",
            "INFO:tornado.access:200 GET /static/extensions/panel/bundled/jsoneditor/jsoneditor@10.0.1/dist/jsoneditor.min.css?v=1.5.3 (::1) 0.59ms\n",
            "INFO:tornado.access:200 GET /static/extensions/panel/bundled/jsoneditor/jsoneditor@10.0.1/dist/jsoneditor.min.css?v=1.5.3 (::1) 0.59ms\n",
            "INFO:tornado.access:200 GET /static/extensions/panel/bundled/datatabulator/tabulator-tables@6.3.0/dist/css/tabulator_materialize.min.css?v=1.5.3 (::1) 0.54ms\n",
            "INFO:tornado.access:200 GET /static/extensions/panel/bundled/datatabulator/tabulator-tables@6.3.0/dist/css/tabulator_materialize.min.css?v=1.5.3 (::1) 0.54ms\n",
            "INFO:tornado.access:200 GET /static/js/bokeh-gl.min.js?v=674dcea77483f8996a069d63e07657e6f744a37d10997e93f172179a5ba5d1c9d7621815eeb5bd909aa463644476c1382f6254b9f387002e9ccfa6e640ddf0bb (::1) 0.93ms\n",
            "INFO:tornado.access:200 GET /static/js/bokeh-gl.min.js?v=674dcea77483f8996a069d63e07657e6f744a37d10997e93f172179a5ba5d1c9d7621815eeb5bd909aa463644476c1382f6254b9f387002e9ccfa6e640ddf0bb (::1) 0.93ms\n",
            "INFO:tornado.access:200 GET /static/extensions/panel/bundled/reactiveesm/es-module-shims@^1.10.0/dist/es-module-shims.min.js (::1) 1.79ms\n",
            "INFO:tornado.access:200 GET /static/extensions/panel/bundled/reactiveesm/es-module-shims@^1.10.0/dist/es-module-shims.min.js (::1) 1.79ms\n",
            "INFO:tornado.access:200 GET /static/extensions/panel/bundled/datatabulator/luxon/build/global/luxon.min.js (::1) 2.05ms\n",
            "INFO:tornado.access:200 GET /static/extensions/panel/bundled/datatabulator/luxon/build/global/luxon.min.js (::1) 2.05ms\n",
            "INFO:tornado.access:200 GET /static/js/bokeh-widgets.min.js?v=fbdc924ac6c91fc9327f170e493da343090822b9951b2eaec18e0a2a4811fc5960912ede4066d269976232f7acfcc5b21a36b40b14d357c113cad957eb9cb3a7 (::1) 1.00ms\n",
            "INFO:tornado.access:200 GET /static/js/bokeh-widgets.min.js?v=fbdc924ac6c91fc9327f170e493da343090822b9951b2eaec18e0a2a4811fc5960912ede4066d269976232f7acfcc5b21a36b40b14d357c113cad957eb9cb3a7 (::1) 1.00ms\n",
            "INFO:tornado.access:200 GET /static/js/bokeh-tables.min.js?v=676e60ffbaef467a0f8e2321dd663a259b7d45834cb8f2b27597650b8bb80ec0288acae28a58fffa5d504d54d3a99ae27a03b20ad03eec4aa18bf8c8cfb4ec4b (::1) 1.96ms\n",
            "INFO:tornado.access:200 GET /static/js/bokeh-tables.min.js?v=676e60ffbaef467a0f8e2321dd663a259b7d45834cb8f2b27597650b8bb80ec0288acae28a58fffa5d504d54d3a99ae27a03b20ad03eec4aa18bf8c8cfb4ec4b (::1) 1.96ms\n",
            "INFO:tornado.access:200 GET /static/js/bokeh.min.js?v=de958ab1870cd066dba119c34f40c5e1ca4af9c0d31988f4020e6c49a056838b8968f69e29f359fb6dae256aed026344b1797302c230126c662521f0895deb32 (::1) 7.12ms\n",
            "INFO:tornado.access:200 GET /static/js/bokeh.min.js?v=de958ab1870cd066dba119c34f40c5e1ca4af9c0d31988f4020e6c49a056838b8968f69e29f359fb6dae256aed026344b1797302c230126c662521f0895deb32 (::1) 7.12ms\n",
            "INFO:tornado.access:200 GET /static/extensions/panel/bundled/jsoneditor/jsoneditor@10.0.1/dist/jsoneditor.min.js (::1) 8.05ms\n",
            "INFO:tornado.access:200 GET /static/extensions/panel/bundled/jsoneditor/jsoneditor@10.0.1/dist/jsoneditor.min.js (::1) 8.05ms\n",
            "INFO:tornado.access:200 GET /static/extensions/panel/bundled/datatabulator/tabulator-tables@6.3.0/dist/js/tabulator.min.js (::1) 8.90ms\n",
            "INFO:tornado.access:200 GET /static/extensions/panel/bundled/datatabulator/tabulator-tables@6.3.0/dist/js/tabulator.min.js (::1) 8.90ms\n",
            "INFO:tornado.access:200 GET /static/extensions/panel/css/loadingspinner.css?v=1.5.3 (::1) 0.88ms\n",
            "INFO:tornado.access:200 GET /static/extensions/panel/css/loadingspinner.css?v=1.5.3 (::1) 0.88ms\n",
            "INFO:tornado.access:200 GET /static/extensions/panel/css/listpanel.css?v=1.5.3 (::1) 1.66ms\n",
            "INFO:tornado.access:200 GET /static/extensions/panel/css/listpanel.css?v=1.5.3 (::1) 1.66ms\n",
            "INFO:tornado.access:200 GET /static/extensions/panel/css/select.css?v=1.5.3 (::1) 0.87ms\n",
            "INFO:tornado.access:200 GET /static/extensions/panel/css/select.css?v=1.5.3 (::1) 0.87ms\n",
            "INFO:tornado.access:200 GET /static/extensions/panel/css/button.css?v=1.5.3 (::1) 1.45ms\n",
            "INFO:tornado.access:200 GET /static/extensions/panel/css/button.css?v=1.5.3 (::1) 1.45ms\n",
            "INFO:tornado.access:200 GET /static/extensions/panel/css/divider.css?v=1.5.3 (::1) 2.23ms\n",
            "INFO:tornado.access:200 GET /static/extensions/panel/css/divider.css?v=1.5.3 (::1) 2.23ms\n",
            "INFO:tornado.access:200 GET /static/extensions/panel/panel.min.js?v=cb15f694f3edd9a5af95a4db2f10b1bedbf88332acff2c170b95daf41bd14362 (::1) 9.79ms\n",
            "INFO:tornado.access:200 GET /static/extensions/panel/panel.min.js?v=cb15f694f3edd9a5af95a4db2f10b1bedbf88332acff2c170b95daf41bd14362 (::1) 9.79ms\n",
            "INFO:tornado.access:200 GET /static/extensions/panel/bundled/font-awesome/css/all.min.css?v=1.5.3 (::1) 0.77ms\n",
            "INFO:tornado.access:200 GET /static/extensions/panel/bundled/font-awesome/css/all.min.css?v=1.5.3 (::1) 0.77ms\n",
            "INFO:tornado.access:200 GET /static/extensions/panel/css/loading.css?v=1.5.3 (::1) 1.40ms\n",
            "INFO:tornado.access:200 GET /static/extensions/panel/css/loading.css?v=1.5.3 (::1) 1.40ms\n",
            "INFO:tornado.access:200 GET /static/extensions/panel/bundled/material-components-web@7.0.0/dist/material-components-web.min.css (::1) 1.12ms\n",
            "INFO:tornado.access:200 GET /static/extensions/panel/bundled/material-components-web@7.0.0/dist/material-components-web.min.css (::1) 1.12ms\n",
            "INFO:tornado.access:200 GET /static/extensions/panel/bundled/theme/default.css?v=1.5.3 (::1) 1.80ms\n",
            "INFO:tornado.access:200 GET /static/extensions/panel/bundled/theme/default.css?v=1.5.3 (::1) 1.80ms\n",
            "INFO:tornado.access:200 GET /static/extensions/panel/bundled/theme/material_variables.css?v=1.5.3 (::1) 2.55ms\n",
            "INFO:tornado.access:200 GET /static/extensions/panel/bundled/theme/material_variables.css?v=1.5.3 (::1) 2.55ms\n",
            "INFO:tornado.access:200 GET /static/extensions/panel/bundled/materialtemplate/material.css?v=1.5.3 (::1) 3.21ms\n",
            "INFO:tornado.access:200 GET /static/extensions/panel/bundled/materialtemplate/material.css?v=1.5.3 (::1) 3.21ms\n",
            "INFO:tornado.access:200 GET /static/extensions/panel/bundled/material-components-web@7.0.0/dist/material-components-web.min.js (::1) 0.68ms\n",
            "INFO:tornado.access:200 GET /static/extensions/panel/bundled/material-components-web@7.0.0/dist/material-components-web.min.js (::1) 0.68ms\n",
            "INFO:tornado.access:200 GET /static/extensions/panel/images/favicon.ico (::1) 0.54ms\n",
            "INFO:tornado.access:200 GET /static/extensions/panel/images/favicon.ico (::1) 0.54ms\n",
            "INFO:tornado.access:101 GET /ws (::1) 0.34ms\n",
            "INFO:tornado.access:101 GET /ws (::1) 0.34ms\n",
            "INFO:bokeh.server.views.ws:WebSocket connection opened\n",
            "INFO:bokeh.server.views.ws:ServerConnection created\n",
            "INFO:tornado.access:200 GET /static/extensions/panel/bundled/theme/material.css?v=1.5.3 (::1) 0.55ms\n",
            "INFO:tornado.access:200 GET /static/extensions/panel/bundled/theme/material.css?v=1.5.3 (::1) 0.55ms\n",
            "INFO:tornado.access:200 GET /static/extensions/panel/bundled/jsoneditor/jsoneditor@10.0.1/dist/img/jsoneditor-icons.svg (::1) 0.76ms\n",
            "INFO:tornado.access:200 GET /static/extensions/panel/bundled/jsoneditor/jsoneditor@10.0.1/dist/img/jsoneditor-icons.svg (::1) 0.76ms\n",
            "INFO:bokeh.server.views.ws:WebSocket connection closed: code=1001, reason=None\n"
          ]
        }
      ],
      "source": [
        "import slegoapp\n",
        "import panel as pn\n",
        "\n",
        "# Kill all existing servers\n",
        "pn.state.kill_all_servers()\n",
        "\n",
        "# Create and run the new app\n",
        "slego_app = slegoapp.SLEGOApp(config)\n",
        "slego_app.run([ \"func_yfinance.py\"])"
      ]
    },
    {
      "cell_type": "code",
      "execution_count": null,
      "metadata": {},
      "outputs": [],
      "source": []
    }
  ],
  "metadata": {
    "colab": {
      "include_colab_link": true,
      "provenance": []
    },
    "kernelspec": {
      "display_name": "Python 3",
      "name": "python3"
    },
    "language_info": {
      "codemirror_mode": {
        "name": "ipython",
        "version": 3
      },
      "file_extension": ".py",
      "mimetype": "text/x-python",
      "name": "python",
      "nbconvert_exporter": "python",
      "pygments_lexer": "ipython3",
      "version": "3.10.14"
    }
  },
  "nbformat": 4,
  "nbformat_minor": 0
}
